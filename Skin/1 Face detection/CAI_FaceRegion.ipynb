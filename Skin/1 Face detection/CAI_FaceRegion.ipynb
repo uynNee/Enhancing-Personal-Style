{
 "cells": [
  {
   "cell_type": "markdown",
   "metadata": {},
   "source": [
    " ## 얼굴 전체색을 대표하는 안면부위 관련 가설검증\n",
    " \n",
    "    최초 작성일 : 2020/03/08\n",
    "    작성자 : 조예슬 \n",
    "    \n",
    "    + 카이제곱\n",
    "      : 범주형 자료로 구성된 데이터 분석에 이용\n",
    "      : 적합도 검정 : 관찰된 비율값이 기대값과 같은지 조사하는 검정(어떤 모집단의 표본이 그 모집단을 대표하는지 검정)\n",
    "      : 동질성 검정 : 두 집단의 분포가 동일한지 검정\n",
    "          : 독립성 검정 : 두 개 이상의 변수가 서로 독립인지 검정 \n",
    " \n",
    "    < 작성 내용 >\n",
    "    \n",
    "        - 설문조사 결과 그래프로 시각화\n",
    "        \n",
    "        - 성별에 따른 안면부위 인식 차이\n",
    "        \n",
    "        - 연령에 따른 안면부위 인식 차이\n",
    "        \n",
    "        - 패션 관심도에 따른 안면부위 인식 차이\n",
    "        \n",
    "        \n",
    "    < 수정 내용 >\n",
    "    \n",
    "        20/03/21\n",
    "        - 귀무가설, 대립가설 내용 수정"
   ]
  },
  {
   "cell_type": "code",
   "execution_count": null,
   "metadata": {},
   "outputs": [],
   "source": []
  },
  {
   "cell_type": "markdown",
   "metadata": {},
   "source": [
    "### 설문조사 결과를 토대로 얼굴 전체색 대표 안면부위 설정"
   ]
  },
  {
   "cell_type": "code",
   "execution_count": 1,
   "metadata": {},
   "outputs": [
    {
     "name": "stdout",
     "output_type": "stream",
     "text": [
      "'data.frame':\t1680 obs. of  4 variables:\n",
      " $ X     : int  0 1 2 3 4 5 6 7 8 9 ...\n",
      " $ region: Factor w/ 5 levels \"cheek\",\"chin\",..: 1 5 4 5 2 5 2 5 1 2 ...\n",
      " $ class : Factor w/ 4 levels \"sample1\",\"sample2\",..: 1 1 1 1 1 1 1 1 1 1 ...\n",
      " $ cnt   : int  1 1 1 1 1 1 1 1 1 1 ...\n"
     ]
    },
    {
     "data": {
      "text/html": [
       "<table>\n",
       "<thead><tr><th scope=col>X</th><th scope=col>region</th><th scope=col>class</th><th scope=col>cnt</th></tr></thead>\n",
       "<tbody>\n",
       "\t<tr><td>0       </td><td>cheek   </td><td>sample1 </td><td>1       </td></tr>\n",
       "\t<tr><td>1       </td><td>forehead</td><td>sample1 </td><td>1       </td></tr>\n",
       "\t<tr><td>2       </td><td>face    </td><td>sample1 </td><td>1       </td></tr>\n",
       "\t<tr><td>3       </td><td>forehead</td><td>sample1 </td><td>1       </td></tr>\n",
       "\t<tr><td>4       </td><td>chin    </td><td>sample1 </td><td>1       </td></tr>\n",
       "\t<tr><td>5       </td><td>forehead</td><td>sample1 </td><td>1       </td></tr>\n",
       "</tbody>\n",
       "</table>\n"
      ],
      "text/latex": [
       "\\begin{tabular}{r|llll}\n",
       " X & region & class & cnt\\\\\n",
       "\\hline\n",
       "\t 0        & cheek    & sample1  & 1       \\\\\n",
       "\t 1        & forehead & sample1  & 1       \\\\\n",
       "\t 2        & face     & sample1  & 1       \\\\\n",
       "\t 3        & forehead & sample1  & 1       \\\\\n",
       "\t 4        & chin     & sample1  & 1       \\\\\n",
       "\t 5        & forehead & sample1  & 1       \\\\\n",
       "\\end{tabular}\n"
      ],
      "text/markdown": [
       "\n",
       "| X | region | class | cnt |\n",
       "|---|---|---|---|\n",
       "| 0        | cheek    | sample1  | 1        |\n",
       "| 1        | forehead | sample1  | 1        |\n",
       "| 2        | face     | sample1  | 1        |\n",
       "| 3        | forehead | sample1  | 1        |\n",
       "| 4        | chin     | sample1  | 1        |\n",
       "| 5        | forehead | sample1  | 1        |\n",
       "\n"
      ],
      "text/plain": [
       "  X region   class   cnt\n",
       "1 0 cheek    sample1 1  \n",
       "2 1 forehead sample1 1  \n",
       "3 2 face     sample1 1  \n",
       "4 3 forehead sample1 1  \n",
       "5 4 chin     sample1 1  \n",
       "6 5 forehead sample1 1  "
      ]
     },
     "metadata": {},
     "output_type": "display_data"
    }
   ],
   "source": [
    "# 데이터 불러오기\n",
    "\n",
    "face_region <- read.csv(\"C:/Users/cho ye seul/Documents/예슬/Acorn/FinalProject/Statistical Analysis/face_region.csv\")\n",
    "str(face_region)\n",
    "head(face_region)"
   ]
  },
  {
   "cell_type": "code",
   "execution_count": 16,
   "metadata": {},
   "outputs": [
    {
     "data": {
      "image/png": "[encoded data removed]",
      "text/plain": [
       "plot without title"
      ]
     },
     "metadata": {},
     "output_type": "display_data"
    }
   ],
   "source": [
    "# 그래프로 상태 먼저 확인\n",
    "\n",
    "# install.packages(\"ggplot2\")\n",
    "library(\"ggplot2\")\n",
    "\n",
    "# 각 샘플마다 나눠서 보기\n",
    "ggplot(face_region, aes(class, fill=region)) + geom_bar(position=\"dodge\") + labs(title = \"Representative Face Region\")\n",
    "# 어떻게 이렇게까지 결과 일치가 안되냐ㅋㅋㅋㅋㅋ"
   ]
  },
  {
   "cell_type": "code",
   "execution_count": 52,
   "metadata": {},
   "outputs": [
    {
     "data": {
      "text/html": [
       "<table>\n",
       "<thead><tr><th scope=col>face_region</th><th scope=col>total</th></tr></thead>\n",
       "<tbody>\n",
       "\t<tr><td>cheek   </td><td>387     </td></tr>\n",
       "\t<tr><td>forehead</td><td>476     </td></tr>\n",
       "\t<tr><td>chin    </td><td>487     </td></tr>\n",
       "\t<tr><td>eyes    </td><td>131     </td></tr>\n",
       "\t<tr><td>face    </td><td>199     </td></tr>\n",
       "</tbody>\n",
       "</table>\n"
      ],
      "text/latex": [
       "\\begin{tabular}{r|ll}\n",
       " face\\_region & total\\\\\n",
       "\\hline\n",
       "\t cheek    & 387     \\\\\n",
       "\t forehead & 476     \\\\\n",
       "\t chin     & 487     \\\\\n",
       "\t eyes     & 131     \\\\\n",
       "\t face     & 199     \\\\\n",
       "\\end{tabular}\n"
      ],
      "text/markdown": [
       "\n",
       "| face_region | total |\n",
       "|---|---|\n",
       "| cheek    | 387      |\n",
       "| forehead | 476      |\n",
       "| chin     | 487      |\n",
       "| eyes     | 131      |\n",
       "| face     | 199      |\n",
       "\n"
      ],
      "text/plain": [
       "  face_region total\n",
       "1 cheek       387  \n",
       "2 forehead    476  \n",
       "3 chin        487  \n",
       "4 eyes        131  \n",
       "5 face        199  "
      ]
     },
     "metadata": {},
     "output_type": "display_data"
    }
   ],
   "source": [
    "# 전체결과보기 위한 dataframe 새로 만들기\n",
    "\n",
    "t_cheek <- with(face_region, sum(cnt[region== \"cheek\"]))\n",
    "t_forehead <- with(face_region, sum(cnt[region== \"forehead\"]))\n",
    "t_chin <- with(face_region, sum(cnt[region== \"chin\"]))\n",
    "t_eyes <- with(face_region, sum(cnt[region== \"eyes\"]))\n",
    "t_face <- with(face_region, sum(cnt[region== \"face\"]))\n",
    "\n",
    "# column 만들기\n",
    "total <- c(t_cheek, t_forehead, t_chin, t_eyes, t_face)\n",
    "\n",
    "# dataframe 만들기\n",
    "df_total_faceregion <- data.frame(total)\n",
    "rownames(df_total_faceregion) <- c(\"cheek\", \"forehead\", \"chin\", \"eyes\", \"face\")\n",
    "library(tibble)\n",
    "df_total_faceregion2 <- rownames_to_column(df_total_faceregion, var=\"face_region\")\n",
    "df_total_faceregion2"
   ]
  },
  {
   "cell_type": "code",
   "execution_count": 101,
   "metadata": {},
   "outputs": [
    {
     "data": {
      "image/png": "[encoded data removed]",
      "text/plain": [
       "plot without title"
      ]
     },
     "metadata": {},
     "output_type": "display_data"
    }
   ],
   "source": [
    "# 전체 결과 그래프로 확인\n",
    "\n",
    "ggplot(df_total_faceregion2, aes(x=face_region, y=total))+geom_bar(stat=\"identity\") + labs(title = \"Representative Face Region\")\n",
    "# 1. 턱 / 2. 이마 / 3. 볼  순서의 결과를 얻었다\n",
    "# 설문조사 결과를 토대로 턱이.. 얼굴 전체를 대표하는 색..\n",
    "# 음... 대표색 정하는건 이렇게밖에 안될것같은데 더 생각해봐야할 문제\n",
    "# 나중에 시간되면 그래프 색상도 바꿔보자 너무 칙칙해"
   ]
  },
  {
   "cell_type": "markdown",
   "metadata": {},
   "source": [
    "    설문조사 결과를 토대로 \n",
    "    얼굴 전체색을 대표하는 안면부위는 '턱'으로 선정\n",
    "    (사실 설문조사 결과만을 보고서 대표는 턱이야 논문 틀렸어 하는건 좀 아닌것같은데 아직 그걸 설명할 방법을 모르겠다)\n",
    "    \n",
    "    그렇기에 앞으로 분석 방향은\n",
    "    대표 안면부위 '턱'으로 설정하여 모든것을 진행할 것"
   ]
  },
  {
   "cell_type": "code",
   "execution_count": null,
   "metadata": {},
   "outputs": [],
   "source": []
  },
  {
   "cell_type": "markdown",
   "metadata": {},
   "source": [
    "### 성별에 따른 대표 안면부위 인식 차이 \n",
    "\n",
    "    귀무가설 : 성별에 따라 대표 안면부위 인식 차이가 없다\n",
    "    대립가설 : 성별에 따라 대표 안면부위 인식 차이가 있다\n",
    "    \n",
    "    - 대표 안면부위 : 턱\n",
    "    - chisq.test 사용"
   ]
  },
  {
   "cell_type": "code",
   "execution_count": 2,
   "metadata": {},
   "outputs": [
    {
     "name": "stdout",
     "output_type": "stream",
     "text": [
      "'data.frame':\t210 obs. of  10 variables:\n",
      " $ X        : int  0 1 2 3 4 5 6 7 8 9 ...\n",
      " $ sex      : Factor w/ 2 levels \"Female\",\"Male\": 2 1 1 1 1 1 1 2 1 1 ...\n",
      " $ age_class: int  20 20 20 20 20 20 20 20 20 20 ...\n",
      " $ interest : int  5 5 3 3 4 2 5 3 4 4 ...\n",
      " $ class    : Factor w/ 2 levels \"bright\",\"harmony\": 1 1 1 1 1 1 1 1 1 1 ...\n",
      " $ cheek    : int  3 1 2 1 2 3 2 1 2 1 ...\n",
      " $ forehead : int  2 2 1 2 3 2 2 1 2 2 ...\n",
      " $ chin     : int  1 2 3 2 3 3 2 2 3 2 ...\n",
      " $ eyes     : int  0 1 2 1 0 0 1 2 0 1 ...\n",
      " $ face     : int  2 2 0 2 0 0 1 2 1 2 ...\n"
     ]
    },
    {
     "data": {
      "text/html": [
       "<table>\n",
       "<thead><tr><th scope=col>X</th><th scope=col>sex</th><th scope=col>age_class</th><th scope=col>interest</th><th scope=col>class</th><th scope=col>cheek</th><th scope=col>forehead</th><th scope=col>chin</th><th scope=col>eyes</th><th scope=col>face</th></tr></thead>\n",
       "<tbody>\n",
       "\t<tr><td>0     </td><td>Male  </td><td>20    </td><td>5     </td><td>bright</td><td>3     </td><td>2     </td><td>1     </td><td>0     </td><td>2     </td></tr>\n",
       "\t<tr><td>1     </td><td>Female</td><td>20    </td><td>5     </td><td>bright</td><td>1     </td><td>2     </td><td>2     </td><td>1     </td><td>2     </td></tr>\n",
       "\t<tr><td>2     </td><td>Female</td><td>20    </td><td>3     </td><td>bright</td><td>2     </td><td>1     </td><td>3     </td><td>2     </td><td>0     </td></tr>\n",
       "\t<tr><td>3     </td><td>Female</td><td>20    </td><td>3     </td><td>bright</td><td>1     </td><td>2     </td><td>2     </td><td>1     </td><td>2     </td></tr>\n",
       "\t<tr><td>4     </td><td>Female</td><td>20    </td><td>4     </td><td>bright</td><td>2     </td><td>3     </td><td>3     </td><td>0     </td><td>0     </td></tr>\n",
       "\t<tr><td>5     </td><td>Female</td><td>20    </td><td>2     </td><td>bright</td><td>3     </td><td>2     </td><td>3     </td><td>0     </td><td>0     </td></tr>\n",
       "</tbody>\n",
       "</table>\n"
      ],
      "text/latex": [
       "\\begin{tabular}{r|llllllllll}\n",
       " X & sex & age\\_class & interest & class & cheek & forehead & chin & eyes & face\\\\\n",
       "\\hline\n",
       "\t 0      & Male   & 20     & 5      & bright & 3      & 2      & 1      & 0      & 2     \\\\\n",
       "\t 1      & Female & 20     & 5      & bright & 1      & 2      & 2      & 1      & 2     \\\\\n",
       "\t 2      & Female & 20     & 3      & bright & 2      & 1      & 3      & 2      & 0     \\\\\n",
       "\t 3      & Female & 20     & 3      & bright & 1      & 2      & 2      & 1      & 2     \\\\\n",
       "\t 4      & Female & 20     & 4      & bright & 2      & 3      & 3      & 0      & 0     \\\\\n",
       "\t 5      & Female & 20     & 2      & bright & 3      & 2      & 3      & 0      & 0     \\\\\n",
       "\\end{tabular}\n"
      ],
      "text/markdown": [
       "\n",
       "| X | sex | age_class | interest | class | cheek | forehead | chin | eyes | face |\n",
       "|---|---|---|---|---|---|---|---|---|---|\n",
       "| 0      | Male   | 20     | 5      | bright | 3      | 2      | 1      | 0      | 2      |\n",
       "| 1      | Female | 20     | 5      | bright | 1      | 2      | 2      | 1      | 2      |\n",
       "| 2      | Female | 20     | 3      | bright | 2      | 1      | 3      | 2      | 0      |\n",
       "| 3      | Female | 20     | 3      | bright | 1      | 2      | 2      | 1      | 2      |\n",
       "| 4      | Female | 20     | 4      | bright | 2      | 3      | 3      | 0      | 0      |\n",
       "| 5      | Female | 20     | 2      | bright | 3      | 2      | 3      | 0      | 0      |\n",
       "\n"
      ],
      "text/plain": [
       "  X sex    age_class interest class  cheek forehead chin eyes face\n",
       "1 0 Male   20        5        bright 3     2        1    0    2   \n",
       "2 1 Female 20        5        bright 1     2        2    1    2   \n",
       "3 2 Female 20        3        bright 2     1        3    2    0   \n",
       "4 3 Female 20        3        bright 1     2        2    1    2   \n",
       "5 4 Female 20        4        bright 2     3        3    0    0   \n",
       "6 5 Female 20        2        bright 3     2        3    0    0   "
      ]
     },
     "metadata": {},
     "output_type": "display_data"
    }
   ],
   "source": [
    "# 데이터 불러오기\n",
    "\n",
    "SAF_Face_cnt <- read.csv(\"C:/Users/cho ye seul/Documents/예슬/Acorn/FinalProject/Statistical Analysis/SAF_Face_cnt.csv\")\n",
    "str(SAF_Face_cnt)\n",
    "head(SAF_Face_cnt)"
   ]
  },
  {
   "cell_type": "code",
   "execution_count": 3,
   "metadata": {},
   "outputs": [
    {
     "data": {
      "text/html": [
       "<table>\n",
       "<thead><tr><th></th><th scope=col>True</th><th scope=col>False</th><th scope=col>Sum</th></tr></thead>\n",
       "<tbody>\n",
       "\t<tr><th scope=row>Male</th><td>137 </td><td> 351</td><td> 488</td></tr>\n",
       "\t<tr><th scope=row>Female</th><td>350 </td><td> 842</td><td>1192</td></tr>\n",
       "\t<tr><th scope=row>Sum</th><td>487 </td><td>1193</td><td>1680</td></tr>\n",
       "</tbody>\n",
       "</table>\n"
      ],
      "text/latex": [
       "\\begin{tabular}{r|lll}\n",
       "  & True & False & Sum\\\\\n",
       "\\hline\n",
       "\tMale & 137  &  351 &  488\\\\\n",
       "\tFemale & 350  &  842 & 1192\\\\\n",
       "\tSum & 487  & 1193 & 1680\\\\\n",
       "\\end{tabular}\n"
      ],
      "text/markdown": [
       "\n",
       "| <!--/--> | True | False | Sum |\n",
       "|---|---|---|---|\n",
       "| Male | 137  |  351 |  488 |\n",
       "| Female | 350  |  842 | 1192 |\n",
       "| Sum | 487  | 1193 | 1680 |\n",
       "\n"
      ],
      "text/plain": [
       "       True False Sum \n",
       "Male   137   351   488\n",
       "Female 350   842  1192\n",
       "Sum    487  1193  1680"
      ]
     },
     "metadata": {},
     "output_type": "display_data"
    },
    {
     "data": {
      "text/plain": [
       "\n",
       "\tPearson's Chi-squared test with Yates' continuity correction\n",
       "\n",
       "data:  df_Sex_Region\n",
       "X-squared = 0.22023, df = 1, p-value = 0.6389\n"
      ]
     },
     "metadata": {},
     "output_type": "display_data"
    }
   ],
   "source": [
    "## 데이터프레임 재생성\n",
    "\n",
    "Male_T <- with(SAF_Face_cnt, sum(chin[sex==\"Male\"]))\n",
    "Male_F <- with(SAF_Face_cnt, sum(cheek[sex==\"Male\"], forehead[sex==\"Male\"], eyes[sex==\"Male\"], face[sex==\"Male\"]))\n",
    "Female_T <- with(SAF_Face_cnt, sum(chin[sex==\"Female\"]))\n",
    "Female_F <- with(SAF_Face_cnt, sum(cheek[sex==\"Female\"], forehead[sex==\"Female\"], eyes[sex==\"Female\"], face[sex==\"Female\"]))\n",
    "\n",
    "Male <- c(Male_T, Male_F)\n",
    "Female <- c(Female_T, Female_F)\n",
    "\n",
    "df_Sex_Region <- data.frame(Male, Female)\n",
    "df_Sex_Region <- t(df_Sex_Region)\n",
    "colnames(df_Sex_Region) <- c(\"True\", \"False\")\n",
    "\n",
    "\n",
    "## 행, 열 각각의 합계 알아보기\n",
    "\n",
    "addmargins(df_Sex_Region)\n",
    "# 합계값이 동일하지 않으므로 chisq.test 사용\n",
    "\n",
    "\n",
    "## 카이제곱\n",
    "\n",
    "chisq.test(df_Sex_Region)\n",
    "# p-value = 0.6389  \n",
    "# 0.05보다 큰 값을 가지므로 귀무가설 성립\n",
    "# 성별에 따라 안면부위 인식 차이가 없음을 알 수 있다"
   ]
  },
  {
   "cell_type": "markdown",
   "metadata": {},
   "source": [
    "### 성별에 따라 어떤 안면 부위를 제일 많이 선택했는지 알아보기"
   ]
  },
  {
   "cell_type": "code",
   "execution_count": 7,
   "metadata": {},
   "outputs": [
    {
     "data": {
      "text/html": [
       "<table>\n",
       "<thead><tr><th></th><th scope=col>chin</th><th scope=col>cheek</th><th scope=col>forehead</th><th scope=col>eyes</th><th scope=col>face</th></tr></thead>\n",
       "<tbody>\n",
       "\t<tr><th scope=row>M</th><td>137</td><td>110</td><td>138</td><td>36 </td><td> 67</td></tr>\n",
       "\t<tr><th scope=row>F</th><td>350</td><td>277</td><td>338</td><td>95 </td><td>132</td></tr>\n",
       "</tbody>\n",
       "</table>\n"
      ],
      "text/latex": [
       "\\begin{tabular}{r|lllll}\n",
       "  & chin & cheek & forehead & eyes & face\\\\\n",
       "\\hline\n",
       "\tM & 137 & 110 & 138 & 36  &  67\\\\\n",
       "\tF & 350 & 277 & 338 & 95  & 132\\\\\n",
       "\\end{tabular}\n"
      ],
      "text/markdown": [
       "\n",
       "| <!--/--> | chin | cheek | forehead | eyes | face |\n",
       "|---|---|---|---|---|---|\n",
       "| M | 137 | 110 | 138 | 36  |  67 |\n",
       "| F | 350 | 277 | 338 | 95  | 132 |\n",
       "\n"
      ],
      "text/plain": [
       "  chin cheek forehead eyes face\n",
       "M 137  110   138      36    67 \n",
       "F 350  277   338      95   132 "
      ]
     },
     "metadata": {},
     "output_type": "display_data"
    }
   ],
   "source": [
    "# 남\n",
    "M_chin <- with(SAF_Face_cnt, sum(chin[sex==\"Male\"]))\n",
    "M_cheek <- with(SAF_Face_cnt, sum(cheek[sex==\"Male\"]))\n",
    "M_forehead <- with(SAF_Face_cnt, sum(forehead[sex==\"Male\"]))\n",
    "M_eyes <- with(SAF_Face_cnt, sum(eyes[sex==\"Male\"]))\n",
    "M_face <- with(SAF_Face_cnt, sum(face[sex==\"Male\"]))\n",
    "\n",
    "# 여\n",
    "F_chin <- with(SAF_Face_cnt, sum(chin[sex==\"Female\"]))\n",
    "F_cheek <- with(SAF_Face_cnt, sum(cheek[sex==\"Female\"]))\n",
    "F_forehead <- with(SAF_Face_cnt, sum(forehead[sex==\"Female\"]))\n",
    "F_eyes <- with(SAF_Face_cnt, sum(eyes[sex==\"Female\"]))\n",
    "F_face <- with(SAF_Face_cnt, sum(face[sex==\"Female\"]))\n",
    "\n",
    "M <- c(M_chin, M_cheek, M_forehead, M_eyes, M_face)\n",
    "F <- c(F_chin, F_cheek, F_forehead, F_eyes, F_face)\n",
    "\n",
    "df_MF_Region <- data.frame(M, F)\n",
    "df_MF_Region <- t(df_MF_Region)\n",
    "colnames(df_MF_Region) <- c(\"chin\", \"cheek\", \"forehead\", \"eyes\", \"face\")\n",
    "df_MF_Region"
   ]
  },
  {
   "cell_type": "code",
   "execution_count": 8,
   "metadata": {},
   "outputs": [
    {
     "data": {
      "image/png": "[encoded data removed]",
      "text/plain": [
       "plot without title"
      ]
     },
     "metadata": {},
     "output_type": "display_data"
    }
   ],
   "source": [
    "# 시각적으로 나타내기\n",
    "\n",
    "barplot(df_MF_Region, col=c(\"darkblue\", \"pink\"), beside=TRUE)\n",
    "# 여성은 턱 > 이마 순 \n",
    "# 남성은 이마 > 턱 순 (아주 미세한 차이로)"
   ]
  },
  {
   "cell_type": "code",
   "execution_count": null,
   "metadata": {},
   "outputs": [],
   "source": []
  },
  {
   "cell_type": "markdown",
   "metadata": {},
   "source": [
    "### 연령에 따른 대표 안면부위 인식 차이 \n",
    "\n",
    "    귀무가설 : 연령에 따라 대표 안면부위 인식 차이가 없다\n",
    "    대립가설 : 연령에 따라 대표 안면부위 인식 차이가 있다\n",
    "    \n",
    "    - 대표 안면부위 : 턱\n",
    "    - chisq.test 사용"
   ]
  },
  {
   "cell_type": "code",
   "execution_count": 154,
   "metadata": {},
   "outputs": [
    {
     "name": "stdout",
     "output_type": "stream",
     "text": [
      "'data.frame':\t210 obs. of  10 variables:\n",
      " $ X        : int  0 1 2 3 4 5 6 7 8 9 ...\n",
      " $ sex      : Factor w/ 2 levels \"Female\",\"Male\": 2 1 1 1 1 1 1 2 1 1 ...\n",
      " $ age_class: int  20 20 20 20 20 20 20 20 20 20 ...\n",
      " $ interest : int  5 5 3 3 4 2 5 3 4 4 ...\n",
      " $ class    : Factor w/ 2 levels \"bright\",\"harmony\": 1 1 1 1 1 1 1 1 1 1 ...\n",
      " $ cheek    : int  3 1 2 1 2 3 2 1 2 1 ...\n",
      " $ forehead : int  2 2 1 2 3 2 2 1 2 2 ...\n",
      " $ chin     : int  1 2 3 2 3 3 2 2 3 2 ...\n",
      " $ eyes     : int  0 1 2 1 0 0 1 2 0 1 ...\n",
      " $ face     : int  2 2 0 2 0 0 1 2 1 2 ...\n"
     ]
    },
    {
     "data": {
      "text/html": [
       "<table>\n",
       "<thead><tr><th scope=col>X</th><th scope=col>sex</th><th scope=col>age_class</th><th scope=col>interest</th><th scope=col>class</th><th scope=col>cheek</th><th scope=col>forehead</th><th scope=col>chin</th><th scope=col>eyes</th><th scope=col>face</th></tr></thead>\n",
       "<tbody>\n",
       "\t<tr><td>0     </td><td>Male  </td><td>20    </td><td>5     </td><td>bright</td><td>3     </td><td>2     </td><td>1     </td><td>0     </td><td>2     </td></tr>\n",
       "\t<tr><td>1     </td><td>Female</td><td>20    </td><td>5     </td><td>bright</td><td>1     </td><td>2     </td><td>2     </td><td>1     </td><td>2     </td></tr>\n",
       "\t<tr><td>2     </td><td>Female</td><td>20    </td><td>3     </td><td>bright</td><td>2     </td><td>1     </td><td>3     </td><td>2     </td><td>0     </td></tr>\n",
       "\t<tr><td>3     </td><td>Female</td><td>20    </td><td>3     </td><td>bright</td><td>1     </td><td>2     </td><td>2     </td><td>1     </td><td>2     </td></tr>\n",
       "\t<tr><td>4     </td><td>Female</td><td>20    </td><td>4     </td><td>bright</td><td>2     </td><td>3     </td><td>3     </td><td>0     </td><td>0     </td></tr>\n",
       "\t<tr><td>5     </td><td>Female</td><td>20    </td><td>2     </td><td>bright</td><td>3     </td><td>2     </td><td>3     </td><td>0     </td><td>0     </td></tr>\n",
       "</tbody>\n",
       "</table>\n"
      ],
      "text/latex": [
       "\\begin{tabular}{r|llllllllll}\n",
       " X & sex & age\\_class & interest & class & cheek & forehead & chin & eyes & face\\\\\n",
       "\\hline\n",
       "\t 0      & Male   & 20     & 5      & bright & 3      & 2      & 1      & 0      & 2     \\\\\n",
       "\t 1      & Female & 20     & 5      & bright & 1      & 2      & 2      & 1      & 2     \\\\\n",
       "\t 2      & Female & 20     & 3      & bright & 2      & 1      & 3      & 2      & 0     \\\\\n",
       "\t 3      & Female & 20     & 3      & bright & 1      & 2      & 2      & 1      & 2     \\\\\n",
       "\t 4      & Female & 20     & 4      & bright & 2      & 3      & 3      & 0      & 0     \\\\\n",
       "\t 5      & Female & 20     & 2      & bright & 3      & 2      & 3      & 0      & 0     \\\\\n",
       "\\end{tabular}\n"
      ],
      "text/markdown": [
       "\n",
       "| X | sex | age_class | interest | class | cheek | forehead | chin | eyes | face |\n",
       "|---|---|---|---|---|---|---|---|---|---|\n",
       "| 0      | Male   | 20     | 5      | bright | 3      | 2      | 1      | 0      | 2      |\n",
       "| 1      | Female | 20     | 5      | bright | 1      | 2      | 2      | 1      | 2      |\n",
       "| 2      | Female | 20     | 3      | bright | 2      | 1      | 3      | 2      | 0      |\n",
       "| 3      | Female | 20     | 3      | bright | 1      | 2      | 2      | 1      | 2      |\n",
       "| 4      | Female | 20     | 4      | bright | 2      | 3      | 3      | 0      | 0      |\n",
       "| 5      | Female | 20     | 2      | bright | 3      | 2      | 3      | 0      | 0      |\n",
       "\n"
      ],
      "text/plain": [
       "  X sex    age_class interest class  cheek forehead chin eyes face\n",
       "1 0 Male   20        5        bright 3     2        1    0    2   \n",
       "2 1 Female 20        5        bright 1     2        2    1    2   \n",
       "3 2 Female 20        3        bright 2     1        3    2    0   \n",
       "4 3 Female 20        3        bright 1     2        2    1    2   \n",
       "5 4 Female 20        4        bright 2     3        3    0    0   \n",
       "6 5 Female 20        2        bright 3     2        3    0    0   "
      ]
     },
     "metadata": {},
     "output_type": "display_data"
    }
   ],
   "source": [
    "# 데이터 불러오기\n",
    "\n",
    "SAF_Face_cnt <- read.csv(\"C:/Users/cho ye seul/Documents/예슬/Acorn/FinalProject/Statistical Analysis/SAF_Face_cnt.csv\")\n",
    "str(SAF_Face_cnt)\n",
    "head(SAF_Face_cnt)"
   ]
  },
  {
   "cell_type": "code",
   "execution_count": 19,
   "metadata": {},
   "outputs": [
    {
     "data": {
      "text/html": [
       "<table>\n",
       "<thead><tr><th></th><th scope=col>True</th><th scope=col>False</th><th scope=col>Sum</th></tr></thead>\n",
       "<tbody>\n",
       "\t<tr><th scope=row>teens</th><td> 18 </td><td>  46</td><td>  64</td></tr>\n",
       "\t<tr><th scope=row>twenty</th><td>365 </td><td> 875</td><td>1240</td></tr>\n",
       "\t<tr><th scope=row>thirty</th><td> 69 </td><td> 171</td><td> 240</td></tr>\n",
       "\t<tr><th scope=row>forty</th><td> 12 </td><td>  36</td><td>  48</td></tr>\n",
       "\t<tr><th scope=row>fifty</th><td> 23 </td><td>  65</td><td>  88</td></tr>\n",
       "\t<tr><th scope=row>Sum</th><td>487 </td><td>1193</td><td>1680</td></tr>\n",
       "</tbody>\n",
       "</table>\n"
      ],
      "text/latex": [
       "\\begin{tabular}{r|lll}\n",
       "  & True & False & Sum\\\\\n",
       "\\hline\n",
       "\tteens &  18  &   46 &   64\\\\\n",
       "\ttwenty & 365  &  875 & 1240\\\\\n",
       "\tthirty &  69  &  171 &  240\\\\\n",
       "\tforty &  12  &   36 &   48\\\\\n",
       "\tfifty &  23  &   65 &   88\\\\\n",
       "\tSum & 487  & 1193 & 1680\\\\\n",
       "\\end{tabular}\n"
      ],
      "text/markdown": [
       "\n",
       "| <!--/--> | True | False | Sum |\n",
       "|---|---|---|---|\n",
       "| teens |  18  |   46 |   64 |\n",
       "| twenty | 365  |  875 | 1240 |\n",
       "| thirty |  69  |  171 |  240 |\n",
       "| forty |  12  |   36 |   48 |\n",
       "| fifty |  23  |   65 |   88 |\n",
       "| Sum | 487  | 1193 | 1680 |\n",
       "\n"
      ],
      "text/plain": [
       "       True False Sum \n",
       "teens   18    46    64\n",
       "twenty 365   875  1240\n",
       "thirty  69   171   240\n",
       "forty   12    36    48\n",
       "fifty   23    65    88\n",
       "Sum    487  1193  1680"
      ]
     },
     "metadata": {},
     "output_type": "display_data"
    },
    {
     "data": {
      "text/plain": [
       "\n",
       "\tPearson's Chi-squared test\n",
       "\n",
       "data:  df_Age_Region\n",
       "X-squared = 0.86887, df = 4, p-value = 0.929\n"
      ]
     },
     "metadata": {},
     "output_type": "display_data"
    }
   ],
   "source": [
    "## 데이터프레임 재생성\n",
    "\n",
    "teens_T <- with(SAF_Face_cnt, sum(chin[age_class==\"10\"]))\n",
    "teens_F <- with(SAF_Face_cnt, sum(cheek[age_class==\"10\"], forehead[age_class==\"10\"], eyes[age_class==\"10\"], face[age_class==\"10\"]))\n",
    "twenty_T <- with(SAF_Face_cnt, sum(chin[age_class==\"20\"]))\n",
    "twenty_F <- with(SAF_Face_cnt, sum(cheek[age_class==\"20\"], forehead[age_class==\"20\"], eyes[age_class==\"20\"], face[age_class==\"20\"]))\n",
    "thirty_T <- with(SAF_Face_cnt, sum(chin[age_class==\"30\"]))\n",
    "thirty_F <- with(SAF_Face_cnt, sum(cheek[age_class==\"30\"], forehead[age_class==\"30\"], eyes[age_class==\"30\"], face[age_class==\"30\"]))\n",
    "forty_T <- with(SAF_Face_cnt, sum(chin[age_class==\"40\"]))\n",
    "forty_F <- with(SAF_Face_cnt, sum(cheek[age_class==\"40\"], forehead[age_class==\"40\"], eyes[age_class==\"40\"], face[age_class==\"40\"]))\n",
    "fifty_T <- with(SAF_Face_cnt, sum(chin[age_class==\"50\"]))\n",
    "fifty_F <- with(SAF_Face_cnt, sum(cheek[age_class==\"50\"], forehead[age_class==\"50\"], eyes[age_class==\"50\"], face[age_class==\"50\"]))\n",
    "\n",
    "teens <- c(teens_T, teens_F)\n",
    "twenty <- c(twenty_T, twenty_F)\n",
    "thirty <- c(thirty_T, thirty_F)\n",
    "forty <- c(forty_T, forty_F)\n",
    "fifty <- c(fifty_T, fifty_F)\n",
    "             \n",
    "df_Age_Region <- data.frame(teens, twenty, thirty, forty, fifty)\n",
    "df_Age_Region <- t(df_Age_Region)\n",
    "colnames(df_Age_Region) <- c(\"True\", \"False\")\n",
    "# df_Age_Region\n",
    "\n",
    "\n",
    "## 행, 열 각각의 합계 알아보기\n",
    "\n",
    "addmargins(df_Age_Region)\n",
    "# 합계값이 동일하지 않으므로 chisq.test 사용\n",
    "\n",
    "## 카이제곱\n",
    "\n",
    "chisq.test(df_Age_Region)\n",
    "# p-value = 0.929\n",
    "# 0.05보다 큰 값을 가지므로 귀무가설 성립\n",
    "# 연령에 따라 안면부위 인식 차이가 없음을 알 수 있다\n",
    "# 엑셀로 비율 보니까 39 42 40 33 35 41 % 로.. 약간 다들 비슷한것 같긴하다..?"
   ]
  },
  {
   "cell_type": "markdown",
   "metadata": {},
   "source": [
    "### 연령에 따라 어떤 안면 부위를 제일 많이 선택했는지 알아보기"
   ]
  },
  {
   "cell_type": "code",
   "execution_count": 260,
   "metadata": {},
   "outputs": [],
   "source": [
    "library(tibble)\n",
    "library(ggplot2)"
   ]
  },
  {
   "cell_type": "code",
   "execution_count": 361,
   "metadata": {},
   "outputs": [
    {
     "data": {
      "text/html": [
       "<table>\n",
       "<thead><tr><th scope=col>Age</th><th scope=col>chin</th><th scope=col>forehead</th><th scope=col>cheek</th><th scope=col>eyes</th><th scope=col>face</th></tr></thead>\n",
       "<tbody>\n",
       "\t<tr><td>10대</td><td> 18 </td><td> 19 </td><td> 16 </td><td>  2 </td><td>  9 </td></tr>\n",
       "\t<tr><td>20대</td><td>365 </td><td>351 </td><td>272 </td><td>104 </td><td>148 </td></tr>\n",
       "\t<tr><td>30대</td><td> 69 </td><td> 72 </td><td> 59 </td><td> 13 </td><td> 27 </td></tr>\n",
       "\t<tr><td>40대</td><td> 12 </td><td> 13 </td><td> 14 </td><td>  2 </td><td>  7 </td></tr>\n",
       "\t<tr><td>50대</td><td> 23 </td><td> 21 </td><td> 26 </td><td> 10 </td><td>  8 </td></tr>\n",
       "</tbody>\n",
       "</table>\n"
      ],
      "text/latex": [
       "\\begin{tabular}{r|llllll}\n",
       " Age & chin & forehead & cheek & eyes & face\\\\\n",
       "\\hline\n",
       "\t 10대 &  18  &  19  &  16  &   2  &   9 \\\\\n",
       "\t 20대 & 365  & 351  & 272  & 104  & 148 \\\\\n",
       "\t 30대 &  69  &  72  &  59  &  13  &  27 \\\\\n",
       "\t 40대 &  12  &  13  &  14  &   2  &   7 \\\\\n",
       "\t 50대 &  23  &  21  &  26  &  10  &   8 \\\\\n",
       "\\end{tabular}\n"
      ],
      "text/markdown": [
       "\n",
       "| Age | chin | forehead | cheek | eyes | face |\n",
       "|---|---|---|---|---|---|\n",
       "| 10대 |  18  |  19  |  16  |   2  |   9  |\n",
       "| 20대 | 365  | 351  | 272  | 104  | 148  |\n",
       "| 30대 |  69  |  72  |  59  |  13  |  27  |\n",
       "| 40대 |  12  |  13  |  14  |   2  |   7  |\n",
       "| 50대 |  23  |  21  |  26  |  10  |   8  |\n",
       "\n"
      ],
      "text/plain": [
       "  Age  chin forehead cheek eyes face\n",
       "1 10대  18   19       16     2    9 \n",
       "2 20대 365  351      272   104  148 \n",
       "3 30대  69   72       59    13   27 \n",
       "4 40대  12   13       14     2    7 \n",
       "5 50대  23   21       26    10    8 "
      ]
     },
     "metadata": {},
     "output_type": "display_data"
    }
   ],
   "source": [
    "# 연령에 따른 안면부위 선택 보기\n",
    "\n",
    "A_chin <- c()\n",
    "A_forehead <- c()\n",
    "A_cheek <- c()\n",
    "A_eyes <- c()\n",
    "A_face <- c()\n",
    "\n",
    "\n",
    "for(i in seq(10, 50, by=10)){\n",
    "    \n",
    "    chin1 <- with(SAF_Face_cnt, sum(chin[age_class==i]))\n",
    "    A_chin[[(i/10)]] <- chin1\n",
    "    \n",
    "    forehead1 <- with(SAF_Face_cnt, sum(forehead[age_class==i]))\n",
    "    A_forehead[[(i/10)]] <- forehead1\n",
    "    \n",
    "    cheek1 <- with(SAF_Face_cnt, sum(cheek[age_class==i]))\n",
    "    A_cheek[[(i/10)]] <- cheek1\n",
    "    \n",
    "    eyes1 <- with(SAF_Face_cnt, sum(eyes[age_class==i]))\n",
    "    A_eyes[[(i/10)]] <- eyes1\n",
    "    \n",
    "    face1 <- with(SAF_Face_cnt, sum(face[age_class==i]))\n",
    "    A_face[[(i/10)]] <- face1\n",
    "    \n",
    "    Age_Face <- data.frame(chin=A_chin, forehead=A_forehead, cheek=A_cheek, eyes=A_eyes, face=A_face)\n",
    "}\n",
    "\n",
    "\n",
    "rownames(Age_Face) <- c(\"10대\", \"20대\", \"30대\", \"40대\", \"50대\") # 왜 for문 안에선 안먹히냐\n",
    "Age_Face <- rownames_to_column(Age_Face, var=\"Age\")\n",
    "Age_Face <- transform(Age_Face, chin =as.numeric(chin), forehead=as.numeric(forehead), cheek=as.numeric(cheek), eyes=as.numeric(eyes), face=as.numeric(face))\n",
    "Age_Face"
   ]
  },
  {
   "cell_type": "code",
   "execution_count": 368,
   "metadata": {},
   "outputs": [],
   "source": [
    "# 시각적으로 나타내기\n",
    "# 몰라 그래프 나중에 \n",
    "# ggplot(Age_Face, aes(Age, fill=chin)) + geom_bar(position=\"dodge\")\n",
    "# 이거 보고 연령별로 뭐를 제일 많이 택했구나~ 하고 알아보자요"
   ]
  },
  {
   "cell_type": "code",
   "execution_count": null,
   "metadata": {},
   "outputs": [],
   "source": []
  },
  {
   "cell_type": "markdown",
   "metadata": {},
   "source": [
    "### 패션 관심도에 따른 대표 안면부위 인식 차이 \n",
    "\n",
    "    귀무가설 : 패션 관심도에 따라 대표 안면부위 인식 차이가 없다\n",
    "    대립가설 : 패션 관심도에 따라 대표 안면부위 인식 차이가 있다\n",
    "    \n",
    "    - 대표 안면부위 : 턱\n",
    "    - chisq.test or kruskal.test 사용"
   ]
  },
  {
   "cell_type": "code",
   "execution_count": 303,
   "metadata": {},
   "outputs": [
    {
     "name": "stdout",
     "output_type": "stream",
     "text": [
      "'data.frame':\t210 obs. of  10 variables:\n",
      " $ X        : int  0 1 2 3 4 5 6 7 8 9 ...\n",
      " $ sex      : Factor w/ 2 levels \"Female\",\"Male\": 2 1 1 1 1 1 1 2 1 1 ...\n",
      " $ age_class: int  20 20 20 20 20 20 20 20 20 20 ...\n",
      " $ interest : int  5 5 3 3 4 2 5 3 4 4 ...\n",
      " $ class    : Factor w/ 2 levels \"bright\",\"harmony\": 1 1 1 1 1 1 1 1 1 1 ...\n",
      " $ cheek    : int  3 1 2 1 2 3 2 1 2 1 ...\n",
      " $ forehead : int  2 2 1 2 3 2 2 1 2 2 ...\n",
      " $ chin     : int  1 2 3 2 3 3 2 2 3 2 ...\n",
      " $ eyes     : int  0 1 2 1 0 0 1 2 0 1 ...\n",
      " $ face     : int  2 2 0 2 0 0 1 2 1 2 ...\n"
     ]
    },
    {
     "data": {
      "text/html": [
       "<table>\n",
       "<thead><tr><th scope=col>X</th><th scope=col>sex</th><th scope=col>age_class</th><th scope=col>interest</th><th scope=col>class</th><th scope=col>cheek</th><th scope=col>forehead</th><th scope=col>chin</th><th scope=col>eyes</th><th scope=col>face</th></tr></thead>\n",
       "<tbody>\n",
       "\t<tr><td>0     </td><td>Male  </td><td>20    </td><td>5     </td><td>bright</td><td>3     </td><td>2     </td><td>1     </td><td>0     </td><td>2     </td></tr>\n",
       "\t<tr><td>1     </td><td>Female</td><td>20    </td><td>5     </td><td>bright</td><td>1     </td><td>2     </td><td>2     </td><td>1     </td><td>2     </td></tr>\n",
       "\t<tr><td>2     </td><td>Female</td><td>20    </td><td>3     </td><td>bright</td><td>2     </td><td>1     </td><td>3     </td><td>2     </td><td>0     </td></tr>\n",
       "\t<tr><td>3     </td><td>Female</td><td>20    </td><td>3     </td><td>bright</td><td>1     </td><td>2     </td><td>2     </td><td>1     </td><td>2     </td></tr>\n",
       "\t<tr><td>4     </td><td>Female</td><td>20    </td><td>4     </td><td>bright</td><td>2     </td><td>3     </td><td>3     </td><td>0     </td><td>0     </td></tr>\n",
       "\t<tr><td>5     </td><td>Female</td><td>20    </td><td>2     </td><td>bright</td><td>3     </td><td>2     </td><td>3     </td><td>0     </td><td>0     </td></tr>\n",
       "</tbody>\n",
       "</table>\n"
      ],
      "text/latex": [
       "\\begin{tabular}{r|llllllllll}\n",
       " X & sex & age\\_class & interest & class & cheek & forehead & chin & eyes & face\\\\\n",
       "\\hline\n",
       "\t 0      & Male   & 20     & 5      & bright & 3      & 2      & 1      & 0      & 2     \\\\\n",
       "\t 1      & Female & 20     & 5      & bright & 1      & 2      & 2      & 1      & 2     \\\\\n",
       "\t 2      & Female & 20     & 3      & bright & 2      & 1      & 3      & 2      & 0     \\\\\n",
       "\t 3      & Female & 20     & 3      & bright & 1      & 2      & 2      & 1      & 2     \\\\\n",
       "\t 4      & Female & 20     & 4      & bright & 2      & 3      & 3      & 0      & 0     \\\\\n",
       "\t 5      & Female & 20     & 2      & bright & 3      & 2      & 3      & 0      & 0     \\\\\n",
       "\\end{tabular}\n"
      ],
      "text/markdown": [
       "\n",
       "| X | sex | age_class | interest | class | cheek | forehead | chin | eyes | face |\n",
       "|---|---|---|---|---|---|---|---|---|---|\n",
       "| 0      | Male   | 20     | 5      | bright | 3      | 2      | 1      | 0      | 2      |\n",
       "| 1      | Female | 20     | 5      | bright | 1      | 2      | 2      | 1      | 2      |\n",
       "| 2      | Female | 20     | 3      | bright | 2      | 1      | 3      | 2      | 0      |\n",
       "| 3      | Female | 20     | 3      | bright | 1      | 2      | 2      | 1      | 2      |\n",
       "| 4      | Female | 20     | 4      | bright | 2      | 3      | 3      | 0      | 0      |\n",
       "| 5      | Female | 20     | 2      | bright | 3      | 2      | 3      | 0      | 0      |\n",
       "\n"
      ],
      "text/plain": [
       "  X sex    age_class interest class  cheek forehead chin eyes face\n",
       "1 0 Male   20        5        bright 3     2        1    0    2   \n",
       "2 1 Female 20        5        bright 1     2        2    1    2   \n",
       "3 2 Female 20        3        bright 2     1        3    2    0   \n",
       "4 3 Female 20        3        bright 1     2        2    1    2   \n",
       "5 4 Female 20        4        bright 2     3        3    0    0   \n",
       "6 5 Female 20        2        bright 3     2        3    0    0   "
      ]
     },
     "metadata": {},
     "output_type": "display_data"
    }
   ],
   "source": [
    "# 데이터 불러오기\n",
    "\n",
    "SAF_Face_cnt <- read.csv(\"C:/Users/cho ye seul/Documents/예슬/Acorn/FinalProject/Statistical Analysis/SAF_Face_cnt.csv\")\n",
    "str(SAF_Face_cnt)\n",
    "head(SAF_Face_cnt)"
   ]
  },
  {
   "cell_type": "code",
   "execution_count": 316,
   "metadata": {},
   "outputs": [
    {
     "data": {
      "text/html": [
       "<table>\n",
       "<thead><tr><th scope=col>interest</th><th scope=col>chin</th><th scope=col>forehead</th><th scope=col>cheek</th><th scope=col>eyes</th><th scope=col>face</th></tr></thead>\n",
       "<tbody>\n",
       "\t<tr><td>1  </td><td> 21</td><td> 22</td><td> 22</td><td> 9 </td><td>14 </td></tr>\n",
       "\t<tr><td>2  </td><td> 55</td><td> 58</td><td> 49</td><td>12 </td><td>26 </td></tr>\n",
       "\t<tr><td>3  </td><td>186</td><td>168</td><td>146</td><td>50 </td><td>58 </td></tr>\n",
       "\t<tr><td>4  </td><td>144</td><td>149</td><td>112</td><td>40 </td><td>59 </td></tr>\n",
       "\t<tr><td>5  </td><td> 81</td><td> 79</td><td> 58</td><td>20 </td><td>42 </td></tr>\n",
       "</tbody>\n",
       "</table>\n"
      ],
      "text/latex": [
       "\\begin{tabular}{r|llllll}\n",
       " interest & chin & forehead & cheek & eyes & face\\\\\n",
       "\\hline\n",
       "\t 1   &  21 &  22 &  22 &  9  & 14 \\\\\n",
       "\t 2   &  55 &  58 &  49 & 12  & 26 \\\\\n",
       "\t 3   & 186 & 168 & 146 & 50  & 58 \\\\\n",
       "\t 4   & 144 & 149 & 112 & 40  & 59 \\\\\n",
       "\t 5   &  81 &  79 &  58 & 20  & 42 \\\\\n",
       "\\end{tabular}\n"
      ],
      "text/markdown": [
       "\n",
       "| interest | chin | forehead | cheek | eyes | face |\n",
       "|---|---|---|---|---|---|\n",
       "| 1   |  21 |  22 |  22 |  9  | 14  |\n",
       "| 2   |  55 |  58 |  49 | 12  | 26  |\n",
       "| 3   | 186 | 168 | 146 | 50  | 58  |\n",
       "| 4   | 144 | 149 | 112 | 40  | 59  |\n",
       "| 5   |  81 |  79 |  58 | 20  | 42  |\n",
       "\n"
      ],
      "text/plain": [
       "  interest chin forehead cheek eyes face\n",
       "1 1         21   22       22    9   14  \n",
       "2 2         55   58       49   12   26  \n",
       "3 3        186  168      146   50   58  \n",
       "4 4        144  149      112   40   59  \n",
       "5 5         81   79       58   20   42  "
      ]
     },
     "metadata": {},
     "output_type": "display_data"
    }
   ],
   "source": [
    "# 패션 관심도에 따른 안면부위 선택 보기\n",
    "\n",
    "A_chin <- c()\n",
    "A_forehead <- c()\n",
    "A_cheek <- c()\n",
    "A_eyes <- c()\n",
    "A_face <- c()\n",
    "\n",
    "\n",
    "for(i in seq(1, 5, by=1)){\n",
    "    \n",
    "    chin1 <- with(SAF_Face_cnt, sum(chin[interest==i]))\n",
    "    A_chin[[(i)]] <- chin1\n",
    "    \n",
    "    forehead1 <- with(SAF_Face_cnt, sum(forehead[interest==i]))\n",
    "    A_forehead[[(i)]] <- forehead1\n",
    "    \n",
    "    cheek1 <- with(SAF_Face_cnt, sum(cheek[interest==i]))\n",
    "    A_cheek[[(i)]] <- cheek1\n",
    "    \n",
    "    eyes1 <- with(SAF_Face_cnt, sum(eyes[interest==i]))\n",
    "    A_eyes[[(i)]] <- eyes1\n",
    "    \n",
    "    face1 <- with(SAF_Face_cnt, sum(face[interest==i]))\n",
    "    A_face[[(i)]] <- face1\n",
    "    \n",
    "    interest_Face <- data.frame(chin=A_chin, forehead=A_forehead, cheek=A_cheek, eyes=A_eyes, face=A_face)\n",
    "}\n",
    "\n",
    "\n",
    "rownames(interest_Face) <- c(\"1\", \"2\", \"3\", \"4\", \"5\") \n",
    "interest_Face <- rownames_to_column(interest_Face, var=\"interest\")\n",
    "interest_Face"
   ]
  },
  {
   "cell_type": "code",
   "execution_count": 359,
   "metadata": {},
   "outputs": [
    {
     "data": {
      "text/html": [
       "<table>\n",
       "<thead><tr><th scope=col>True</th><th scope=col>False</th></tr></thead>\n",
       "<tbody>\n",
       "\t<tr><td> 21</td><td> 66</td></tr>\n",
       "\t<tr><td> 55</td><td>151</td></tr>\n",
       "\t<tr><td>186</td><td>462</td></tr>\n",
       "\t<tr><td>144</td><td>392</td></tr>\n",
       "\t<tr><td> 81</td><td>222</td></tr>\n",
       "</tbody>\n",
       "</table>\n"
      ],
      "text/latex": [
       "\\begin{tabular}{r|ll}\n",
       " True & False\\\\\n",
       "\\hline\n",
       "\t  21 &  66\\\\\n",
       "\t  55 & 151\\\\\n",
       "\t 186 & 462\\\\\n",
       "\t 144 & 392\\\\\n",
       "\t  81 & 222\\\\\n",
       "\\end{tabular}\n"
      ],
      "text/markdown": [
       "\n",
       "| True | False |\n",
       "|---|---|\n",
       "|  21 |  66 |\n",
       "|  55 | 151 |\n",
       "| 186 | 462 |\n",
       "| 144 | 392 |\n",
       "|  81 | 222 |\n",
       "\n"
      ],
      "text/plain": [
       "  True False\n",
       "1  21   66  \n",
       "2  55  151  \n",
       "3 186  462  \n",
       "4 144  392  \n",
       "5  81  222  "
      ]
     },
     "metadata": {},
     "output_type": "display_data"
    },
    {
     "data": {
      "text/plain": [
       "\n",
       "\tPearson's Chi-squared test\n",
       "\n",
       "data:  interest_TF\n",
       "X-squared = 1.2144, df = 4, p-value = 0.8757\n"
      ]
     },
     "metadata": {},
     "output_type": "display_data"
    }
   ],
   "source": [
    "# chin vs etc\n",
    "\n",
    "I_True <- c()\n",
    "I_False <- c()\n",
    "\n",
    "for(j in seq(1, 5, by=1)){\n",
    "    \n",
    "    True1 <- with(interest_Face, sum(chin[interest==j]))\n",
    "    I_True[[(j)]] <- True1\n",
    "    \n",
    "    False1 <- with(interest_Face, sum(chin[interest==j], forehead[interest==j], eyes[interest==j], face[interest==j]))\n",
    "    I_False[[(j)]] <- False1\n",
    "    \n",
    "    interest_TF <- data.frame(True=I_True, False=I_False)\n",
    "}\n",
    "    \n",
    "interest_TF <- transform(interest_TF, True =as.numeric(True), False=as.numeric(False))\n",
    "interest_TF\n",
    "\n",
    "# 카이제곱\n",
    "\n",
    "chisq.test(interest_TF)\n",
    "# p-value = 0.8757\n",
    "# 0.05보다 크므로 귀무가설 성립\n",
    "# 패션 관심도에 따라 대표 안면부위 인식차이는 없다! 그렇다! 다 보는눈은 똑같다! 몰라"
   ]
  },
  {
   "cell_type": "code",
   "execution_count": 374,
   "metadata": {},
   "outputs": [],
   "source": [
    "# 패션관심도에 따른 대표 안면부위 선택한거 시각화 하기\n",
    "# ggplot(interest_Face, aes(interest)) + geom_bar() \n",
    "# 이것도 나중에 하자.....ㅎ"
   ]
  },
  {
   "cell_type": "markdown",
   "metadata": {},
   "source": [
    "## 최종 결론\n",
    "\n",
    "    - 설문조사 결과 그래프로 시각화\n",
    "        : 대표 안면 부위 '턱'으로 선정\n",
    "\n",
    "    - 성별에 따른 안면부위 인식 차이\n",
    "        : 카이제곱 이용, p-value 0.6389로 성별에 따른 안면부위 인식 차이 '없음'\n",
    "        : 남 : 이마 > 턱 > 볼 ..\n",
    "          여 : 턱 > 이마 > 볼 ..\n",
    "\n",
    "    - 연령에 따른 안면부위 인식 차이\n",
    "        : 카이제곱 이용, p-value 0.929로 연령에 따른 안면부위 인식 차이 '없음'\n",
    "        : 10대 : 이마 > 턱 > 볼 ..\n",
    "          20대 : 턱 > 이마 > 볼 ..\n",
    "          30대 : 이마 > 턱 > 볼 ..\n",
    "          40대 : 볼 > 이마 > 턱 ..\n",
    "          50대 : 볼 > 턱 > 이마 ..\n",
    "\n",
    "    - 패션 관심도에 따른 안면부위 인식 차이\n",
    "        : 카이제곱 이용, p-value 0.8757로 패션 관심도에 따른 안면부위 인식 차이 '없음'\n",
    "        : 1점 : 이마 = 볼 > 턱 ..\n",
    "          2점 : 이마 > 턱 > 볼 ..\n",
    "          3점 : 턱 > 이마 > 볼 ..\n",
    "          4점 : 이마 > 턱 > 볼 ..\n",
    "          5점 : 턱 > 이마 > 볼 ..\n",
    "          \n",
    "    => 논문에서는 대표 안면 부위가 '볼'이라고 지정하였다.\n",
    "       하지만 우리의 설문조사 결과 사람들이 대표 안면색상이라고 지정한 부위는 '턱'\n",
    "       \n",
    "       성별, 연령, 패션관심도 에 따른 안면부위 인식 차이가 없으므로\n",
    "       우리는 얼굴 색을 대표하는 안면 부위를 '턱'으로 놓고 개발을 진행해도 될 것이라 사료됨"
   ]
  }
 ],
 "metadata": {
  "kernelspec": {
   "display_name": "R",
   "language": "R",
   "name": "ir"
  },
  "language_info": {
   "codemirror_mode": "r",
   "file_extension": ".r",
   "mimetype": "text/x-r-source",
   "name": "R",
   "pygments_lexer": "r",
   "version": "3.6.1"
  }
 },
 "nbformat": 4,
 "nbformat_minor": 2
}
