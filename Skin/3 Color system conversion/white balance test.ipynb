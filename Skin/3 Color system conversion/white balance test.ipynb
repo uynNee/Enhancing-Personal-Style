{
 "cells": [
  {
   "cell_type": "markdown",
   "metadata": {},
   "source": [
    "### 사진 화이트 밸런스 변환기\n",
    "    \n",
    "    최초 작성일 : 20/02/09\n",
    "    작성자 : 양희승\n",
    "    \n",
    "    작성내용 : 사진의 빛이 다르기 때문에 하나로 정리할 화이트 밸런스 변환하는 코드\n",
    "    \n",
    "    \n",
    "    수정내용\n",
    "        20/02/18\n",
    "            테스트 사진 추가\n",
    "            \n",
    "            \n",
    "        20/02/22\n",
    "            색상 보정"
   ]
  },
  {
   "cell_type": "code",
   "execution_count": 1,
   "metadata": {},
   "outputs": [],
   "source": [
    "# 설치\n",
    "#  sudo apt-get install python-opencv  \n",
    "# !pip install opencv-python  #메인모듈만\n",
    "# !pip install opencv-contrib-python  #기본 및 contrib 모듈이 모두 필요한 경우\n",
    "\n",
    "# 임포트가 안된다면\n",
    "# sudo -H python -m pip install opencv-python \n",
    "import cv2 as cv\n",
    "import numpy as np"
   ]
  },
  {
   "cell_type": "code",
   "execution_count": 6,
   "metadata": {},
   "outputs": [],
   "source": [
    "def show(final):\n",
    "    print('display')\n",
    "    cv.imshow(\"Temple\", final)\n",
    "    cv.waitKey(0)\n",
    "    cv.destroyAllWindows()\n",
    "\n",
    "def saveimg(final) :\n",
    "    print('saving')\n",
    "    cv.imwrite(\"result.jpg\", final)"
   ]
  },
  {
   "cell_type": "code",
   "execution_count": 7,
   "metadata": {},
   "outputs": [],
   "source": [
    "# #Insert anyfilenmae with path\n",
    "# img = cv.imread(\"img/1.jpg\")\n",
    "# res = img\n",
    "# final = cv.cvtColor(res, cv.COLOR_BGR2LAB)\n",
    "\n",
    "\n",
    "# avg_a = -np.average(final[:,:,1])\n",
    "# avg_b = -np.average(final[:,:,2])\n",
    "\n",
    "# for x in range(final.shape[0]) :\n",
    "#     for y in range(final.shape[1]) :\n",
    "#         l, a, b = final[x][y]\n",
    "#         shift_a =avg_a * (1/100.0) * 1.1\n",
    "#         shift_b =avg_b * (1/100.0) * 1.1\n",
    "#         final[x][y][1]= a + shift_a\n",
    "#         final[x][y][2]= b + shift_b\n",
    "        \n",
    "# final = cv.cvtColor(final, cv.COLOR_LAB2BGR)\n",
    "# final = np.hstack((res, final))\n",
    "# show(final)\n",
    "# saveimg(final)\n"
   ]
  },
  {
   "cell_type": "code",
   "execution_count": 6,
   "metadata": {},
   "outputs": [],
   "source": [
    "def wb_conversion(img) :\n",
    "    result = cv.cvtColor(img, cv.COLOR_BGR2LAB)\n",
    "    avg_a = np.average(result[:, :, 1])\n",
    "    avg_b = np.average(result[:, :, 2])\n",
    "    result[:, :, 1] = result[:, :, 1] - ((avg_a - 128) * (result[:, :, 0] / 255.0) * 1.1)\n",
    "    result[:, :, 2] = result[:, :, 2] - ((avg_b - 128) * (result[:, :, 0] / 255.0) * 1.1)\n",
    "    result = cv.cvtColor(result, cv.COLOR_LAB2BGR)\n",
    "    return result"
   ]
  },
  {
   "cell_type": "code",
   "execution_count": 11,
   "metadata": {},
   "outputs": [
    {
     "name": "stdout",
     "output_type": "stream",
     "text": [
      "높이 :  349\n",
      "가로 :  620\n",
      "채널 :  3\n"
     ]
    },
    {
     "data": {
      "text/plain": [
       "True"
      ]
     },
     "execution_count": 11,
     "metadata": {},
     "output_type": "execute_result"
    }
   ],
   "source": [
    "#Insert anyfilenmae with path\n",
    "img = cv.imread(\"img/4226019_130.jpg\")\n",
    "wb_img = wb_conversion(img)\n",
    "h, w, channel = wb_img.shape\n",
    "print(\"높이 : \",h)\n",
    "print(\"가로 : \",w)\n",
    "print(\"채널 : \",channel)\n",
    "# if h > w :\n",
    "#     final = cv.resize(wb_img, dsize=(540, 720), interpolation=cv.INTER_AREA)\n",
    "# elif h < w :\n",
    "#     final = cv.resize(wb_img, dsize=(720, 540), interpolation=cv.INTER_AREA)\n",
    "# else :\n",
    "#     final = cv.resize(wb_img, dsize=(540, 540), interpolation=cv.INTER_AREA)\n",
    "\n",
    "cv.imwrite('img/4226019_130_convert.jpg', wb_img)"
   ]
  },
  {
   "cell_type": "markdown",
   "metadata": {},
   "source": [
    "## 테스트 사진 코드"
   ]
  },
  {
   "cell_type": "code",
   "execution_count": 7,
   "metadata": {},
   "outputs": [
    {
     "data": {
      "text/plain": [
       "True"
      ]
     },
     "execution_count": 7,
     "metadata": {},
     "output_type": "execute_result"
    }
   ],
   "source": [
    "file_name = \"01\"\n",
    "img = cv.imread(\"img/\"+file_name+\".jpg\")\n",
    "wb_img = wb_conversion(img)\n",
    "cv.imwrite(\"img/\"+file_name+\"_wb.jpg\", wb_img)"
   ]
  },
  {
   "cell_type": "markdown",
   "metadata": {},
   "source": [
    "## 새 테스트"
   ]
  },
  {
   "cell_type": "code",
   "execution_count": 2,
   "metadata": {},
   "outputs": [],
   "source": [
    "import math\n",
    "import numpy as np\n",
    "import sys\n",
    "\n",
    "def apply_mask(matrix, mask, fill_value):\n",
    "    masked = np.ma.array(matrix, mask=mask, fill_value=fill_value)\n",
    "    return masked.filled()\n",
    "\n",
    "def apply_threshold(matrix, low_value, high_value):\n",
    "    low_mask = matrix < low_value\n",
    "    matrix = apply_mask(matrix, low_mask, low_value)\n",
    "\n",
    "    high_mask = matrix > high_value\n",
    "    matrix = apply_mask(matrix, high_mask, high_value)\n",
    "\n",
    "    return matrix\n",
    "\n",
    "def simplest_cb(img, percent):\n",
    "    assert img.shape[2] == 3\n",
    "    assert percent > 0 and percent < 100\n",
    "\n",
    "    half_percent = percent / 200.0\n",
    "\n",
    "    channels = cv.split(img)\n",
    "\n",
    "    out_channels = []\n",
    "    for channel in channels:\n",
    "        assert len(channel.shape) == 2\n",
    "        # find the low and high precentile values (based on the input percentile)\n",
    "        height, width = channel.shape\n",
    "        vec_size = width * height\n",
    "        flat = channel.reshape(vec_size)\n",
    "\n",
    "        assert len(flat.shape) == 1\n",
    "\n",
    "        flat = np.sort(flat)\n",
    "\n",
    "        n_cols = flat.shape[0]\n",
    "\n",
    "        low_val  = flat[math.floor(n_cols * half_percent)]\n",
    "        high_val = flat[math.ceil( n_cols * (1.0 - half_percent))]\n",
    "\n",
    "        print(\"Lowval: \", low_val)\n",
    "        print(\"Highval: \", high_val)\n",
    "\n",
    "        # saturate below the low percentile and above the high percentile\n",
    "        thresholded = apply_threshold(channel, low_val, high_val)\n",
    "        # scale the channel\n",
    "        normalized = cv.normalize(thresholded, thresholded.copy(), 0, 255, cv.NORM_MINMAX)\n",
    "        out_channels.append(normalized)\n",
    "\n",
    "    return cv.merge(out_channels)"
   ]
  },
  {
   "cell_type": "code",
   "execution_count": 3,
   "metadata": {},
   "outputs": [
    {
     "name": "stdout",
     "output_type": "stream",
     "text": [
      "Lowval:  38\n",
      "Highval:  242\n",
      "Lowval:  22\n",
      "Highval:  238\n",
      "Lowval:  16\n",
      "Highval:  239\n"
     ]
    },
    {
     "data": {
      "text/plain": [
       "-1"
      ]
     },
     "execution_count": 3,
     "metadata": {},
     "output_type": "execute_result"
    }
   ],
   "source": [
    "file_name = \"origin\"\n",
    "img = cv.imread(\"img/\"+file_name+\".jpg\")\n",
    "out = simplest_cb(img, 1)\n",
    "cv.imwrite(\"img/\"+file_name+\"_wb1.jpg\", out)\n",
    "cv.imshow(\"before\", img)\n",
    "cv.imshow(\"after\", out)\n",
    "\n",
    "# ex = cv.imread(\"img/\"+file_name+\"_wb2.jpg\")\n",
    "# cv.imshow(\"ex\", ex)\n",
    "cv.waitKey(0)"
   ]
  },
  {
   "cell_type": "code",
   "execution_count": null,
   "metadata": {},
   "outputs": [],
   "source": []
  }
 ],
 "metadata": {
  "kernelspec": {
   "display_name": "Python 3",
   "language": "python",
   "name": "python3"
  },
  "language_info": {
   "codemirror_mode": {
    "name": "ipython",
    "version": 3
   },
   "file_extension": ".py",
   "mimetype": "text/x-python",
   "name": "python",
   "nbconvert_exporter": "python",
   "pygments_lexer": "ipython3",
   "version": "3.6.8"
  }
 },
 "nbformat": 4,
 "nbformat_minor": 2
}
