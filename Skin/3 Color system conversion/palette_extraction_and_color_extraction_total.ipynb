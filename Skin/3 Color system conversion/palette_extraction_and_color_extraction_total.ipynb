{
 "cells": [
  {
   "cell_type": "markdown",
   "metadata": {},
   "source": [
    "### 팔레트 추출 및 상품 매칭 통합 코드\n",
    "    \n",
    "    최초 작성일 : 20/04/04\n",
    "    작성자 : 김은주\n",
    "    \n",
    "    작성내용 : 팔레트 추출 및 상품 매칭 통합 코드 (CAIProjectModule.py)\n",
    "               \n",
    "               personal_color_palette 모듈화 및 테스트\n",
    "               -> ColorPalette클래스 (palette_bright / palette_harmony / matchedPrdt / to_rgb / show_color)\n",
    "               -> DatabaseConnetion클래스(connectDB / select_prdt_color / getPrdtimage)\n",
    "               \n",
    "               Main_product_color_extraction 모듈화 및 테스트\n",
    "               -> ColorClustering클래스 (greytone_filter / color_generator / colorClustering)\n",
    "               -> DatabaseConnection클래스 (getUserPurchase)\n",
    "               \n",
    "               최종 리턴 필요 값 추출 코드 정리\n",
    "               -> 팔레트 별 웹용 RGB 값\n",
    "               -> 추천항목 별 웹용 이미지링크\n",
    "\n",
    "    수정내용 \n",
    "        20/04/06\n",
    "               greytone_filter 개선\n",
    "               -> 회색조 필터링 시 리턴값이 없으면 필터링 전 hsv 리턴\n",
    "               colorClustering 오류 수정\n",
    "               -> NearestCentroid() : 클러스터 수가 2개 미만일 때 중앙값을 찾을 수 없음\n",
    "               -> 최소 클러스터 수 2개로 수정\n",
    "               \n",
    "        20/04/07\n",
    "               matchedPrdt 개선\n",
    "               -> 팔레트 별 중복되는 상품코드 발생 시 제외\n",
    "               getUserPurchase 오류 수정\n",
    "               -> 조회 닉네임의 구매목록이 없는 경우 오류 수정\n",
    "               -> 해당 오류 발생 시 웹용 이미지링크 최종 리턴값\n",
    "                   : 'error:No matched user or No matched purchase list'\n",
    "\n",
    "        20/04/08\n",
    "               ColorPalette클래스 (palette_bright / palette_harmony) 오류 수정"
   ]
  },
  {
   "cell_type": "code",
   "execution_count": 1,
   "metadata": {},
   "outputs": [
    {
     "name": "stderr",
     "output_type": "stream",
     "text": [
      "C:\\Users\\acorn\\AppData\\Local\\Continuum\\anaconda3\\lib\\site-packages\\sklearn\\utils\\deprecation.py:144: FutureWarning: The sklearn.utils.testing module is  deprecated in version 0.22 and will be removed in version 0.24. The corresponding classes / functions should instead be imported from sklearn.utils. Anything that cannot be imported from sklearn.utils is now part of the private API.\n",
      "  warnings.warn(message, FutureWarning)\n",
      "C:\\Users\\acorn\\AppData\\Local\\Continuum\\anaconda3\\lib\\site-packages\\sklearn\\utils\\deprecation.py:144: FutureWarning: The sklearn.neighbors.nearest_centroid module is  deprecated in version 0.22 and will be removed in version 0.24. The corresponding classes / functions should instead be imported from sklearn.neighbors. Anything that cannot be imported from sklearn.neighbors is now part of the private API.\n",
      "  warnings.warn(message, FutureWarning)\n"
     ]
    }
   ],
   "source": [
    "import CAIProjectModule\n",
    "\n",
    "CP = CAIProjectModule.ColorPalette()\n",
    "CD = CAIProjectModule.DatabaseConnetion()\n",
    "CC = CAIProjectModule.ColorClustering()"
   ]
  },
  {
   "cell_type": "code",
   "execution_count": 2,
   "metadata": {
    "scrolled": false
   },
   "outputs": [
    {
     "name": "stderr",
     "output_type": "stream",
     "text": [
      "C:\\Users\\acorn\\Desktop\\jay\\pythonwork\\CAI\\CAIProjectModule.py:571: FutureWarning: elementwise comparison failed; returning scalar instead, but in the future will perform elementwise comparison\n",
      "  if \"No matched user\" in HSV:\n",
      "C:\\Users\\acorn\\Desktop\\jay\\pythonwork\\CAI\\CAIProjectModule.py:380: FutureWarning: elementwise comparison failed; returning scalar instead, but in the future will perform elementwise comparison\n",
      "  if \"No matched user\" in personal_palette:\n"
     ]
    }
   ],
   "source": [
    "### DB 연결\n",
    "# database = {\"host\":\"49.142.181.65\", \"user\":\"cai\", \"passwd\":\"1234\", \"db\":\"final\"}\n",
    "database = {\"host\":\"192.168.0.41\", \"user\":\"cai\", \"passwd\":\"1234\", \"db\":\"final\"}\n",
    "# database = {\"host\":\"localhost\", \"user\":\"root\", \"passwd\":\"1111\", \"db\":\"musinsa_test\"}\n",
    "cursor = CD.connectDB(database)\n",
    "\n",
    "### PRDT_IMAGE 테이블에 H, S, V, 상품코드 조회\n",
    "HSV = CD.select_prdt_color(cursor)\n",
    "\n",
    "########################################### 컬러 팔레트 추출 #########################################\n",
    "# 얼굴 측색결과 hsv 받아와야함\n",
    "hsv = [20, 45, 98]\n",
    "# [20, 40, 25]\n",
    "############################\n",
    "\n",
    "### 얼굴 측색값 기준 팔레트 추출 : 각 6개 색 추출\n",
    "hsv_palette_bright = CP.palette_bright(hsv)\n",
    "hsv_palette_harmony = CP.palette_harmony(hsv)\n",
    "\n",
    "### 웹용 팔레트 RGB 변환 : 각 6개 색\n",
    "rgb_palette_bright = CP.to_rgb(hsv_palette_bright)\n",
    "rgb_palette_harmony = CP.to_rgb(hsv_palette_harmony)\n",
    "\n",
    "\n",
    "########################################### 주요 구매색 추출 #########################################\n",
    "# 웹에서 받아와야함\n",
    "# 테스트용 DB 닉네임 (구매 많은 순)\n",
    "nicknames = [\"ZENG\", \"맥클\", \"말쑥2\", \"오케이굿잡\", \"추붐\", \"쵸롱잉\", \"윤뽀돌잉\", \"때때로\", \"hyunOoa\",\n",
    "             \"siun9\", \"빵도니\", \"휘파람위히히히\"]\n",
    "# user_nick = nicknames[0]\n",
    "user_nick = \"JAY\"\n",
    "############################\n",
    "\n",
    "### 유저 닉네임에 따른 구매목록 조회\n",
    "purchase_prdt = CD.getUserPurchase(cursor, user_nick)\n",
    "### 회색조 필터링 (흰색/검은색 상품 필터링)\n",
    "purchase_hsv = CC.greytoneFilter(purchase_prdt)\n",
    "### Clustering 정확도를 위한 색값 제너레이팅\n",
    "purchase_HSV = CC.colorGenerator(purchase_hsv)\n",
    "### Clustering 중앙값(주구매색) 리턴\n",
    "centroid = CC.colorClustering(purchase_HSV)\n",
    "########################################### 상품매칭 & 이미지  #########################################\n",
    "\n",
    "### 팔레트 컬러 상품 매칭 : 각 상품코드 6개\n",
    "prdtCode_bright = CP.matchedPrdt(hsv_palette_bright, HSV)\n",
    "prdtCode_harmony = CP.matchedPrdt(hsv_palette_harmony, HSV)\n",
    "prdtCode_purchase = CP.matchedPrdt(centroid, HSV)\n",
    "\n",
    "### 상품 이미지링크 갖고오기 : 웹페이지 노출용 이미지링크 각 6개\n",
    "imgLink_bright = CD.getPrdtimage(cursor, prdtCode_bright)\n",
    "imgLink_harmony = CD.getPrdtimage(cursor, prdtCode_harmony)\n",
    "imgLink_purchase = CD.getPrdtimage(cursor, prdtCode_purchase)"
   ]
  },
  {
   "cell_type": "code",
   "execution_count": 3,
   "metadata": {},
   "outputs": [
    {
     "data": {
      "image/png": "[encoded data removed]",
      "text/plain": [
       "<Figure size 1080x216 with 6 Axes>"
      ]
     },
     "metadata": {},
     "output_type": "display_data"
    },
    {
     "data": {
      "image/png": "[encoded data removed]",
      "text/plain": [
       "<Figure size 1080x216 with 6 Axes>"
      ]
     },
     "metadata": {},
     "output_type": "display_data"
    }
   ],
   "source": [
    "### 팔레트 색 확인\n",
    "CP.show_colors(hsv_palette_bright)\n",
    "CP.show_colors(hsv_palette_harmony)\n",
    "# CP.show_colors(centroid)"
   ]
  },
  {
   "cell_type": "code",
   "execution_count": 4,
   "metadata": {},
   "outputs": [
    {
     "data": {
      "image/png": "[encoded data removed]",
      "text/plain": [
       "<Figure size 1080x216 with 6 Axes>"
      ]
     },
     "metadata": {},
     "output_type": "display_data"
    },
    {
     "data": {
      "image/png": "[encoded data removed]",
      "text/plain": [
       "<Figure size 1080x216 with 6 Axes>"
      ]
     },
     "metadata": {},
     "output_type": "display_data"
    }
   ],
   "source": [
    "### 팔레트 색 확인\n",
    "CP.show_colors(hsv_palette_bright)\n",
    "CP.show_colors(hsv_palette_harmony)\n",
    "# CP.show_colors(centroid)"
   ]
  },
  {
   "cell_type": "code",
   "execution_count": 5,
   "metadata": {},
   "outputs": [
    {
     "name": "stdout",
     "output_type": "stream",
     "text": [
      "bright :  [[127.0, 176.0, 212.0], [202.0, 224.0, 221.0], [166.0, 177.0, 237.0], [106.0, 212.0, 159.0], [123.0, 190.0, 224.0], [212.0, 106.0, 157.0]]\n",
      "harmony :  [[197.0, 199.0, 109.0], [237.0, 217.0, 202.0], [190.0, 224.0, 146.0], [199.0, 102.0, 90.0], [237.0, 230.0, 119.0], [90.0, 187.0, 199.0]]\n"
     ]
    }
   ],
   "source": [
    "# 웹용 컬러팔레트 RGB값\n",
    "print(\"bright : \", rgb_palette_bright)\n",
    "print(\"harmony : \", rgb_palette_harmony)"
   ]
  },
  {
   "cell_type": "code",
   "execution_count": 6,
   "metadata": {
    "scrolled": true
   },
   "outputs": [
    {
     "name": "stdout",
     "output_type": "stream",
     "text": [
      "bright :  ['https://image.msscdn.net/images/goods_img/20200304/1334916/1334916_2_500.jpg', 'https://image.msscdn.net/images/goods_img/20200302/1328815/1328815_1_500.jpg', 'https://image.msscdn.net/images/goods_img/20180903/845392/845392_2_500.jpg', 'https://image.msscdn.net/images/goods_img/20200308/1340618/1340618_1_500.jpg', 'https://image.msscdn.net/images/goods_img/20200204/1290959/1290959_1_500.jpg', 'https://image.msscdn.net/images/goods_img/20200110/1268121/1268121_1_500.jpg']\n",
      "\n",
      "harmony :  ['https://image.msscdn.net/images/goods_img/20200227/1326771/1326771_1_500.jpg', 'https://image.msscdn.net/images/goods_img/20190917/1155919/1155919_2_500.jpg', 'https://image.msscdn.net/images/goods_img/20190918/1157657/1157657_4_500.jpg', 'https://image.msscdn.net/images/goods_img/20200225/1321666/1321666_1_500.jpg', 'https://image.msscdn.net/images/goods_img/20200304/1334593/1334593_1_500.jpg', 'https://image.msscdn.net/images/goods_img/20190909/1148785/1148785_1_500.jpg']\n",
      "\n",
      "purchase :  ['https://image.msscdn.net/images/goods_img/20200311/1346730/1346730_1_500.jpg', 'https://image.msscdn.net/images/goods_img/20200213/1304902/1304902_2_500.jpg', 'https://image.msscdn.net/images/goods_img/20200313/1351339/1351339_1_500.jpg', 'https://image.msscdn.net/images/goods_img/20200303/1331170/1331170_1_500.jpg', 'https://image.msscdn.net/images/goods_img/20200302/1328808/1328808_1_500.jpg', 'https://image.msscdn.net/images/goods_img/20191129/1239970/1239970_1_500.jpg']\n"
     ]
    }
   ],
   "source": [
    "# 웹용 이미지 링크\n",
    "print(\"bright : \", imgLink_bright)\n",
    "print(\"\\nharmony : \", imgLink_harmony)\n",
    "print(\"\\npurchase : \", imgLink_purchase)"
   ]
  },
  {
   "cell_type": "code",
   "execution_count": null,
   "metadata": {},
   "outputs": [],
   "source": []
  }
 ],
 "metadata": {
  "kernelspec": {
   "display_name": "Python 3",
   "language": "python",
   "name": "python3"
  },
  "language_info": {
   "codemirror_mode": {
    "name": "ipython",
    "version": 3
   },
   "file_extension": ".py",
   "mimetype": "text/x-python",
   "name": "python",
   "nbconvert_exporter": "python",
   "pygments_lexer": "ipython3",
   "version": "3.7.6"
  }
 },
 "nbformat": 4,
 "nbformat_minor": 2
}
