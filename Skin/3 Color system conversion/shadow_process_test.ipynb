{
 "cells": [
  {
   "cell_type": "markdown",
   "metadata": {},
   "source": [
    "### 그림자 보정\n",
    "    \n",
    "    최초 작성일 : 20/02/21\n",
    "    작성자 : 양희승\n",
    "    \n",
    "    작성내용 : 그림자 때문에 피부색을 균등히 뽑지 못하기 때문에\n",
    "               컬러 보정을 통해 그림자 제거"
   ]
  },
  {
   "cell_type": "code",
   "execution_count": 1,
   "metadata": {},
   "outputs": [],
   "source": [
    "import cv2 as cv\n",
    "import numpy as np"
   ]
  },
  {
   "cell_type": "code",
   "execution_count": 5,
   "metadata": {},
   "outputs": [
    {
     "data": {
      "text/plain": [
       "True"
      ]
     },
     "execution_count": 5,
     "metadata": {},
     "output_type": "execute_result"
    }
   ],
   "source": [
    "file_name = \"origin_6\"\n",
    "img = cv.imread(\"img/\"+file_name+\".jpg\", -1)\n",
    "\n",
    "rgb_planes = cv.split(img)\n",
    "\n",
    "result_planes = []\n",
    "result_norm_planes = []\n",
    "for plane in rgb_planes:\n",
    "    dilated_img = cv.dilate(plane, np.ones((7,7), np.uint8))\n",
    "    bg_img = cv.medianBlur(dilated_img, 21)\n",
    "    diff_img = 255 - cv.absdiff(plane, bg_img)\n",
    "    norm_img = cv.normalize(diff_img,None, alpha=0, beta=255, norm_type=cv.NORM_MINMAX, dtype=cv.CV_8UC1)\n",
    "    result_planes.append(diff_img)\n",
    "    result_norm_planes.append(norm_img)\n",
    "\n",
    "result = cv.merge(result_planes)\n",
    "final = img - result\n",
    "cv.imwrite('img/shadows_out.jpg', final)\n",
    "\n",
    "# cv.imshow(\"test\", final)\n",
    "# cv.waitKey(0) \n",
    "# cv.destroyAllWindows() \n",
    "# cv.waitKey(0)\n",
    "\n"
   ]
  },
  {
   "cell_type": "code",
   "execution_count": null,
   "metadata": {},
   "outputs": [],
   "source": []
  }
 ],
 "metadata": {
  "kernelspec": {
   "display_name": "Python 3",
   "language": "python",
   "name": "python3"
  },
  "language_info": {
   "codemirror_mode": {
    "name": "ipython",
    "version": 3
   },
   "file_extension": ".py",
   "mimetype": "text/x-python",
   "name": "python",
   "nbconvert_exporter": "python",
   "pygments_lexer": "ipython3",
   "version": "3.6.8"
  }
 },
 "nbformat": 4,
 "nbformat_minor": 4
}
