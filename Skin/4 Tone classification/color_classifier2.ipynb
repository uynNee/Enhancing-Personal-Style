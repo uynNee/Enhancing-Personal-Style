{
 "cells": [
  {
   "cell_type": "markdown",
   "metadata": {},
   "source": [
    "### Personal Color Type Classification (Original File)\n",
    "\n",
    "    Initial creation date: 20/02/11\n",
    "    Author: Yesul Cho\n",
    "    \n",
    "    Content: Classification of personal color types based on HSV\n",
    "    \n",
    "    Revisions: \n",
    "        20/02/19\n",
    "            - Changed classification criteria from Munsell to HSV\n",
    "        \n",
    "        20/02/20\n",
    "            - Assigned numerical values to personal color type results, reorganized return, adjusted type criteria (Cool's Detail)\n",
    "            \n",
    "        20/02/24\n",
    "            - Added class format\n",
    "            \n",
    "        20/02/25\n",
    "            - Added return in class format, removed unnecessary functions\n",
    "            \n",
    "        20/03/05\n",
    "            - Corrected mathematical errors\n",
    "            \n",
    "        20/03/08\n",
    "            - Modified H range"
   ]
  },
  {
   "cell_type": "code",
   "execution_count": 1,
   "metadata": {},
   "outputs": [],
   "source": [
    "# Function\n",
    "# Classify based on criteria\n",
    "\n",
    "def color_classifier(person_HSV):\n",
    "    \n",
    "    # Assign variables based on input values for Hue, Saturation, and Value\n",
    "    H = float(person_HSV[0])\n",
    "    S = float(person_HSV[1])\n",
    "    V = float(person_HSV[2])\n",
    "    diff = round(V - S, 2)\n",
    "    \n",
    "    color_type = [\"WSB\", \"WSL\", \"WAD\", \"WAM\", \"CSL\", \"CSM\", \"CWB\", \"CWD\"]\n",
    "    \n",
    "    if H >= 23 and H <= 203: \n",
    "        if diff >= 43.15:\n",
    "            if S >= 32.47:\n",
    "                ans = 0\n",
    "                # Warm Spring Bright                            \n",
    "            else:\n",
    "                ans = 1\n",
    "                # Warm Spring Light\n",
    "                                \n",
    "        elif diff < 43.15:\n",
    "            if S >= 32.47:\n",
    "                ans = 2\n",
    "                # Warm Autumn Deep                \n",
    "            else:\n",
    "                ans = 3\n",
    "                # Warm Autumn Mute\n",
    "                \n",
    "\n",
    "                \n",
    "    elif (H >= 0 and H < 23) or (H > 203 and H <= 360):\n",
    "        if diff >= 47.15:\n",
    "            if diff >= 60.80:\n",
    "                ans = 4\n",
    "                # Cool Summer Light                \n",
    "            else:\n",
    "                ans = 5\n",
    "                # Cool Summer Mute\n",
    "                                \n",
    "        elif diff < 47.15:\n",
    "            if diff >= 23.58:\n",
    "                ans = 6\n",
    "                # Cool Winter Bright                \n",
    "            else:\n",
    "                ans = 7\n",
    "                # Cool Winter Deep\n",
    "                \n",
    "                \n",
    "    else:\n",
    "        ans = -1\n",
    "        # Error\n",
    "    \n",
    "    \n",
    "    return ans"
   ]
  },
  {
   "cell_type": "code",
   "execution_count": 2,
   "metadata": {},
   "outputs": [],
   "source": [
    "# Color type\n",
    "color_type = [\"WSB\", \"WSL\", \"WAD\", \"WAM\", \"CSL\", \"CSM\", \"CWB\", \"CWD\"]"
   ]
  },
  {
   "cell_type": "code",
   "execution_count": 3,
   "metadata": {},
   "outputs": [
    {
     "data": {
      "text/plain": [
       "'WAD'"
      ]
     },
     "execution_count": 3,
     "metadata": {},
     "output_type": "execute_result"
    }
   ],
   "source": [
    "# Assignment\n",
    "color_type[color_classifier([24.87, 47.68, 66.43])]"
   ]
  },
  {
   "cell_type": "code",
   "execution_count": null,
   "metadata": {},
   "outputs": [],
   "source": []
  },
  {
   "cell_type": "code",
   "execution_count": 4,
   "metadata": {},
   "outputs": [],
   "source": [
    "# Class\n",
    "# Classify based on criteria\n",
    "\n",
    "class Color:\n",
    "    person_HSV = []\n",
    "        \n",
    "    def color_classifier(self, person_HSV):    \n",
    "        self.H = float(person_HSV[0])\n",
    "        self.S = float(person_HSV[1])\n",
    "        self.V = float(person_HSV[2])\n",
    "        diff = round(self.V - self.S, 2)\n",
    "    \n",
    "        color_type = [\"WSB\", \"WSL\", \"WAD\", \"WAM\", \"CSL\", \"CSM\", \"CWB\", \"CWD\"]\n",
    "\n",
    "        if self.H >= 23 and self.H <= 203:\n",
    "            if diff >= 43.15:\n",
    "                if self.S >= 32.47:\n",
    "                    self.ans = 0\n",
    "                    # Warm Spring Bright                            \n",
    "                else:\n",
    "                    self.ans = 1\n",
    "                    # Warm Spring Light\n",
    "\n",
    "            elif diff < 43.15:\n",
    "                if self.S >= 32.47:\n",
    "                    self.ans = 2\n",
    "                    # Warm Autumn Deep                \n",
    "                else:\n",
    "                    self.ans = 3\n",
    "                    # Warm Autumn Mute\n",
    "\n",
    "        elif (self.H >= 0 and self.H < 23) or (self.H > 203 and self.H <= 360):\n",
    "            if diff >= 47.15:\n",
    "                if diff >= 60.80:\n",
    "                    self.ans = 4\n",
    "                    # Cool Summer Light                \n",
    "                else:\n",
    "                    self.ans = 5\n",
    "                    # Cool Summer Mute\n",
    "\n",
    "            elif diff < 47.15:\n",
    "                if diff >= 23.58:\n",
    "                    self.ans = 6\n",
    "                    # Cool Winter Bright                \n",
    "                else:\n",
    "                    self.ans = 7\n",
    "                    # Cool Winter Deep\n",
    "\n",
    "        else:\n",
    "            self.ans = -1\n",
    "            # Error\n",
    "            \n",
    "        return self.ans"
   ]
  },
  {
   "cell_type": "code",
   "execution_count": 5,
   "metadata": {},
   "outputs": [
    {
     "name": "stdout",
     "output_type": "stream",
     "text": [
      "2\n"
     ]
    }
   ],
   "source": [
    "C1 = Color()\n",
    "hsv = [31.534, 40.884, 70.98]\n",
    "tn = C1.color_classifier(hsv)\n",
    "\n",
    "print(tn)"
   ]
  },
  {
   "cell_type": "code",
   "execution_count": null,
   "metadata": {},
   "outputs": [],
   "source": []
  }
 ],
 "metadata": {
  "kernelspec": {
   "display_name": "Python 3",
   "language": "python",
   "name": "python3"
  },
  "language_info": {
   "codemirror_mode": {
    "name": "ipython",
    "version": 3
   },
   "file_extension": ".py",
   "mimetype": "text/x-python",
   "name": "python",
   "nbconvert_exporter": "python",
   "pygments_lexer": "ipython3",
   "version": "3.7.4"
  }
 },
 "nbformat": 4,
 "nbformat_minor": 2
}
