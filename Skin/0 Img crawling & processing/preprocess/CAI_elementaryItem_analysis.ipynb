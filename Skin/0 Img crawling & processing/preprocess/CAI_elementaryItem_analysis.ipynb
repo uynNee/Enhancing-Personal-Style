{
 "cells": [
  {
   "cell_type": "markdown",
   "metadata": {},
   "source": [
    " ## 설문조사 진행한 사람들 특성 파악\n",
    " \n",
    "    최초 작성일 : 2020/03/22\n",
    "    작성자 : 조예슬 \n",
    "    \n",
    "    < 작성 내용 >\n",
    "    \n",
    "        설문지(1), (2) 사용하여\n",
    "    \n",
    "        - 성별 + 연령 분포 알아보기\n",
    "        \n",
    "        - Definition + Need 분포 알아보기\n",
    "        \n",
    "        - Fashion Interest + Definition 분포 알아보기\n",
    "        \n",
    "        - Fashion Interest + Need 분포 알아보기\n",
    "        \n",
    "        - Fashion Interest + purpose 분포 알아보기"
   ]
  },
  {
   "cell_type": "markdown",
   "metadata": {},
   "source": [
    "### Sex + Age  분포 알아보기"
   ]
  },
  {
   "cell_type": "code",
   "execution_count": 1,
   "metadata": {},
   "outputs": [
    {
     "name": "stdout",
     "output_type": "stream",
     "text": [
      "'data.frame':\t114 obs. of  4 variables:\n",
      " $ X        : int  0 1 2 3 4 5 6 7 8 9 ...\n",
      " $ sex      : Factor w/ 2 levels \"Female\",\"Male\": 2 1 1 1 1 1 1 2 1 1 ...\n",
      " $ age_class: int  20 20 20 20 20 20 20 20 20 20 ...\n",
      " $ cnt      : int  1 1 1 1 1 1 1 1 1 1 ...\n"
     ]
    },
    {
     "data": {
      "text/html": [
       "<table>\n",
       "<thead><tr><th scope=col>X</th><th scope=col>sex</th><th scope=col>age_class</th><th scope=col>cnt</th></tr></thead>\n",
       "<tbody>\n",
       "\t<tr><td>0     </td><td>Male  </td><td>20    </td><td>1     </td></tr>\n",
       "\t<tr><td>1     </td><td>Female</td><td>20    </td><td>1     </td></tr>\n",
       "\t<tr><td>2     </td><td>Female</td><td>20    </td><td>1     </td></tr>\n",
       "\t<tr><td>3     </td><td>Female</td><td>20    </td><td>1     </td></tr>\n",
       "\t<tr><td>4     </td><td>Female</td><td>20    </td><td>1     </td></tr>\n",
       "\t<tr><td>5     </td><td>Female</td><td>20    </td><td>1     </td></tr>\n",
       "</tbody>\n",
       "</table>\n"
      ],
      "text/latex": [
       "\\begin{tabular}{r|llll}\n",
       " X & sex & age\\_class & cnt\\\\\n",
       "\\hline\n",
       "\t 0      & Male   & 20     & 1     \\\\\n",
       "\t 1      & Female & 20     & 1     \\\\\n",
       "\t 2      & Female & 20     & 1     \\\\\n",
       "\t 3      & Female & 20     & 1     \\\\\n",
       "\t 4      & Female & 20     & 1     \\\\\n",
       "\t 5      & Female & 20     & 1     \\\\\n",
       "\\end{tabular}\n"
      ],
      "text/markdown": [
       "\n",
       "| X | sex | age_class | cnt |\n",
       "|---|---|---|---|\n",
       "| 0      | Male   | 20     | 1      |\n",
       "| 1      | Female | 20     | 1      |\n",
       "| 2      | Female | 20     | 1      |\n",
       "| 3      | Female | 20     | 1      |\n",
       "| 4      | Female | 20     | 1      |\n",
       "| 5      | Female | 20     | 1      |\n",
       "\n"
      ],
      "text/plain": [
       "  X sex    age_class cnt\n",
       "1 0 Male   20        1  \n",
       "2 1 Female 20        1  \n",
       "3 2 Female 20        1  \n",
       "4 3 Female 20        1  \n",
       "5 4 Female 20        1  \n",
       "6 5 Female 20        1  "
      ]
     },
     "metadata": {},
     "output_type": "display_data"
    }
   ],
   "source": [
    "# 데이터 불러오기\n",
    "\n",
    "SA_cnt <- read.csv(\"C:/Users/cho ye seul/Documents/예슬/Acorn/FinalProject/Statistical Analysis/SA_cnt.csv\")\n",
    "str(SA_cnt)\n",
    "head(SA_cnt)"
   ]
  },
  {
   "cell_type": "code",
   "execution_count": 10,
   "metadata": {},
   "outputs": [
    {
     "data": {
      "text/html": [
       "<table>\n",
       "<thead><tr><th></th><th scope=col>Male</th><th scope=col>Female</th></tr></thead>\n",
       "<tbody>\n",
       "\t<tr><th scope=row>teenth</th><td> 0</td><td> 1</td></tr>\n",
       "\t<tr><th scope=row>twenty</th><td>23</td><td>76</td></tr>\n",
       "\t<tr><th scope=row>thirty</th><td> 3</td><td> 6</td></tr>\n",
       "\t<tr><th scope=row>forty</th><td> 0</td><td> 3</td></tr>\n",
       "\t<tr><th scope=row>fifty</th><td> 0</td><td> 2</td></tr>\n",
       "</tbody>\n",
       "</table>\n"
      ],
      "text/latex": [
       "\\begin{tabular}{r|ll}\n",
       "  & Male & Female\\\\\n",
       "\\hline\n",
       "\tteenth &  0 &  1\\\\\n",
       "\ttwenty & 23 & 76\\\\\n",
       "\tthirty &  3 &  6\\\\\n",
       "\tforty &  0 &  3\\\\\n",
       "\tfifty &  0 &  2\\\\\n",
       "\\end{tabular}\n"
      ],
      "text/markdown": [
       "\n",
       "| <!--/--> | Male | Female |\n",
       "|---|---|---|\n",
       "| teenth |  0 |  1 |\n",
       "| twenty | 23 | 76 |\n",
       "| thirty |  3 |  6 |\n",
       "| forty |  0 |  3 |\n",
       "| fifty |  0 |  2 |\n",
       "\n"
      ],
      "text/plain": [
       "       Male Female\n",
       "teenth  0    1    \n",
       "twenty 23   76    \n",
       "thirty  3    6    \n",
       "forty   0    3    \n",
       "fifty   0    2    "
      ]
     },
     "metadata": {},
     "output_type": "display_data"
    }
   ],
   "source": [
    "## 데이터프레임 재생성\n",
    "\n",
    "# teenth\n",
    "teenth_F <- with(SA_cnt, sum(cnt[sex == \"Female\" & age_class == \"10\"]))\n",
    "teenth_M <- with(SA_cnt, sum(cnt[sex == \"Male\" & age_class == \"10\"]))\n",
    "\n",
    "# twenty\n",
    "twenty_F <- with(SA_cnt, sum(cnt[sex == \"Female\" & age_class == \"20\"]))\n",
    "twenty_M <- with(SA_cnt, sum(cnt[sex == \"Male\" & age_class == \"20\"]))\n",
    "\n",
    "# thirty\n",
    "thirty_F <- with(SA_cnt, sum(cnt[sex == \"Female\" & age_class == \"30\"]))\n",
    "thirty_M <- with(SA_cnt, sum(cnt[sex == \"Male\" & age_class == \"30\"]))\n",
    "\n",
    "# forty\n",
    "forty_F <- with(SA_cnt, sum(cnt[sex == \"Female\" & age_class == \"40\"]))\n",
    "forty_M <- with(SA_cnt, sum(cnt[sex == \"Male\" & age_class == \"40\"]))\n",
    "\n",
    "# fifty\n",
    "fifty_F <- with(SA_cnt, sum(cnt[sex == \"Female\" & age_class == \"50\"]))\n",
    "fifty_M <- with(SA_cnt, sum(cnt[sex == \"Male\" & age_class == \"50\"]))\n",
    "\n",
    "teenth <- c(teenth_M, teenth_F)\n",
    "twenty <- c(twenty_M, twenty_F)\n",
    "thirty <- c(thirty_M, thirty_F)\n",
    "forty <- c(forty_M, forty_F)\n",
    "fifty <- c(fifty_M, fifty_F)\n",
    "\n",
    "df_SA_cnt <- data.frame(teenth, twenty, thirty, forty, fifty)\n",
    "df_SA_cnt <- t(df_SA_cnt)\n",
    "colnames(df_SA_cnt) <- c(\"Male\", \"Female\")\n",
    "\n",
    "df_SA_cnt"
   ]
  },
  {
   "cell_type": "code",
   "execution_count": 16,
   "metadata": {},
   "outputs": [
    {
     "name": "stdout",
     "output_type": "stream",
     "text": [
      "'data.frame':\t96 obs. of  4 variables:\n",
      " $ X        : int  0 1 2 3 4 5 6 7 8 9 ...\n",
      " $ sex      : Factor w/ 2 levels \"Female\",\"Male\": 1 2 1 2 1 1 1 1 1 1 ...\n",
      " $ age_class: int  20 20 20 20 20 30 30 20 30 20 ...\n",
      " $ cnt      : int  1 1 1 1 1 1 1 1 1 1 ...\n"
     ]
    },
    {
     "data": {
      "text/html": [
       "<table>\n",
       "<thead><tr><th scope=col>X</th><th scope=col>sex</th><th scope=col>age_class</th><th scope=col>cnt</th></tr></thead>\n",
       "<tbody>\n",
       "\t<tr><td>0     </td><td>Female</td><td>20    </td><td>1     </td></tr>\n",
       "\t<tr><td>1     </td><td>Male  </td><td>20    </td><td>1     </td></tr>\n",
       "\t<tr><td>2     </td><td>Female</td><td>20    </td><td>1     </td></tr>\n",
       "\t<tr><td>3     </td><td>Male  </td><td>20    </td><td>1     </td></tr>\n",
       "\t<tr><td>4     </td><td>Female</td><td>20    </td><td>1     </td></tr>\n",
       "\t<tr><td>5     </td><td>Female</td><td>30    </td><td>1     </td></tr>\n",
       "</tbody>\n",
       "</table>\n"
      ],
      "text/latex": [
       "\\begin{tabular}{r|llll}\n",
       " X & sex & age\\_class & cnt\\\\\n",
       "\\hline\n",
       "\t 0      & Female & 20     & 1     \\\\\n",
       "\t 1      & Male   & 20     & 1     \\\\\n",
       "\t 2      & Female & 20     & 1     \\\\\n",
       "\t 3      & Male   & 20     & 1     \\\\\n",
       "\t 4      & Female & 20     & 1     \\\\\n",
       "\t 5      & Female & 30     & 1     \\\\\n",
       "\\end{tabular}\n"
      ],
      "text/markdown": [
       "\n",
       "| X | sex | age_class | cnt |\n",
       "|---|---|---|---|\n",
       "| 0      | Female | 20     | 1      |\n",
       "| 1      | Male   | 20     | 1      |\n",
       "| 2      | Female | 20     | 1      |\n",
       "| 3      | Male   | 20     | 1      |\n",
       "| 4      | Female | 20     | 1      |\n",
       "| 5      | Female | 30     | 1      |\n",
       "\n"
      ],
      "text/plain": [
       "  X sex    age_class cnt\n",
       "1 0 Female 20        1  \n",
       "2 1 Male   20        1  \n",
       "3 2 Female 20        1  \n",
       "4 3 Male   20        1  \n",
       "5 4 Female 20        1  \n",
       "6 5 Female 30        1  "
      ]
     },
     "metadata": {},
     "output_type": "display_data"
    }
   ],
   "source": [
    "# 데이터 불러오기\n",
    "\n",
    "SA_cnt2 <- read.csv(\"C:/Users/cho ye seul/Documents/예슬/Acorn/FinalProject/Statistical Analysis/SA_cnt2.csv\")\n",
    "str(SA_cnt2)\n",
    "head(SA_cnt2)"
   ]
  },
  {
   "cell_type": "code",
   "execution_count": 17,
   "metadata": {},
   "outputs": [
    {
     "data": {
      "text/html": [
       "<table>\n",
       "<thead><tr><th></th><th scope=col>Male</th><th scope=col>Female</th></tr></thead>\n",
       "<tbody>\n",
       "\t<tr><th scope=row>teenth</th><td> 1</td><td> 6</td></tr>\n",
       "\t<tr><th scope=row>twenty</th><td>24</td><td>32</td></tr>\n",
       "\t<tr><th scope=row>thirty</th><td> 5</td><td>16</td></tr>\n",
       "\t<tr><th scope=row>forty</th><td> 2</td><td> 1</td></tr>\n",
       "\t<tr><th scope=row>fifty</th><td> 3</td><td> 6</td></tr>\n",
       "</tbody>\n",
       "</table>\n"
      ],
      "text/latex": [
       "\\begin{tabular}{r|ll}\n",
       "  & Male & Female\\\\\n",
       "\\hline\n",
       "\tteenth &  1 &  6\\\\\n",
       "\ttwenty & 24 & 32\\\\\n",
       "\tthirty &  5 & 16\\\\\n",
       "\tforty &  2 &  1\\\\\n",
       "\tfifty &  3 &  6\\\\\n",
       "\\end{tabular}\n"
      ],
      "text/markdown": [
       "\n",
       "| <!--/--> | Male | Female |\n",
       "|---|---|---|\n",
       "| teenth |  1 |  6 |\n",
       "| twenty | 24 | 32 |\n",
       "| thirty |  5 | 16 |\n",
       "| forty |  2 |  1 |\n",
       "| fifty |  3 |  6 |\n",
       "\n"
      ],
      "text/plain": [
       "       Male Female\n",
       "teenth  1    6    \n",
       "twenty 24   32    \n",
       "thirty  5   16    \n",
       "forty   2    1    \n",
       "fifty   3    6    "
      ]
     },
     "metadata": {},
     "output_type": "display_data"
    }
   ],
   "source": [
    "## 데이터프레임 재생성\n",
    "\n",
    "# teenth\n",
    "teenth_F <- with(SA_cnt2, sum(cnt[sex == \"Female\" & age_class == \"10\"]))\n",
    "teenth_M <- with(SA_cnt2, sum(cnt[sex == \"Male\" & age_class == \"10\"]))\n",
    "\n",
    "# twenty\n",
    "twenty_F <- with(SA_cnt2, sum(cnt[sex == \"Female\" & age_class == \"20\"]))\n",
    "twenty_M <- with(SA_cnt2, sum(cnt[sex == \"Male\" & age_class == \"20\"]))\n",
    "\n",
    "# thirty\n",
    "thirty_F <- with(SA_cnt2, sum(cnt[sex == \"Female\" & age_class == \"30\"]))\n",
    "thirty_M <- with(SA_cnt2, sum(cnt[sex == \"Male\" & age_class == \"30\"]))\n",
    "\n",
    "# forty\n",
    "forty_F <- with(SA_cnt2, sum(cnt[sex == \"Female\" & age_class == \"40\"]))\n",
    "forty_M <- with(SA_cnt2, sum(cnt[sex == \"Male\" & age_class == \"40\"]))\n",
    "\n",
    "# fifty\n",
    "fifty_F <- with(SA_cnt2, sum(cnt[sex == \"Female\" & age_class == \"50\"]))\n",
    "fifty_M <- with(SA_cnt2, sum(cnt[sex == \"Male\" & age_class == \"50\"]))\n",
    "\n",
    "teenth <- c(teenth_M, teenth_F)\n",
    "twenty <- c(twenty_M, twenty_F)\n",
    "thirty <- c(thirty_M, thirty_F)\n",
    "forty <- c(forty_M, forty_F)\n",
    "fifty <- c(fifty_M, fifty_F)\n",
    "\n",
    "df_SA_cnt2 <- data.frame(teenth, twenty, thirty, forty, fifty)\n",
    "df_SA_cnt2 <- t(df_SA_cnt2)\n",
    "colnames(df_SA_cnt2) <- c(\"Male\", \"Female\")\n",
    "\n",
    "df_SA_cnt2"
   ]
  },
  {
   "cell_type": "markdown",
   "metadata": {},
   "source": [
    "#### 자료 분석\n",
    "\n",
    "    설문조사 연령대는 20대가 가장 많음\n",
    "    조원들의 평균 연령대가 20대 중후반이여서 아무래도 20대 인맥이 많음\n",
    "    \n",
    "    성별로 비교해보면 남성보다 여성의 수가 더 많음\n",
    "    남성보단 여성이 퍼스널 컬러에 더 관심이 많다보니 \n",
    "    여성들이 흥미를 가지고 참여를 더 많이 했을 것으로 사료됨\n",
    "    \n",
    "    개발 과정에 있어서 20대 여성의 데이터를 중점적으로 분석해도 될 것이라 사료됨"
   ]
  },
  {
   "cell_type": "code",
   "execution_count": null,
   "metadata": {},
   "outputs": [],
   "source": []
  },
  {
   "cell_type": "markdown",
   "metadata": {},
   "source": [
    "### Definition + Need 분포 알아보기"
   ]
  },
  {
   "cell_type": "code",
   "execution_count": 11,
   "metadata": {},
   "outputs": [
    {
     "name": "stdout",
     "output_type": "stream",
     "text": [
      "'data.frame':\t114 obs. of  4 variables:\n",
      " $ X         : int  0 1 2 3 4 5 6 7 8 9 ...\n",
      " $ definition: Factor w/ 2 levels \"bright\",\"harmony\": 2 1 1 2 1 2 2 2 2 1 ...\n",
      " $ need      : Factor w/ 2 levels \"bright\",\"harmony\": 2 2 1 2 1 2 2 2 2 1 ...\n",
      " $ cnt       : int  1 1 1 1 1 1 1 1 1 1 ...\n"
     ]
    },
    {
     "data": {
      "text/html": [
       "<table>\n",
       "<thead><tr><th scope=col>X</th><th scope=col>definition</th><th scope=col>need</th><th scope=col>cnt</th></tr></thead>\n",
       "<tbody>\n",
       "\t<tr><td>0      </td><td>harmony</td><td>harmony</td><td>1      </td></tr>\n",
       "\t<tr><td>1      </td><td>bright </td><td>harmony</td><td>1      </td></tr>\n",
       "\t<tr><td>2      </td><td>bright </td><td>bright </td><td>1      </td></tr>\n",
       "\t<tr><td>3      </td><td>harmony</td><td>harmony</td><td>1      </td></tr>\n",
       "\t<tr><td>4      </td><td>bright </td><td>bright </td><td>1      </td></tr>\n",
       "\t<tr><td>5      </td><td>harmony</td><td>harmony</td><td>1      </td></tr>\n",
       "</tbody>\n",
       "</table>\n"
      ],
      "text/latex": [
       "\\begin{tabular}{r|llll}\n",
       " X & definition & need & cnt\\\\\n",
       "\\hline\n",
       "\t 0       & harmony & harmony & 1      \\\\\n",
       "\t 1       & bright  & harmony & 1      \\\\\n",
       "\t 2       & bright  & bright  & 1      \\\\\n",
       "\t 3       & harmony & harmony & 1      \\\\\n",
       "\t 4       & bright  & bright  & 1      \\\\\n",
       "\t 5       & harmony & harmony & 1      \\\\\n",
       "\\end{tabular}\n"
      ],
      "text/markdown": [
       "\n",
       "| X | definition | need | cnt |\n",
       "|---|---|---|---|\n",
       "| 0       | harmony | harmony | 1       |\n",
       "| 1       | bright  | harmony | 1       |\n",
       "| 2       | bright  | bright  | 1       |\n",
       "| 3       | harmony | harmony | 1       |\n",
       "| 4       | bright  | bright  | 1       |\n",
       "| 5       | harmony | harmony | 1       |\n",
       "\n"
      ],
      "text/plain": [
       "  X definition need    cnt\n",
       "1 0 harmony    harmony 1  \n",
       "2 1 bright     harmony 1  \n",
       "3 2 bright     bright  1  \n",
       "4 3 harmony    harmony 1  \n",
       "5 4 bright     bright  1  \n",
       "6 5 harmony    harmony 1  "
      ]
     },
     "metadata": {},
     "output_type": "display_data"
    }
   ],
   "source": [
    "# 데이터 불러오기\n",
    "\n",
    "DN_cnt <- read.csv(\"C:/Users/cho ye seul/Documents/예슬/Acorn/FinalProject/Statistical Analysis/DN_cnt.csv\")\n",
    "str(DN_cnt)\n",
    "head(DN_cnt)"
   ]
  },
  {
   "cell_type": "code",
   "execution_count": 15,
   "metadata": {},
   "outputs": [
    {
     "data": {
      "text/html": [
       "<table>\n",
       "<thead><tr><th></th><th scope=col>cnt</th></tr></thead>\n",
       "<tbody>\n",
       "\t<tr><th scope=row>BB</th><td>22</td></tr>\n",
       "\t<tr><th scope=row>BH</th><td> 5</td></tr>\n",
       "\t<tr><th scope=row>HB</th><td>22</td></tr>\n",
       "\t<tr><th scope=row>HH</th><td>65</td></tr>\n",
       "</tbody>\n",
       "</table>\n"
      ],
      "text/latex": [
       "\\begin{tabular}{r|l}\n",
       "  & cnt\\\\\n",
       "\\hline\n",
       "\tBB & 22\\\\\n",
       "\tBH &  5\\\\\n",
       "\tHB & 22\\\\\n",
       "\tHH & 65\\\\\n",
       "\\end{tabular}\n"
      ],
      "text/markdown": [
       "\n",
       "| <!--/--> | cnt |\n",
       "|---|---|\n",
       "| BB | 22 |\n",
       "| BH |  5 |\n",
       "| HB | 22 |\n",
       "| HH | 65 |\n",
       "\n"
      ],
      "text/plain": [
       "   cnt\n",
       "BB 22 \n",
       "BH  5 \n",
       "HB 22 \n",
       "HH 65 "
      ]
     },
     "metadata": {},
     "output_type": "display_data"
    }
   ],
   "source": [
    "## 데이터프레임 재생성\n",
    "\n",
    "# bright + bright\n",
    "BB <- with(DN_cnt, sum(cnt[definition == \"bright\" & need == \"bright\"]))\n",
    "\n",
    "# bright + harmony\n",
    "BH <- with(DN_cnt, sum(cnt[definition == \"bright\" & need == \"harmony\"]))\n",
    "\n",
    "# harmony + bright\n",
    "HB <- with(DN_cnt, sum(cnt[definition == \"harmony\" & need == \"bright\"]))\n",
    "\n",
    "# harmony + harmony\n",
    "HH <- with(DN_cnt, sum(cnt[definition == \"harmony\" & need == \"harmony\"]))\n",
    "\n",
    "df_DN_cnt <- data.frame(BB, BH, HB, HH)\n",
    "df_DN_cnt <- t(df_DN_cnt)\n",
    "colnames(df_DN_cnt) <- c(\"cnt\")\n",
    "df_DN_cnt"
   ]
  },
  {
   "cell_type": "code",
   "execution_count": 18,
   "metadata": {},
   "outputs": [
    {
     "name": "stdout",
     "output_type": "stream",
     "text": [
      "'data.frame':\t96 obs. of  4 variables:\n",
      " $ X         : int  0 1 2 3 4 5 6 7 8 9 ...\n",
      " $ definition: Factor w/ 2 levels \"bright\",\"harmony\": 1 2 1 1 1 2 2 1 2 2 ...\n",
      " $ need      : Factor w/ 2 levels \"bright\",\"harmony\": 1 2 1 2 1 2 1 1 1 2 ...\n",
      " $ cnt       : int  1 1 1 1 1 1 1 1 1 1 ...\n"
     ]
    },
    {
     "data": {
      "text/html": [
       "<table>\n",
       "<thead><tr><th scope=col>X</th><th scope=col>definition</th><th scope=col>need</th><th scope=col>cnt</th></tr></thead>\n",
       "<tbody>\n",
       "\t<tr><td>0      </td><td>bright </td><td>bright </td><td>1      </td></tr>\n",
       "\t<tr><td>1      </td><td>harmony</td><td>harmony</td><td>1      </td></tr>\n",
       "\t<tr><td>2      </td><td>bright </td><td>bright </td><td>1      </td></tr>\n",
       "\t<tr><td>3      </td><td>bright </td><td>harmony</td><td>1      </td></tr>\n",
       "\t<tr><td>4      </td><td>bright </td><td>bright </td><td>1      </td></tr>\n",
       "\t<tr><td>5      </td><td>harmony</td><td>harmony</td><td>1      </td></tr>\n",
       "</tbody>\n",
       "</table>\n"
      ],
      "text/latex": [
       "\\begin{tabular}{r|llll}\n",
       " X & definition & need & cnt\\\\\n",
       "\\hline\n",
       "\t 0       & bright  & bright  & 1      \\\\\n",
       "\t 1       & harmony & harmony & 1      \\\\\n",
       "\t 2       & bright  & bright  & 1      \\\\\n",
       "\t 3       & bright  & harmony & 1      \\\\\n",
       "\t 4       & bright  & bright  & 1      \\\\\n",
       "\t 5       & harmony & harmony & 1      \\\\\n",
       "\\end{tabular}\n"
      ],
      "text/markdown": [
       "\n",
       "| X | definition | need | cnt |\n",
       "|---|---|---|---|\n",
       "| 0       | bright  | bright  | 1       |\n",
       "| 1       | harmony | harmony | 1       |\n",
       "| 2       | bright  | bright  | 1       |\n",
       "| 3       | bright  | harmony | 1       |\n",
       "| 4       | bright  | bright  | 1       |\n",
       "| 5       | harmony | harmony | 1       |\n",
       "\n"
      ],
      "text/plain": [
       "  X definition need    cnt\n",
       "1 0 bright     bright  1  \n",
       "2 1 harmony    harmony 1  \n",
       "3 2 bright     bright  1  \n",
       "4 3 bright     harmony 1  \n",
       "5 4 bright     bright  1  \n",
       "6 5 harmony    harmony 1  "
      ]
     },
     "metadata": {},
     "output_type": "display_data"
    }
   ],
   "source": [
    "# 데이터 불러오기\n",
    "\n",
    "DN_cnt2 <- read.csv(\"C:/Users/cho ye seul/Documents/예슬/Acorn/FinalProject/Statistical Analysis/DN_cnt2.csv\")\n",
    "str(DN_cnt2)\n",
    "head(DN_cnt2)"
   ]
  },
  {
   "cell_type": "code",
   "execution_count": 19,
   "metadata": {},
   "outputs": [
    {
     "data": {
      "text/html": [
       "<table>\n",
       "<thead><tr><th></th><th scope=col>cnt</th></tr></thead>\n",
       "<tbody>\n",
       "\t<tr><th scope=row>BB</th><td>19</td></tr>\n",
       "\t<tr><th scope=row>BH</th><td> 3</td></tr>\n",
       "\t<tr><th scope=row>HB</th><td>17</td></tr>\n",
       "\t<tr><th scope=row>HH</th><td>57</td></tr>\n",
       "</tbody>\n",
       "</table>\n"
      ],
      "text/latex": [
       "\\begin{tabular}{r|l}\n",
       "  & cnt\\\\\n",
       "\\hline\n",
       "\tBB & 19\\\\\n",
       "\tBH &  3\\\\\n",
       "\tHB & 17\\\\\n",
       "\tHH & 57\\\\\n",
       "\\end{tabular}\n"
      ],
      "text/markdown": [
       "\n",
       "| <!--/--> | cnt |\n",
       "|---|---|\n",
       "| BB | 19 |\n",
       "| BH |  3 |\n",
       "| HB | 17 |\n",
       "| HH | 57 |\n",
       "\n"
      ],
      "text/plain": [
       "   cnt\n",
       "BB 19 \n",
       "BH  3 \n",
       "HB 17 \n",
       "HH 57 "
      ]
     },
     "metadata": {},
     "output_type": "display_data"
    }
   ],
   "source": [
    "## 데이터프레임 재생성\n",
    "\n",
    "# bright + bright\n",
    "BB <- with(DN_cnt2, sum(cnt[definition == \"bright\" & need == \"bright\"]))\n",
    "\n",
    "# bright + harmony\n",
    "BH <- with(DN_cnt2, sum(cnt[definition == \"bright\" & need == \"harmony\"]))\n",
    "\n",
    "# harmony + bright\n",
    "HB <- with(DN_cnt2, sum(cnt[definition == \"harmony\" & need == \"bright\"]))\n",
    "\n",
    "# harmony + harmony\n",
    "HH <- with(DN_cnt2, sum(cnt[definition == \"harmony\" & need == \"harmony\"]))\n",
    "\n",
    "df_DN_cnt2 <- data.frame(BB, BH, HB, HH)\n",
    "df_DN_cnt2 <- t(df_DN_cnt2)\n",
    "colnames(df_DN_cnt2) <- c(\"cnt\")\n",
    "df_DN_cnt2"
   ]
  },
  {
   "cell_type": "markdown",
   "metadata": {},
   "source": [
    "#### 자료 분석\n",
    "\n",
    "     definition과 need를 동일하게 선택한 결과가 많음\n",
    "     \n",
    "     definition = harmony, need = harmony  선택이 제일 많음 \n",
    "     -> 논문에서는 퍼스널 컬러의 정의가 \"얼굴색을 밝게 해주는 색\"이라고 표현하였으나 \n",
    "        사람들이 일상에서 필요한 퍼스널 컬러는 \"얼굴색과 조화를 이루는 색\"이라고 생각됨\n",
    "        \n",
    "     이후에 진행된 설문 조사 결과(2, 3번 문항)에서 사람들이 자신이 선택한 정의에 맞게 선택을 진행했는지 알아보기\n",
    "     예를 들면, 설문지 1번의 2번 문항에서 bright를 선택한 사람들의 정답 비율과\n",
    "     설문지 2번의 2번 문항에서 harmony를 선택한 사람들의 정답 비율을 비교하여\n",
    "     정답 비율이 더 높은 쪽을 보고 \n",
    "     사람들이 더 선호하는 쪽(bright or harmony)를 선택하면 될 것이라 생각됨"
   ]
  },
  {
   "cell_type": "code",
   "execution_count": null,
   "metadata": {},
   "outputs": [],
   "source": []
  },
  {
   "cell_type": "markdown",
   "metadata": {},
   "source": [
    "### Fashion Interest + Definition 분포 알아보기"
   ]
  },
  {
   "cell_type": "code",
   "execution_count": 43,
   "metadata": {
    "scrolled": true
   },
   "outputs": [
    {
     "data": {
      "text/html": [
       "<table>\n",
       "<thead><tr><th></th><th scope=col>bright</th><th scope=col>harmony</th></tr></thead>\n",
       "<tbody>\n",
       "\t<tr><th scope=row>I1</th><td> 1</td><td> 1</td></tr>\n",
       "\t<tr><th scope=row>I2</th><td> 1</td><td>13</td></tr>\n",
       "\t<tr><th scope=row>I3</th><td> 8</td><td>33</td></tr>\n",
       "\t<tr><th scope=row>I4</th><td>11</td><td>27</td></tr>\n",
       "\t<tr><th scope=row>I5</th><td> 6</td><td>13</td></tr>\n",
       "</tbody>\n",
       "</table>\n"
      ],
      "text/latex": [
       "\\begin{tabular}{r|ll}\n",
       "  & bright & harmony\\\\\n",
       "\\hline\n",
       "\tI1 &  1 &  1\\\\\n",
       "\tI2 &  1 & 13\\\\\n",
       "\tI3 &  8 & 33\\\\\n",
       "\tI4 & 11 & 27\\\\\n",
       "\tI5 &  6 & 13\\\\\n",
       "\\end{tabular}\n"
      ],
      "text/markdown": [
       "\n",
       "| <!--/--> | bright | harmony |\n",
       "|---|---|---|\n",
       "| I1 |  1 |  1 |\n",
       "| I2 |  1 | 13 |\n",
       "| I3 |  8 | 33 |\n",
       "| I4 | 11 | 27 |\n",
       "| I5 |  6 | 13 |\n",
       "\n"
      ],
      "text/plain": [
       "   bright harmony\n",
       "I1  1      1     \n",
       "I2  1     13     \n",
       "I3  8     33     \n",
       "I4 11     27     \n",
       "I5  6     13     "
      ]
     },
     "metadata": {},
     "output_type": "display_data"
    }
   ],
   "source": [
    "## 데이터 불러오기\n",
    "\n",
    "DI_cnt <- read.csv(\"C:/Users/cho ye seul/Documents/예슬/Acorn/FinalProject/Statistical Analysis/ID_cnt.csv\")\n",
    "# str(DI_cnt)\n",
    "# head(DI_cnt)\n",
    "\n",
    "\n",
    "## 데이터 프레임 재생성\n",
    "\n",
    "B1 <- with(DI_cnt, sum(cnt[definition == \"bright\" & interest == \"1\"]))\n",
    "B2 <- with(DI_cnt, sum(cnt[definition == \"bright\" & interest == \"2\"]))\n",
    "B3 <- with(DI_cnt, sum(cnt[definition == \"bright\" & interest == \"3\"]))\n",
    "B4 <- with(DI_cnt, sum(cnt[definition == \"bright\" & interest == \"4\"]))\n",
    "B5 <- with(DI_cnt, sum(cnt[definition == \"bright\" & interest == \"5\"]))\n",
    "\n",
    "H1 <- with(DI_cnt, sum(cnt[definition == \"harmony\" & interest == \"1\"]))\n",
    "H2 <- with(DI_cnt, sum(cnt[definition == \"harmony\" & interest == \"2\"]))\n",
    "H3 <- with(DI_cnt, sum(cnt[definition == \"harmony\" & interest == \"3\"]))\n",
    "H4 <- with(DI_cnt, sum(cnt[definition == \"harmony\" & interest == \"4\"]))\n",
    "H5 <- with(DI_cnt, sum(cnt[definition == \"harmony\" & interest == \"5\"]))\n",
    "\n",
    "I1 <- c(B1, H1)\n",
    "I2 <- c(B2, H2)\n",
    "I3 <- c(B3, H3)\n",
    "I4 <- c(B4, H4)\n",
    "I5 <- c(B5, H5)\n",
    "\n",
    "DI_cnt <- data.frame(I1, I2, I3, I4, I5)\n",
    "DI_cnt <- t(DI_cnt)\n",
    "colnames(DI_cnt) <- c(\"bright\", \"harmony\")\n",
    "\n",
    "DI_cnt"
   ]
  },
  {
   "cell_type": "code",
   "execution_count": 44,
   "metadata": {},
   "outputs": [
    {
     "data": {
      "text/html": [
       "<table>\n",
       "<thead><tr><th></th><th scope=col>bright</th><th scope=col>harmony</th></tr></thead>\n",
       "<tbody>\n",
       "\t<tr><th scope=row>I1</th><td>0 </td><td> 9</td></tr>\n",
       "\t<tr><th scope=row>I2</th><td>2 </td><td> 9</td></tr>\n",
       "\t<tr><th scope=row>I3</th><td>9 </td><td>26</td></tr>\n",
       "\t<tr><th scope=row>I4</th><td>7 </td><td>18</td></tr>\n",
       "\t<tr><th scope=row>I5</th><td>4 </td><td>12</td></tr>\n",
       "</tbody>\n",
       "</table>\n"
      ],
      "text/latex": [
       "\\begin{tabular}{r|ll}\n",
       "  & bright & harmony\\\\\n",
       "\\hline\n",
       "\tI1 & 0  &  9\\\\\n",
       "\tI2 & 2  &  9\\\\\n",
       "\tI3 & 9  & 26\\\\\n",
       "\tI4 & 7  & 18\\\\\n",
       "\tI5 & 4  & 12\\\\\n",
       "\\end{tabular}\n"
      ],
      "text/markdown": [
       "\n",
       "| <!--/--> | bright | harmony |\n",
       "|---|---|---|\n",
       "| I1 | 0  |  9 |\n",
       "| I2 | 2  |  9 |\n",
       "| I3 | 9  | 26 |\n",
       "| I4 | 7  | 18 |\n",
       "| I5 | 4  | 12 |\n",
       "\n"
      ],
      "text/plain": [
       "   bright harmony\n",
       "I1 0       9     \n",
       "I2 2       9     \n",
       "I3 9      26     \n",
       "I4 7      18     \n",
       "I5 4      12     "
      ]
     },
     "metadata": {},
     "output_type": "display_data"
    }
   ],
   "source": [
    "## 데이터 불러오기\n",
    "\n",
    "DI_cnt2 <- read.csv(\"C:/Users/cho ye seul/Documents/예슬/Acorn/FinalProject/Statistical Analysis/ID_cnt2.csv\")\n",
    "# str(DI_cnt2)\n",
    "# head(DI_cnt2)\n",
    "\n",
    "\n",
    "## 데이터 프레임 재생성\n",
    "\n",
    "B1 <- with(DI_cnt2, sum(cnt[definition == \"bright\" & interest == \"1\"]))\n",
    "B2 <- with(DI_cnt2, sum(cnt[definition == \"bright\" & interest == \"2\"]))\n",
    "B3 <- with(DI_cnt2, sum(cnt[definition == \"bright\" & interest == \"3\"]))\n",
    "B4 <- with(DI_cnt2, sum(cnt[definition == \"bright\" & interest == \"4\"]))\n",
    "B5 <- with(DI_cnt2, sum(cnt[definition == \"bright\" & interest == \"5\"]))\n",
    "\n",
    "H1 <- with(DI_cnt2, sum(cnt[definition == \"harmony\" & interest == \"1\"]))\n",
    "H2 <- with(DI_cnt2, sum(cnt[definition == \"harmony\" & interest == \"2\"]))\n",
    "H3 <- with(DI_cnt2, sum(cnt[definition == \"harmony\" & interest == \"3\"]))\n",
    "H4 <- with(DI_cnt2, sum(cnt[definition == \"harmony\" & interest == \"4\"]))\n",
    "H5 <- with(DI_cnt2, sum(cnt[definition == \"harmony\" & interest == \"5\"]))\n",
    "\n",
    "I1 <- c(B1, H1)\n",
    "I2 <- c(B2, H2)\n",
    "I3 <- c(B3, H3)\n",
    "I4 <- c(B4, H4)\n",
    "I5 <- c(B5, H5)\n",
    "\n",
    "DI_cnt2 <- data.frame(I1, I2, I3, I4, I5)\n",
    "DI_cnt2 <- t(DI_cnt2)\n",
    "colnames(DI_cnt2) <- c(\"bright\", \"harmony\")\n",
    "\n",
    "DI_cnt2"
   ]
  },
  {
   "cell_type": "markdown",
   "metadata": {},
   "source": [
    "#### 자료 분석\n",
    "\n",
    "    Fashion Interest + Definition \n",
    "\n",
    "설문지|interest|bright|harmony|총합계|bright%|harmony%\n",
    ":---|:---|:---:|:---:|:---:|:---:|:---\n",
    "밝은|1|1|1|2|50.0|50.0\n",
    "밝은|2|1|13|14|7.1|92.9\n",
    "밝은|3|8|33|41|19.5|80.5\n",
    "밝은|4|11|27|38|28.9|71.1\n",
    "밝은|5|6|13|19|31.6|68.4\n",
    "-|\n",
    "조화|1|0|9|9|0.0|100.0\n",
    "조화|2|2|9|11|18.2|81.8\n",
    "조화|3|9|26|35|25.7|74.3\n",
    "조화|4|7|18|25|28.0|72.0\n",
    "조화|5|4|12|16|25.0|75.0"
   ]
  },
  {
   "cell_type": "markdown",
   "metadata": {},
   "source": [
    "    패션 관심도 3, 4를 선택한 분포가 가장 많다(전체 인원의 60~70% 차지)\n",
    "    \n",
    "    퍼스널컬러에 대한 정의 bright보다 harmony를 선택한 사람이 더 많다 \n",
    "    \n",
    "    Fashion Interest 와 Definition 간의 관계가 딱히 있을까...?라는 생각이 든다"
   ]
  },
  {
   "cell_type": "code",
   "execution_count": null,
   "metadata": {},
   "outputs": [],
   "source": []
  },
  {
   "cell_type": "markdown",
   "metadata": {},
   "source": [
    "### Fashion Interest + Need 분포 알아보기"
   ]
  },
  {
   "cell_type": "code",
   "execution_count": 50,
   "metadata": {},
   "outputs": [
    {
     "data": {
      "text/html": [
       "<table>\n",
       "<thead><tr><th></th><th scope=col>bright</th><th scope=col>harmony</th></tr></thead>\n",
       "<tbody>\n",
       "\t<tr><th scope=row>I1</th><td> 1</td><td> 1</td></tr>\n",
       "\t<tr><th scope=row>I2</th><td> 3</td><td>11</td></tr>\n",
       "\t<tr><th scope=row>I3</th><td>19</td><td>22</td></tr>\n",
       "\t<tr><th scope=row>I4</th><td>15</td><td>23</td></tr>\n",
       "\t<tr><th scope=row>I5</th><td> 6</td><td>13</td></tr>\n",
       "</tbody>\n",
       "</table>\n"
      ],
      "text/latex": [
       "\\begin{tabular}{r|ll}\n",
       "  & bright & harmony\\\\\n",
       "\\hline\n",
       "\tI1 &  1 &  1\\\\\n",
       "\tI2 &  3 & 11\\\\\n",
       "\tI3 & 19 & 22\\\\\n",
       "\tI4 & 15 & 23\\\\\n",
       "\tI5 &  6 & 13\\\\\n",
       "\\end{tabular}\n"
      ],
      "text/markdown": [
       "\n",
       "| <!--/--> | bright | harmony |\n",
       "|---|---|---|\n",
       "| I1 |  1 |  1 |\n",
       "| I2 |  3 | 11 |\n",
       "| I3 | 19 | 22 |\n",
       "| I4 | 15 | 23 |\n",
       "| I5 |  6 | 13 |\n",
       "\n"
      ],
      "text/plain": [
       "   bright harmony\n",
       "I1  1      1     \n",
       "I2  3     11     \n",
       "I3 19     22     \n",
       "I4 15     23     \n",
       "I5  6     13     "
      ]
     },
     "metadata": {},
     "output_type": "display_data"
    }
   ],
   "source": [
    "## 데이터 불러오기\n",
    "\n",
    "NI_cnt <- read.csv(\"C:/Users/cho ye seul/Documents/예슬/Acorn/FinalProject/Statistical Analysis/NI_cnt.csv\")\n",
    "# str(NI_cnt)\n",
    "# head(NI_cnt)\n",
    "\n",
    "\n",
    "## 데이터 프레임 재생성\n",
    "\n",
    "B1 <- with(NI_cnt, sum(cnt[need == \"bright\" & interest == \"1\"]))\n",
    "B2 <- with(NI_cnt, sum(cnt[need == \"bright\" & interest == \"2\"]))\n",
    "B3 <- with(NI_cnt, sum(cnt[need == \"bright\" & interest == \"3\"]))\n",
    "B4 <- with(NI_cnt, sum(cnt[need == \"bright\" & interest == \"4\"]))\n",
    "B5 <- with(NI_cnt, sum(cnt[need == \"bright\" & interest == \"5\"]))\n",
    "\n",
    "H1 <- with(NI_cnt, sum(cnt[need == \"harmony\" & interest == \"1\"]))\n",
    "H2 <- with(NI_cnt, sum(cnt[need == \"harmony\" & interest == \"2\"]))\n",
    "H3 <- with(NI_cnt, sum(cnt[need == \"harmony\" & interest == \"3\"]))\n",
    "H4 <- with(NI_cnt, sum(cnt[need == \"harmony\" & interest == \"4\"]))\n",
    "H5 <- with(NI_cnt, sum(cnt[need == \"harmony\" & interest == \"5\"]))\n",
    "\n",
    "I1 <- c(B1, H1)\n",
    "I2 <- c(B2, H2)\n",
    "I3 <- c(B3, H3)\n",
    "I4 <- c(B4, H4)\n",
    "I5 <- c(B5, H5)\n",
    "\n",
    "NI_cnt <- data.frame(I1, I2, I3, I4, I5)\n",
    "NI_cnt <- t(NI_cnt)\n",
    "colnames(NI_cnt) <- c(\"bright\", \"harmony\")\n",
    "\n",
    "NI_cnt"
   ]
  },
  {
   "cell_type": "code",
   "execution_count": 51,
   "metadata": {},
   "outputs": [
    {
     "data": {
      "text/html": [
       "<table>\n",
       "<thead><tr><th></th><th scope=col>bright</th><th scope=col>harmony</th></tr></thead>\n",
       "<tbody>\n",
       "\t<tr><th scope=row>I1</th><td> 1</td><td> 8</td></tr>\n",
       "\t<tr><th scope=row>I2</th><td> 6</td><td> 5</td></tr>\n",
       "\t<tr><th scope=row>I3</th><td>12</td><td>23</td></tr>\n",
       "\t<tr><th scope=row>I4</th><td>10</td><td>15</td></tr>\n",
       "\t<tr><th scope=row>I5</th><td> 7</td><td> 9</td></tr>\n",
       "</tbody>\n",
       "</table>\n"
      ],
      "text/latex": [
       "\\begin{tabular}{r|ll}\n",
       "  & bright & harmony\\\\\n",
       "\\hline\n",
       "\tI1 &  1 &  8\\\\\n",
       "\tI2 &  6 &  5\\\\\n",
       "\tI3 & 12 & 23\\\\\n",
       "\tI4 & 10 & 15\\\\\n",
       "\tI5 &  7 &  9\\\\\n",
       "\\end{tabular}\n"
      ],
      "text/markdown": [
       "\n",
       "| <!--/--> | bright | harmony |\n",
       "|---|---|---|\n",
       "| I1 |  1 |  8 |\n",
       "| I2 |  6 |  5 |\n",
       "| I3 | 12 | 23 |\n",
       "| I4 | 10 | 15 |\n",
       "| I5 |  7 |  9 |\n",
       "\n"
      ],
      "text/plain": [
       "   bright harmony\n",
       "I1  1      8     \n",
       "I2  6      5     \n",
       "I3 12     23     \n",
       "I4 10     15     \n",
       "I5  7      9     "
      ]
     },
     "metadata": {},
     "output_type": "display_data"
    }
   ],
   "source": [
    "## 데이터 불러오기\n",
    "\n",
    "NI_cnt2 <- read.csv(\"C:/Users/cho ye seul/Documents/예슬/Acorn/FinalProject/Statistical Analysis/NI_cnt2.csv\")\n",
    "# str(NI_cnt2)\n",
    "# head(NI_cnt2)\n",
    "\n",
    "\n",
    "## 데이터 프레임 재생성\n",
    "\n",
    "B1 <- with(NI_cnt2, sum(cnt[need == \"bright\" & interest == \"1\"]))\n",
    "B2 <- with(NI_cnt2, sum(cnt[need == \"bright\" & interest == \"2\"]))\n",
    "B3 <- with(NI_cnt2, sum(cnt[need == \"bright\" & interest == \"3\"]))\n",
    "B4 <- with(NI_cnt2, sum(cnt[need == \"bright\" & interest == \"4\"]))\n",
    "B5 <- with(NI_cnt2, sum(cnt[need == \"bright\" & interest == \"5\"]))\n",
    "\n",
    "H1 <- with(NI_cnt2, sum(cnt[need == \"harmony\" & interest == \"1\"]))\n",
    "H2 <- with(NI_cnt2, sum(cnt[need == \"harmony\" & interest == \"2\"]))\n",
    "H3 <- with(NI_cnt2, sum(cnt[need == \"harmony\" & interest == \"3\"]))\n",
    "H4 <- with(NI_cnt2, sum(cnt[need == \"harmony\" & interest == \"4\"]))\n",
    "H5 <- with(NI_cnt2, sum(cnt[need == \"harmony\" & interest == \"5\"]))\n",
    "\n",
    "I1 <- c(B1, H1)\n",
    "I2 <- c(B2, H2)\n",
    "I3 <- c(B3, H3)\n",
    "I4 <- c(B4, H4)\n",
    "I5 <- c(B5, H5)\n",
    "\n",
    "NI_cnt2 <- data.frame(I1, I2, I3, I4, I5)\n",
    "NI_cnt2 <- t(NI_cnt2)\n",
    "colnames(NI_cnt2) <- c(\"bright\", \"harmony\")\n",
    "\n",
    "NI_cnt2"
   ]
  },
  {
   "cell_type": "markdown",
   "metadata": {},
   "source": [
    "#### 자료 분석\n",
    "\n",
    "    Need + Fashion Interest\n",
    "    \n",
    "설문지|interest|bright|harmony|총합계|bright%|harmony%\n",
    ":---|:---|:---:|:---:|:---:|:---:|:---\n",
    "밝은|1|1|1|2|50.0|50.0\n",
    "밝은|2|3|11|14|21.4|78.6\n",
    "밝은|3|19|22|41|46.3|53.7\n",
    "밝은|4|15|23|38|39.5|60.5\n",
    "밝은|5|6|13|19|31.6|68.4\n",
    "-|\n",
    "조화|1|1|8|9|11.1|88.9\n",
    "조화|2|6|5|11|54.5|45.5\n",
    "조화|3|12|23|35|34.3|65.7\n",
    "조화|4|10|15|25|40.0|60.0\n",
    "조화|5|7|9|16|43.8|56.3\n"
   ]
  },
  {
   "cell_type": "markdown",
   "metadata": {},
   "source": [
    "    패션 관심도 3, 4를 선택한 사람이 제일 많다\n",
    "    \n",
    "    Need의 경우에도 bright 보다 harmony를 선택한 %가 더 높다\n",
    "    \n",
    "    Need도 나중에 설문지의 다른 문항과 함께 보았을때 그 영향을 알 수 있을 것 같다"
   ]
  },
  {
   "cell_type": "code",
   "execution_count": null,
   "metadata": {},
   "outputs": [],
   "source": []
  },
  {
   "cell_type": "markdown",
   "metadata": {},
   "source": [
    "### Fashion Interest + purpose 분포 알아보기"
   ]
  },
  {
   "cell_type": "code",
   "execution_count": 70,
   "metadata": {},
   "outputs": [
    {
     "data": {
      "text/html": [
       "<table>\n",
       "<thead><tr><th></th><th scope=col>clo</th><th scope=col>cos</th><th scope=col>etc</th></tr></thead>\n",
       "<tbody>\n",
       "\t<tr><th scope=row>I1</th><td> 1</td><td> 2</td><td>0 </td></tr>\n",
       "\t<tr><th scope=row>I2</th><td>12</td><td> 6</td><td>0 </td></tr>\n",
       "\t<tr><th scope=row>I3</th><td>32</td><td>19</td><td>1 </td></tr>\n",
       "\t<tr><th scope=row>I4</th><td>27</td><td>25</td><td>1 </td></tr>\n",
       "\t<tr><th scope=row>I5</th><td>17</td><td>10</td><td>0 </td></tr>\n",
       "</tbody>\n",
       "</table>\n"
      ],
      "text/latex": [
       "\\begin{tabular}{r|lll}\n",
       "  & clo & cos & etc\\\\\n",
       "\\hline\n",
       "\tI1 &  1 &  2 & 0 \\\\\n",
       "\tI2 & 12 &  6 & 0 \\\\\n",
       "\tI3 & 32 & 19 & 1 \\\\\n",
       "\tI4 & 27 & 25 & 1 \\\\\n",
       "\tI5 & 17 & 10 & 0 \\\\\n",
       "\\end{tabular}\n"
      ],
      "text/markdown": [
       "\n",
       "| <!--/--> | clo | cos | etc |\n",
       "|---|---|---|---|\n",
       "| I1 |  1 |  2 | 0  |\n",
       "| I2 | 12 |  6 | 0  |\n",
       "| I3 | 32 | 19 | 1  |\n",
       "| I4 | 27 | 25 | 1  |\n",
       "| I5 | 17 | 10 | 0  |\n",
       "\n"
      ],
      "text/plain": [
       "   clo cos etc\n",
       "I1  1   2  0  \n",
       "I2 12   6  0  \n",
       "I3 32  19  1  \n",
       "I4 27  25  1  \n",
       "I5 17  10  0  "
      ]
     },
     "metadata": {},
     "output_type": "display_data"
    }
   ],
   "source": [
    "## 데이터 불러오기\n",
    "\n",
    "PI_cnt <- read.csv(\"C:/Users/cho ye seul/Documents/예슬/Acorn/FinalProject/Statistical Analysis/PI_cnt.csv\")\n",
    "# str(PI_cnt)\n",
    "# head(PI_cnt)\n",
    "\n",
    "\n",
    "## 데이터 프레임 재생성\n",
    "\n",
    "clo1 <- with(PI_cnt, sum(cnt[(purpose == \"clothes\" | purpose == \"clothes&cosmetic\") & interest == \"1\"]))\n",
    "clo2 <- with(PI_cnt, sum(cnt[(purpose == \"clothes\" | purpose == \"clothes&cosmetic\") &interest == \"2\"]))\n",
    "clo3 <- with(PI_cnt, sum(cnt[(purpose == \"clothes\" | purpose == \"clothes&cosmetic\") &interest == \"3\"]))\n",
    "clo4 <- with(PI_cnt, sum(cnt[(purpose == \"clothes\" | purpose == \"clothes&cosmetic\") &interest == \"4\"]))\n",
    "clo5 <- with(PI_cnt, sum(cnt[(purpose == \"clothes\" | purpose == \"clothes&cosmetic\") &interest == \"5\"]))\n",
    "\n",
    "cos1 <- with(PI_cnt, sum(cnt[(purpose == \"cosmetic\" | purpose == \"clothes&cosmetic\") &interest == \"1\"]))\n",
    "cos2 <- with(PI_cnt, sum(cnt[(purpose == \"cosmetic\" | purpose == \"clothes&cosmetic\") &interest == \"2\"]))\n",
    "cos3 <- with(PI_cnt, sum(cnt[(purpose == \"cosmetic\" | purpose == \"clothes&cosmetic\") &interest == \"3\"]))\n",
    "cos4 <- with(PI_cnt, sum(cnt[(purpose == \"cosmetic\" | purpose == \"clothes&cosmetic\") &interest == \"4\"]))\n",
    "cos5 <- with(PI_cnt, sum(cnt[(purpose == \"cosmetic\" | purpose == \"clothes&cosmetic\") &interest == \"5\"]))\n",
    "\n",
    "etc1 <- with(PI_cnt, sum(cnt[purpose == \"etc\" & interest == \"1\"]))\n",
    "etc2 <- with(PI_cnt, sum(cnt[purpose == \"etc\" & interest == \"2\"]))\n",
    "etc3 <- with(PI_cnt, sum(cnt[purpose == \"etc\" & interest == \"3\"]))\n",
    "etc4 <- with(PI_cnt, sum(cnt[purpose == \"etc\" & interest == \"4\"]))\n",
    "etc5 <- with(PI_cnt, sum(cnt[purpose == \"etc\" & interest == \"5\"]))\n",
    "\n",
    "clo <- c(clo1, clo2, clo3, clo4, clo5)\n",
    "cos <- c(cos1, cos2, cos3, cos4, cos5)\n",
    "etc <- c(etc1, etc2, etc3, etc4, etc5)\n",
    "\n",
    "PI_cnt <- data.frame(clo, cos, etc)\n",
    "rownames(PI_cnt) <- c(\"I1\", \"I2\", \"I3\", \"I4\", \"I5\")\n",
    "\n",
    "PI_cnt"
   ]
  },
  {
   "cell_type": "code",
   "execution_count": 72,
   "metadata": {},
   "outputs": [
    {
     "data": {
      "text/html": [
       "<table>\n",
       "<thead><tr><th></th><th scope=col>clo</th><th scope=col>cos</th><th scope=col>etc</th></tr></thead>\n",
       "<tbody>\n",
       "\t<tr><th scope=row>I1</th><td> 7</td><td> 2</td><td>1 </td></tr>\n",
       "\t<tr><th scope=row>I2</th><td> 8</td><td> 3</td><td>1 </td></tr>\n",
       "\t<tr><th scope=row>I3</th><td>25</td><td>14</td><td>1 </td></tr>\n",
       "\t<tr><th scope=row>I4</th><td>19</td><td>12</td><td>2 </td></tr>\n",
       "\t<tr><th scope=row>I5</th><td>13</td><td>10</td><td>0 </td></tr>\n",
       "</tbody>\n",
       "</table>\n"
      ],
      "text/latex": [
       "\\begin{tabular}{r|lll}\n",
       "  & clo & cos & etc\\\\\n",
       "\\hline\n",
       "\tI1 &  7 &  2 & 1 \\\\\n",
       "\tI2 &  8 &  3 & 1 \\\\\n",
       "\tI3 & 25 & 14 & 1 \\\\\n",
       "\tI4 & 19 & 12 & 2 \\\\\n",
       "\tI5 & 13 & 10 & 0 \\\\\n",
       "\\end{tabular}\n"
      ],
      "text/markdown": [
       "\n",
       "| <!--/--> | clo | cos | etc |\n",
       "|---|---|---|---|\n",
       "| I1 |  7 |  2 | 1  |\n",
       "| I2 |  8 |  3 | 1  |\n",
       "| I3 | 25 | 14 | 1  |\n",
       "| I4 | 19 | 12 | 2  |\n",
       "| I5 | 13 | 10 | 0  |\n",
       "\n"
      ],
      "text/plain": [
       "   clo cos etc\n",
       "I1  7   2  1  \n",
       "I2  8   3  1  \n",
       "I3 25  14  1  \n",
       "I4 19  12  2  \n",
       "I5 13  10  0  "
      ]
     },
     "metadata": {},
     "output_type": "display_data"
    }
   ],
   "source": [
    "## 데이터 불러오기\n",
    "\n",
    "PI_cnt2 <- read.csv(\"C:/Users/cho ye seul/Documents/예슬/Acorn/FinalProject/Statistical Analysis/PI_cnt2.csv\")\n",
    "# str(PI_cnt2)\n",
    "# head(PI_cnt2)\n",
    "\n",
    "\n",
    "## 데이터 프레임 재생성\n",
    "\n",
    "clo1 <- with(PI_cnt2, sum(cnt[(purpose == \"clothes\" | purpose == \"clothes&cosmetic\") & interest == \"1\"]))\n",
    "clo2 <- with(PI_cnt2, sum(cnt[(purpose == \"clothes\" | purpose == \"clothes&cosmetic\") & interest == \"2\"]))\n",
    "clo3 <- with(PI_cnt2, sum(cnt[(purpose == \"clothes\" | purpose == \"clothes&cosmetic\") & interest == \"3\"]))\n",
    "clo4 <- with(PI_cnt2, sum(cnt[(purpose == \"clothes\" | purpose == \"clothes&cosmetic\") & interest == \"4\"]))\n",
    "clo5 <- with(PI_cnt2, sum(cnt[(purpose == \"clothes\" | purpose == \"clothes&cosmetic\") & interest == \"5\"]))\n",
    "\n",
    "cos1 <- with(PI_cnt2, sum(cnt[(purpose == \"cosmetic\" | purpose == \"clothes&cosmetic\")  & interest == \"1\"]))\n",
    "cos2 <- with(PI_cnt2, sum(cnt[(purpose == \"cosmetic\" | purpose == \"clothes&cosmetic\")  & interest == \"2\"]))\n",
    "cos3 <- with(PI_cnt2, sum(cnt[(purpose == \"cosmetic\" | purpose == \"clothes&cosmetic\")  & interest == \"3\"]))\n",
    "cos4 <- with(PI_cnt2, sum(cnt[(purpose == \"cosmetic\" | purpose == \"clothes&cosmetic\")  & interest == \"4\"]))\n",
    "cos5 <- with(PI_cnt2, sum(cnt[(purpose == \"cosmetic\" | purpose == \"clothes&cosmetic\")  & interest == \"5\"]))\n",
    "\n",
    "etc1 <- with(PI_cnt2, sum(cnt[purpose == \"etc\" & interest == \"1\"]))\n",
    "etc2 <- with(PI_cnt2, sum(cnt[purpose == \"etc\" & interest == \"2\"]))\n",
    "etc3 <- with(PI_cnt2, sum(cnt[purpose == \"etc\" & interest == \"3\"]))\n",
    "etc4 <- with(PI_cnt2, sum(cnt[purpose == \"etc\" & interest == \"4\"]))\n",
    "etc5 <- with(PI_cnt2, sum(cnt[purpose == \"etc\" & interest == \"5\"]))\n",
    "\n",
    "clo <- c(clo1, clo2, clo3, clo4, clo5)\n",
    "cos <- c(cos1, cos2, cos3, cos4, cos5)\n",
    "etc <- c(etc1, etc2, etc3, etc4, etc5)\n",
    "\n",
    "PI_cnt2 <- data.frame(clo, cos, etc)\n",
    "rownames(PI_cnt2) <- c(\"I1\", \"I2\", \"I3\", \"I4\", \"I5\")\n",
    "\n",
    "PI_cnt2"
   ]
  },
  {
   "cell_type": "code",
   "execution_count": 73,
   "metadata": {},
   "outputs": [
    {
     "data": {
      "text/html": [
       "<table>\n",
       "<thead><tr><th></th><th scope=col>clo</th><th scope=col>cos</th><th scope=col>etc</th></tr></thead>\n",
       "<tbody>\n",
       "\t<tr><th scope=row>I1</th><td> 1</td><td> 2</td><td>0 </td></tr>\n",
       "\t<tr><th scope=row>I2</th><td>12</td><td> 6</td><td>0 </td></tr>\n",
       "\t<tr><th scope=row>I3</th><td>32</td><td>19</td><td>1 </td></tr>\n",
       "\t<tr><th scope=row>I4</th><td>27</td><td>25</td><td>1 </td></tr>\n",
       "\t<tr><th scope=row>I5</th><td>17</td><td>10</td><td>0 </td></tr>\n",
       "</tbody>\n",
       "</table>\n"
      ],
      "text/latex": [
       "\\begin{tabular}{r|lll}\n",
       "  & clo & cos & etc\\\\\n",
       "\\hline\n",
       "\tI1 &  1 &  2 & 0 \\\\\n",
       "\tI2 & 12 &  6 & 0 \\\\\n",
       "\tI3 & 32 & 19 & 1 \\\\\n",
       "\tI4 & 27 & 25 & 1 \\\\\n",
       "\tI5 & 17 & 10 & 0 \\\\\n",
       "\\end{tabular}\n"
      ],
      "text/markdown": [
       "\n",
       "| <!--/--> | clo | cos | etc |\n",
       "|---|---|---|---|\n",
       "| I1 |  1 |  2 | 0  |\n",
       "| I2 | 12 |  6 | 0  |\n",
       "| I3 | 32 | 19 | 1  |\n",
       "| I4 | 27 | 25 | 1  |\n",
       "| I5 | 17 | 10 | 0  |\n",
       "\n"
      ],
      "text/plain": [
       "   clo cos etc\n",
       "I1  1   2  0  \n",
       "I2 12   6  0  \n",
       "I3 32  19  1  \n",
       "I4 27  25  1  \n",
       "I5 17  10  0  "
      ]
     },
     "metadata": {},
     "output_type": "display_data"
    },
    {
     "data": {
      "text/html": [
       "<table>\n",
       "<thead><tr><th></th><th scope=col>clo</th><th scope=col>cos</th><th scope=col>etc</th></tr></thead>\n",
       "<tbody>\n",
       "\t<tr><th scope=row>I1</th><td> 7</td><td> 2</td><td>1 </td></tr>\n",
       "\t<tr><th scope=row>I2</th><td> 8</td><td> 3</td><td>1 </td></tr>\n",
       "\t<tr><th scope=row>I3</th><td>25</td><td>14</td><td>1 </td></tr>\n",
       "\t<tr><th scope=row>I4</th><td>19</td><td>12</td><td>2 </td></tr>\n",
       "\t<tr><th scope=row>I5</th><td>13</td><td>10</td><td>0 </td></tr>\n",
       "</tbody>\n",
       "</table>\n"
      ],
      "text/latex": [
       "\\begin{tabular}{r|lll}\n",
       "  & clo & cos & etc\\\\\n",
       "\\hline\n",
       "\tI1 &  7 &  2 & 1 \\\\\n",
       "\tI2 &  8 &  3 & 1 \\\\\n",
       "\tI3 & 25 & 14 & 1 \\\\\n",
       "\tI4 & 19 & 12 & 2 \\\\\n",
       "\tI5 & 13 & 10 & 0 \\\\\n",
       "\\end{tabular}\n"
      ],
      "text/markdown": [
       "\n",
       "| <!--/--> | clo | cos | etc |\n",
       "|---|---|---|---|\n",
       "| I1 |  7 |  2 | 1  |\n",
       "| I2 |  8 |  3 | 1  |\n",
       "| I3 | 25 | 14 | 1  |\n",
       "| I4 | 19 | 12 | 2  |\n",
       "| I5 | 13 | 10 | 0  |\n",
       "\n"
      ],
      "text/plain": [
       "   clo cos etc\n",
       "I1  7   2  1  \n",
       "I2  8   3  1  \n",
       "I3 25  14  1  \n",
       "I4 19  12  2  \n",
       "I5 13  10  0  "
      ]
     },
     "metadata": {},
     "output_type": "display_data"
    }
   ],
   "source": [
    "PI_cnt\n",
    "PI_cnt2"
   ]
  },
  {
   "cell_type": "markdown",
   "metadata": {},
   "source": [
    "#### 자료 분석\n",
    "\n",
    "    사람들의 퍼스널컬러의 활용목적은 대부분 옷에 관련 될 것으로 사료됨\n",
    "    \n",
    "    하지만 패션에 대한 관심도가 높을수록 \n",
    "    퍼스널컬러의 활용 목적은 옷에만 두는 것이 아닌 옷, 화장 등 여러분야에 사용하고 싶은 경향이 있는 것으로 보인다\n",
    "    패션에 관심이 있을수록 색에 대한 관심도가 높고 \n",
    "    그만큼 자신을 꾸미길 좋아하기에 나오는 결론이라 생각됨\n",
    "    \n",
    "    설문지의 다른 문항과 비교시에 패션에 관심도가 높은 사람들(interest 4-5)의 사람들의 의견만 모아서 봐도 괜찮을듯!"
   ]
  }
 ],
 "metadata": {
  "kernelspec": {
   "display_name": "R",
   "language": "R",
   "name": "ir"
  },
  "language_info": {
   "codemirror_mode": "r",
   "file_extension": ".r",
   "mimetype": "text/x-r-source",
   "name": "R",
   "pygments_lexer": "r",
   "version": "3.6.1"
  }
 },
 "nbformat": 4,
 "nbformat_minor": 2
}
