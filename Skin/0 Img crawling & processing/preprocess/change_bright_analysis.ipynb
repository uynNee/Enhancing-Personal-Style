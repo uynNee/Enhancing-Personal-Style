{
 "cells": [
  {
   "cell_type": "code",
   "execution_count": 1,
   "metadata": {
    "scrolled": false
   },
   "outputs": [
    {
     "name": "stdout",
     "output_type": "stream",
     "text": [
      "'data.frame':\t117 obs. of  13 variables:\n",
      " $ X          : int  0 1 2 3 4 5 6 7 8 9 ...\n",
      " $ sex        : Factor w/ 2 levels \"Female\",\"Male\": 2 1 1 1 1 1 1 2 1 1 ...\n",
      " $ age_class  : int  20 20 20 20 20 20 20 20 20 20 ...\n",
      " $ definition : Factor w/ 2 levels \"bright\",\"harmony\": 2 1 1 2 1 2 2 2 2 1 ...\n",
      " $ need       : Factor w/ 2 levels \"bright\",\"harmony\": 2 2 1 2 1 2 2 2 2 1 ...\n",
      " $ purpose    : Factor w/ 3 levels \"clothes\",\"cosmetic\",..: 1 1 1 1 3 3 3 1 1 1 ...\n",
      " $ interest   : int  5 5 3 3 4 2 5 3 4 4 ...\n",
      " $ comp       : int  4 1 2 5 4 3 1 1 1 5 ...\n",
      " $ triangle1  : int  5 1 4 5 2 4 4 1 4 5 ...\n",
      " $ triangle2  : int  2 2 1 4 1 1 5 3 1 2 ...\n",
      " $ doubleness1: int  3 2 2 5 1 2 3 1 1 2 ...\n",
      " $ doubleness2: int  2 3 1 4 2 2 3 5 2 1 ...\n",
      " $ doubleness3: int  2 2 2 1 2 2 3 5 2 5 ...\n"
     ]
    },
    {
     "data": {
      "text/html": [
       "<table>\n",
       "<thead><tr><th scope=col>X</th><th scope=col>sex</th><th scope=col>age_class</th><th scope=col>definition</th><th scope=col>need</th><th scope=col>purpose</th><th scope=col>interest</th><th scope=col>comp</th><th scope=col>triangle1</th><th scope=col>triangle2</th><th scope=col>doubleness1</th><th scope=col>doubleness2</th><th scope=col>doubleness3</th></tr></thead>\n",
       "<tbody>\n",
       "\t<tr><td>0      </td><td>Male   </td><td>20     </td><td>harmony</td><td>harmony</td><td>clothes</td><td>5      </td><td>4      </td><td>5      </td><td>2      </td><td>3      </td><td>2      </td><td>2      </td></tr>\n",
       "\t<tr><td>1      </td><td>Female </td><td>20     </td><td>bright </td><td>harmony</td><td>clothes</td><td>5      </td><td>1      </td><td>1      </td><td>2      </td><td>2      </td><td>3      </td><td>2      </td></tr>\n",
       "\t<tr><td>2      </td><td>Female </td><td>20     </td><td>bright </td><td>bright </td><td>clothes</td><td>3      </td><td>2      </td><td>4      </td><td>1      </td><td>2      </td><td>1      </td><td>2      </td></tr>\n",
       "\t<tr><td>3      </td><td>Female </td><td>20     </td><td>harmony</td><td>harmony</td><td>clothes</td><td>3      </td><td>5      </td><td>5      </td><td>4      </td><td>5      </td><td>4      </td><td>1      </td></tr>\n",
       "\t<tr><td>4      </td><td>Female </td><td>20     </td><td>bright </td><td>bright </td><td>etc    </td><td>4      </td><td>4      </td><td>2      </td><td>1      </td><td>1      </td><td>2      </td><td>2      </td></tr>\n",
       "\t<tr><td>5      </td><td>Female </td><td>20     </td><td>harmony</td><td>harmony</td><td>etc    </td><td>2      </td><td>3      </td><td>4      </td><td>1      </td><td>2      </td><td>2      </td><td>2      </td></tr>\n",
       "</tbody>\n",
       "</table>\n"
      ],
      "text/latex": [
       "\\begin{tabular}{r|lllllllllllll}\n",
       " X & sex & age\\_class & definition & need & purpose & interest & comp & triangle1 & triangle2 & doubleness1 & doubleness2 & doubleness3\\\\\n",
       "\\hline\n",
       "\t 0       & Male    & 20      & harmony & harmony & clothes & 5       & 4       & 5       & 2       & 3       & 2       & 2      \\\\\n",
       "\t 1       & Female  & 20      & bright  & harmony & clothes & 5       & 1       & 1       & 2       & 2       & 3       & 2      \\\\\n",
       "\t 2       & Female  & 20      & bright  & bright  & clothes & 3       & 2       & 4       & 1       & 2       & 1       & 2      \\\\\n",
       "\t 3       & Female  & 20      & harmony & harmony & clothes & 3       & 5       & 5       & 4       & 5       & 4       & 1      \\\\\n",
       "\t 4       & Female  & 20      & bright  & bright  & etc     & 4       & 4       & 2       & 1       & 1       & 2       & 2      \\\\\n",
       "\t 5       & Female  & 20      & harmony & harmony & etc     & 2       & 3       & 4       & 1       & 2       & 2       & 2      \\\\\n",
       "\\end{tabular}\n"
      ],
      "text/markdown": [
       "\n",
       "| X | sex | age_class | definition | need | purpose | interest | comp | triangle1 | triangle2 | doubleness1 | doubleness2 | doubleness3 |\n",
       "|---|---|---|---|---|---|---|---|---|---|---|---|---|\n",
       "| 0       | Male    | 20      | harmony | harmony | clothes | 5       | 4       | 5       | 2       | 3       | 2       | 2       |\n",
       "| 1       | Female  | 20      | bright  | harmony | clothes | 5       | 1       | 1       | 2       | 2       | 3       | 2       |\n",
       "| 2       | Female  | 20      | bright  | bright  | clothes | 3       | 2       | 4       | 1       | 2       | 1       | 2       |\n",
       "| 3       | Female  | 20      | harmony | harmony | clothes | 3       | 5       | 5       | 4       | 5       | 4       | 1       |\n",
       "| 4       | Female  | 20      | bright  | bright  | etc     | 4       | 4       | 2       | 1       | 1       | 2       | 2       |\n",
       "| 5       | Female  | 20      | harmony | harmony | etc     | 2       | 3       | 4       | 1       | 2       | 2       | 2       |\n",
       "\n"
      ],
      "text/plain": [
       "  X sex    age_class definition need    purpose interest comp triangle1\n",
       "1 0 Male   20        harmony    harmony clothes 5        4    5        \n",
       "2 1 Female 20        bright     harmony clothes 5        1    1        \n",
       "3 2 Female 20        bright     bright  clothes 3        2    4        \n",
       "4 3 Female 20        harmony    harmony clothes 3        5    5        \n",
       "5 4 Female 20        bright     bright  etc     4        4    2        \n",
       "6 5 Female 20        harmony    harmony etc     2        3    4        \n",
       "  triangle2 doubleness1 doubleness2 doubleness3\n",
       "1 2         3           2           2          \n",
       "2 2         2           3           2          \n",
       "3 1         2           1           2          \n",
       "4 4         5           4           1          \n",
       "5 1         1           2           2          \n",
       "6 1         2           2           2          "
      ]
     },
     "metadata": {},
     "output_type": "display_data"
    }
   ],
   "source": [
    "change_bright <- read.csv(\"data/change_bright.csv\")\n",
    "str(change_bright)\n",
    "head(change_bright)"
   ]
  },
  {
   "cell_type": "code",
   "execution_count": 80,
   "metadata": {
    "scrolled": true
   },
   "outputs": [
    {
     "name": "stderr",
     "output_type": "stream",
     "text": [
      "Warning message:\n",
      "\"package 'plyr' was built under R version 3.6.3\"------------------------------------------------------------------------------\n",
      "You have loaded plyr after dplyr - this is likely to cause problems.\n",
      "If you need functions from both plyr and dplyr, please load plyr first, then dplyr:\n",
      "library(plyr); library(dplyr)\n",
      "------------------------------------------------------------------------------\n",
      "\n",
      "Attaching package: 'plyr'\n",
      "\n",
      "The following objects are masked from 'package:dplyr':\n",
      "\n",
      "    arrange, count, desc, failwith, id, mutate, rename, summarise,\n",
      "    summarize\n",
      "\n"
     ]
    }
   ],
   "source": [
    "library(dplyr)\n",
    "library(plyr)"
   ]
  },
  {
   "cell_type": "code",
   "execution_count": 96,
   "metadata": {},
   "outputs": [],
   "source": [
    "comp <- change_bright %>% select(c(sex, definition, need, purpose, interest, comp))"
   ]
  },
  {
   "cell_type": "code",
   "execution_count": 98,
   "metadata": {
    "scrolled": false
   },
   "outputs": [
    {
     "data": {
      "text/html": [
       "<table>\n",
       "<thead><tr><th scope=col>sex</th><th scope=col>definition</th><th scope=col>need</th><th scope=col>purpose</th><th scope=col>interest</th><th scope=col>comp</th></tr></thead>\n",
       "<tbody>\n",
       "\t<tr><td>Male   </td><td>harmony</td><td>harmony</td><td>clothes</td><td>5      </td><td>4      </td></tr>\n",
       "\t<tr><td>Female </td><td>bright </td><td>harmony</td><td>clothes</td><td>5      </td><td>1      </td></tr>\n",
       "\t<tr><td>Female </td><td>bright </td><td>bright </td><td>clothes</td><td>3      </td><td>2      </td></tr>\n",
       "\t<tr><td>Female </td><td>harmony</td><td>harmony</td><td>clothes</td><td>3      </td><td>5      </td></tr>\n",
       "\t<tr><td>Female </td><td>bright </td><td>bright </td><td>etc    </td><td>4      </td><td>4      </td></tr>\n",
       "\t<tr><td>Female </td><td>harmony</td><td>harmony</td><td>etc    </td><td>2      </td><td>3      </td></tr>\n",
       "</tbody>\n",
       "</table>\n"
      ],
      "text/latex": [
       "\\begin{tabular}{r|llllll}\n",
       " sex & definition & need & purpose & interest & comp\\\\\n",
       "\\hline\n",
       "\t Male    & harmony & harmony & clothes & 5       & 4      \\\\\n",
       "\t Female  & bright  & harmony & clothes & 5       & 1      \\\\\n",
       "\t Female  & bright  & bright  & clothes & 3       & 2      \\\\\n",
       "\t Female  & harmony & harmony & clothes & 3       & 5      \\\\\n",
       "\t Female  & bright  & bright  & etc     & 4       & 4      \\\\\n",
       "\t Female  & harmony & harmony & etc     & 2       & 3      \\\\\n",
       "\\end{tabular}\n"
      ],
      "text/markdown": [
       "\n",
       "| sex | definition | need | purpose | interest | comp |\n",
       "|---|---|---|---|---|---|\n",
       "| Male    | harmony | harmony | clothes | 5       | 4       |\n",
       "| Female  | bright  | harmony | clothes | 5       | 1       |\n",
       "| Female  | bright  | bright  | clothes | 3       | 2       |\n",
       "| Female  | harmony | harmony | clothes | 3       | 5       |\n",
       "| Female  | bright  | bright  | etc     | 4       | 4       |\n",
       "| Female  | harmony | harmony | etc     | 2       | 3       |\n",
       "\n"
      ],
      "text/plain": [
       "  sex    definition need    purpose interest comp\n",
       "1 Male   harmony    harmony clothes 5        4   \n",
       "2 Female bright     harmony clothes 5        1   \n",
       "3 Female bright     bright  clothes 3        2   \n",
       "4 Female harmony    harmony clothes 3        5   \n",
       "5 Female bright     bright  etc     4        4   \n",
       "6 Female harmony    harmony etc     2        3   "
      ]
     },
     "metadata": {},
     "output_type": "display_data"
    }
   ],
   "source": [
    "head(comp)"
   ]
  },
  {
   "cell_type": "code",
   "execution_count": 103,
   "metadata": {
    "collapsed": true
   },
   "outputs": [
    {
     "data": {
      "text/plain": [
       ", ,  = bright,  = bright\n",
       "\n",
       "   \n",
       "    Female Male\n",
       "  1      5    0\n",
       "  2      6    0\n",
       "  3      3    1\n",
       "  4      3    0\n",
       "  5      3    1\n",
       "\n",
       ", ,  = harmony,  = bright\n",
       "\n",
       "   \n",
       "    Female Male\n",
       "  1      5    3\n",
       "  2      2    2\n",
       "  3      1    0\n",
       "  4      4    0\n",
       "  5      5    1\n",
       "\n",
       ", ,  = bright,  = harmony\n",
       "\n",
       "   \n",
       "    Female Male\n",
       "  1      1    1\n",
       "  2      0    0\n",
       "  3      1    1\n",
       "  4      1    0\n",
       "  5      2    0\n",
       "\n",
       ", ,  = harmony,  = harmony\n",
       "\n",
       "   \n",
       "    Female Male\n",
       "  1     23    6\n",
       "  2      7    2\n",
       "  3      8    2\n",
       "  4      2    3\n",
       "  5      8    4\n"
      ]
     },
     "metadata": {},
     "output_type": "display_data"
    }
   ],
   "source": [
    "table(comp$comp, comp$sex, comp$definition, comp$need)"
   ]
  },
  {
   "cell_type": "code",
   "execution_count": null,
   "metadata": {},
   "outputs": [],
   "source": [
    "# 전처리가 필요없는 컬럼\n",
    "cols_to_keep = ['comp']"
   ]
  },
  {
   "cell_type": "code",
   "execution_count": 104,
   "metadata": {},
   "outputs": [
    {
     "ename": "ERROR",
     "evalue": "Error in pd.get_dummies(comp[\"Sex\"], prefix = \"Sex\"): 함수 \"pd.get_dummies\"를 찾을 수 없습니다\n",
     "output_type": "error",
     "traceback": [
      "Error in pd.get_dummies(comp[\"Sex\"], prefix = \"Sex\"): 함수 \"pd.get_dummies\"를 찾을 수 없습니다\nTraceback:\n"
     ]
    }
   ],
   "source": [
    "dummy_sex = pd.get_dummies(comp['Sex'], prefix='Sex')\n",
    "dummy_sex.head()"
   ]
  },
  {
   "cell_type": "code",
   "execution_count": null,
   "metadata": {},
   "outputs": [],
   "source": []
  },
  {
   "cell_type": "code",
   "execution_count": null,
   "metadata": {},
   "outputs": [],
   "source": []
  },
  {
   "cell_type": "code",
   "execution_count": null,
   "metadata": {},
   "outputs": [],
   "source": []
  },
  {
   "cell_type": "code",
   "execution_count": null,
   "metadata": {},
   "outputs": [],
   "source": []
  },
  {
   "cell_type": "code",
   "execution_count": null,
   "metadata": {},
   "outputs": [],
   "source": []
  },
  {
   "cell_type": "code",
   "execution_count": null,
   "metadata": {},
   "outputs": [],
   "source": []
  },
  {
   "cell_type": "code",
   "execution_count": null,
   "metadata": {},
   "outputs": [],
   "source": []
  },
  {
   "cell_type": "code",
   "execution_count": null,
   "metadata": {},
   "outputs": [],
   "source": []
  },
  {
   "cell_type": "code",
   "execution_count": null,
   "metadata": {},
   "outputs": [],
   "source": []
  },
  {
   "cell_type": "code",
   "execution_count": null,
   "metadata": {},
   "outputs": [],
   "source": []
  },
  {
   "cell_type": "code",
   "execution_count": null,
   "metadata": {},
   "outputs": [],
   "source": []
  },
  {
   "cell_type": "code",
   "execution_count": null,
   "metadata": {},
   "outputs": [],
   "source": []
  },
  {
   "cell_type": "code",
   "execution_count": 78,
   "metadata": {
    "scrolled": true
   },
   "outputs": [],
   "source": [
    "comp_harmony <- change_bright %>% group_by(comp) %>% filter(definition=='harmony') %>% summarise(count=n())\n",
    "comp_bright <- change_bright %>% group_by(comp) %>% filter(definition=='bright') %>% summarise(count=n())"
   ]
  },
  {
   "cell_type": "code",
   "execution_count": 81,
   "metadata": {},
   "outputs": [],
   "source": [
    "comp_definition <- join(comp_harmony, comp_bright, by='comp', type='left')"
   ]
  },
  {
   "cell_type": "code",
   "execution_count": 83,
   "metadata": {},
   "outputs": [],
   "source": [
    "comp_definition$harmony = comp_definition$count"
   ]
  },
  {
   "cell_type": "code",
   "execution_count": 89,
   "metadata": {},
   "outputs": [],
   "source": [
    "comp_definition$bright = comp_definition$count"
   ]
  },
  {
   "cell_type": "code",
   "execution_count": 90,
   "metadata": {},
   "outputs": [
    {
     "data": {
      "text/html": [
       "<table>\n",
       "<thead><tr><th scope=col>comp</th><th scope=col>count</th><th scope=col>count</th><th scope=col>harmony</th><th scope=col>bright</th></tr></thead>\n",
       "<tbody>\n",
       "\t<tr><td>1 </td><td>37</td><td>7 </td><td>37</td><td>37</td></tr>\n",
       "\t<tr><td>2 </td><td>13</td><td>6 </td><td>13</td><td>13</td></tr>\n",
       "\t<tr><td>3 </td><td>11</td><td>6 </td><td>11</td><td>11</td></tr>\n",
       "\t<tr><td>4 </td><td> 9</td><td>4 </td><td> 9</td><td> 9</td></tr>\n",
       "\t<tr><td>5 </td><td>18</td><td>6 </td><td>18</td><td>18</td></tr>\n",
       "</tbody>\n",
       "</table>\n"
      ],
      "text/latex": [
       "\\begin{tabular}{r|lllll}\n",
       " comp & count & count & harmony & bright\\\\\n",
       "\\hline\n",
       "\t 1  & 37 & 7  & 37 & 37\\\\\n",
       "\t 2  & 13 & 6  & 13 & 13\\\\\n",
       "\t 3  & 11 & 6  & 11 & 11\\\\\n",
       "\t 4  &  9 & 4  &  9 &  9\\\\\n",
       "\t 5  & 18 & 6  & 18 & 18\\\\\n",
       "\\end{tabular}\n"
      ],
      "text/markdown": [
       "\n",
       "| comp | count | count | harmony | bright |\n",
       "|---|---|---|---|---|\n",
       "| 1  | 37 | 7  | 37 | 37 |\n",
       "| 2  | 13 | 6  | 13 | 13 |\n",
       "| 3  | 11 | 6  | 11 | 11 |\n",
       "| 4  |  9 | 4  |  9 |  9 |\n",
       "| 5  | 18 | 6  | 18 | 18 |\n",
       "\n"
      ],
      "text/plain": [
       "  comp count count harmony bright\n",
       "1 1    37    7     37      37    \n",
       "2 2    13    6     13      13    \n",
       "3 3    11    6     11      11    \n",
       "4 4     9    4      9       9    \n",
       "5 5    18    6     18      18    "
      ]
     },
     "metadata": {},
     "output_type": "display_data"
    }
   ],
   "source": [
    "comp_definition"
   ]
  },
  {
   "cell_type": "code",
   "execution_count": 46,
   "metadata": {},
   "outputs": [
    {
     "data": {
      "text/html": [
       "<table>\n",
       "<thead><tr><th scope=col>triangle1</th><th scope=col>count</th></tr></thead>\n",
       "<tbody>\n",
       "\t<tr><td>1 </td><td>22</td></tr>\n",
       "\t<tr><td>2 </td><td> 7</td></tr>\n",
       "\t<tr><td>3 </td><td>11</td></tr>\n",
       "\t<tr><td>4 </td><td>35</td></tr>\n",
       "\t<tr><td>5 </td><td>13</td></tr>\n",
       "</tbody>\n",
       "</table>\n"
      ],
      "text/latex": [
       "\\begin{tabular}{r|ll}\n",
       " triangle1 & count\\\\\n",
       "\\hline\n",
       "\t 1  & 22\\\\\n",
       "\t 2  &  7\\\\\n",
       "\t 3  & 11\\\\\n",
       "\t 4  & 35\\\\\n",
       "\t 5  & 13\\\\\n",
       "\\end{tabular}\n"
      ],
      "text/markdown": [
       "\n",
       "| triangle1 | count |\n",
       "|---|---|\n",
       "| 1  | 22 |\n",
       "| 2  |  7 |\n",
       "| 3  | 11 |\n",
       "| 4  | 35 |\n",
       "| 5  | 13 |\n",
       "\n"
      ],
      "text/plain": [
       "  triangle1 count\n",
       "1 1         22   \n",
       "2 2          7   \n",
       "3 3         11   \n",
       "4 4         35   \n",
       "5 5         13   "
      ]
     },
     "metadata": {},
     "output_type": "display_data"
    },
    {
     "data": {
      "text/html": [
       "<table>\n",
       "<thead><tr><th scope=col>triangle1</th><th scope=col>count</th></tr></thead>\n",
       "<tbody>\n",
       "\t<tr><td>1</td><td>2</td></tr>\n",
       "\t<tr><td>2</td><td>9</td></tr>\n",
       "\t<tr><td>3</td><td>6</td></tr>\n",
       "\t<tr><td>4</td><td>8</td></tr>\n",
       "\t<tr><td>5</td><td>4</td></tr>\n",
       "</tbody>\n",
       "</table>\n"
      ],
      "text/latex": [
       "\\begin{tabular}{r|ll}\n",
       " triangle1 & count\\\\\n",
       "\\hline\n",
       "\t 1 & 2\\\\\n",
       "\t 2 & 9\\\\\n",
       "\t 3 & 6\\\\\n",
       "\t 4 & 8\\\\\n",
       "\t 5 & 4\\\\\n",
       "\\end{tabular}\n"
      ],
      "text/markdown": [
       "\n",
       "| triangle1 | count |\n",
       "|---|---|\n",
       "| 1 | 2 |\n",
       "| 2 | 9 |\n",
       "| 3 | 6 |\n",
       "| 4 | 8 |\n",
       "| 5 | 4 |\n",
       "\n"
      ],
      "text/plain": [
       "  triangle1 count\n",
       "1 1         2    \n",
       "2 2         9    \n",
       "3 3         6    \n",
       "4 4         8    \n",
       "5 5         4    "
      ]
     },
     "metadata": {},
     "output_type": "display_data"
    }
   ],
   "source": [
    "change_bright %>% group_by(triangle1) %>% filter(definition=='harmony') %>% summarise(count=n())\n",
    "change_bright %>% group_by(triangle1) %>% filter(definition=='bright') %>% summarise(count=n())"
   ]
  },
  {
   "cell_type": "code",
   "execution_count": 47,
   "metadata": {},
   "outputs": [
    {
     "data": {
      "text/html": [
       "<table>\n",
       "<thead><tr><th scope=col>triangle2</th><th scope=col>count</th></tr></thead>\n",
       "<tbody>\n",
       "\t<tr><td>1 </td><td>19</td></tr>\n",
       "\t<tr><td>2 </td><td>23</td></tr>\n",
       "\t<tr><td>3 </td><td>18</td></tr>\n",
       "\t<tr><td>4 </td><td>14</td></tr>\n",
       "\t<tr><td>5 </td><td>14</td></tr>\n",
       "</tbody>\n",
       "</table>\n"
      ],
      "text/latex": [
       "\\begin{tabular}{r|ll}\n",
       " triangle2 & count\\\\\n",
       "\\hline\n",
       "\t 1  & 19\\\\\n",
       "\t 2  & 23\\\\\n",
       "\t 3  & 18\\\\\n",
       "\t 4  & 14\\\\\n",
       "\t 5  & 14\\\\\n",
       "\\end{tabular}\n"
      ],
      "text/markdown": [
       "\n",
       "| triangle2 | count |\n",
       "|---|---|\n",
       "| 1  | 19 |\n",
       "| 2  | 23 |\n",
       "| 3  | 18 |\n",
       "| 4  | 14 |\n",
       "| 5  | 14 |\n",
       "\n"
      ],
      "text/plain": [
       "  triangle2 count\n",
       "1 1         19   \n",
       "2 2         23   \n",
       "3 3         18   \n",
       "4 4         14   \n",
       "5 5         14   "
      ]
     },
     "metadata": {},
     "output_type": "display_data"
    },
    {
     "data": {
      "text/html": [
       "<table>\n",
       "<thead><tr><th scope=col>triangle2</th><th scope=col>count</th></tr></thead>\n",
       "<tbody>\n",
       "\t<tr><td>1</td><td>9</td></tr>\n",
       "\t<tr><td>2</td><td>5</td></tr>\n",
       "\t<tr><td>3</td><td>6</td></tr>\n",
       "\t<tr><td>4</td><td>4</td></tr>\n",
       "\t<tr><td>5</td><td>5</td></tr>\n",
       "</tbody>\n",
       "</table>\n"
      ],
      "text/latex": [
       "\\begin{tabular}{r|ll}\n",
       " triangle2 & count\\\\\n",
       "\\hline\n",
       "\t 1 & 9\\\\\n",
       "\t 2 & 5\\\\\n",
       "\t 3 & 6\\\\\n",
       "\t 4 & 4\\\\\n",
       "\t 5 & 5\\\\\n",
       "\\end{tabular}\n"
      ],
      "text/markdown": [
       "\n",
       "| triangle2 | count |\n",
       "|---|---|\n",
       "| 1 | 9 |\n",
       "| 2 | 5 |\n",
       "| 3 | 6 |\n",
       "| 4 | 4 |\n",
       "| 5 | 5 |\n",
       "\n"
      ],
      "text/plain": [
       "  triangle2 count\n",
       "1 1         9    \n",
       "2 2         5    \n",
       "3 3         6    \n",
       "4 4         4    \n",
       "5 5         5    "
      ]
     },
     "metadata": {},
     "output_type": "display_data"
    }
   ],
   "source": [
    "change_bright %>% group_by(triangle2) %>% filter(definition=='harmony') %>% summarise(count=n())\n",
    "change_bright %>% group_by(triangle2) %>% filter(definition=='bright') %>% summarise(count=n())"
   ]
  },
  {
   "cell_type": "code",
   "execution_count": 48,
   "metadata": {},
   "outputs": [
    {
     "data": {
      "text/html": [
       "<table>\n",
       "<thead><tr><th scope=col>doubleness1</th><th scope=col>count</th></tr></thead>\n",
       "<tbody>\n",
       "\t<tr><td>1 </td><td>18</td></tr>\n",
       "\t<tr><td>2 </td><td>26</td></tr>\n",
       "\t<tr><td>3 </td><td>14</td></tr>\n",
       "\t<tr><td>4 </td><td>20</td></tr>\n",
       "\t<tr><td>5 </td><td>10</td></tr>\n",
       "</tbody>\n",
       "</table>\n"
      ],
      "text/latex": [
       "\\begin{tabular}{r|ll}\n",
       " doubleness1 & count\\\\\n",
       "\\hline\n",
       "\t 1  & 18\\\\\n",
       "\t 2  & 26\\\\\n",
       "\t 3  & 14\\\\\n",
       "\t 4  & 20\\\\\n",
       "\t 5  & 10\\\\\n",
       "\\end{tabular}\n"
      ],
      "text/markdown": [
       "\n",
       "| doubleness1 | count |\n",
       "|---|---|\n",
       "| 1  | 18 |\n",
       "| 2  | 26 |\n",
       "| 3  | 14 |\n",
       "| 4  | 20 |\n",
       "| 5  | 10 |\n",
       "\n"
      ],
      "text/plain": [
       "  doubleness1 count\n",
       "1 1           18   \n",
       "2 2           26   \n",
       "3 3           14   \n",
       "4 4           20   \n",
       "5 5           10   "
      ]
     },
     "metadata": {},
     "output_type": "display_data"
    },
    {
     "data": {
      "text/html": [
       "<table>\n",
       "<thead><tr><th scope=col>doubleness1</th><th scope=col>count</th></tr></thead>\n",
       "<tbody>\n",
       "\t<tr><td>1 </td><td> 8</td></tr>\n",
       "\t<tr><td>2 </td><td>13</td></tr>\n",
       "\t<tr><td>3 </td><td> 2</td></tr>\n",
       "\t<tr><td>4 </td><td> 3</td></tr>\n",
       "\t<tr><td>5 </td><td> 3</td></tr>\n",
       "</tbody>\n",
       "</table>\n"
      ],
      "text/latex": [
       "\\begin{tabular}{r|ll}\n",
       " doubleness1 & count\\\\\n",
       "\\hline\n",
       "\t 1  &  8\\\\\n",
       "\t 2  & 13\\\\\n",
       "\t 3  &  2\\\\\n",
       "\t 4  &  3\\\\\n",
       "\t 5  &  3\\\\\n",
       "\\end{tabular}\n"
      ],
      "text/markdown": [
       "\n",
       "| doubleness1 | count |\n",
       "|---|---|\n",
       "| 1  |  8 |\n",
       "| 2  | 13 |\n",
       "| 3  |  2 |\n",
       "| 4  |  3 |\n",
       "| 5  |  3 |\n",
       "\n"
      ],
      "text/plain": [
       "  doubleness1 count\n",
       "1 1            8   \n",
       "2 2           13   \n",
       "3 3            2   \n",
       "4 4            3   \n",
       "5 5            3   "
      ]
     },
     "metadata": {},
     "output_type": "display_data"
    }
   ],
   "source": [
    "change_bright %>% group_by(doubleness1) %>% filter(definition=='harmony') %>% summarise(count=n())\n",
    "change_bright %>% group_by(doubleness1) %>% filter(definition=='bright') %>% summarise(count=n())"
   ]
  },
  {
   "cell_type": "code",
   "execution_count": 49,
   "metadata": {},
   "outputs": [
    {
     "data": {
      "text/html": [
       "<table>\n",
       "<thead><tr><th scope=col>doubleness2</th><th scope=col>count</th></tr></thead>\n",
       "<tbody>\n",
       "\t<tr><td>1 </td><td>34</td></tr>\n",
       "\t<tr><td>2 </td><td>12</td></tr>\n",
       "\t<tr><td>3 </td><td>13</td></tr>\n",
       "\t<tr><td>4 </td><td>18</td></tr>\n",
       "\t<tr><td>5 </td><td>11</td></tr>\n",
       "</tbody>\n",
       "</table>\n"
      ],
      "text/latex": [
       "\\begin{tabular}{r|ll}\n",
       " doubleness2 & count\\\\\n",
       "\\hline\n",
       "\t 1  & 34\\\\\n",
       "\t 2  & 12\\\\\n",
       "\t 3  & 13\\\\\n",
       "\t 4  & 18\\\\\n",
       "\t 5  & 11\\\\\n",
       "\\end{tabular}\n"
      ],
      "text/markdown": [
       "\n",
       "| doubleness2 | count |\n",
       "|---|---|\n",
       "| 1  | 34 |\n",
       "| 2  | 12 |\n",
       "| 3  | 13 |\n",
       "| 4  | 18 |\n",
       "| 5  | 11 |\n",
       "\n"
      ],
      "text/plain": [
       "  doubleness2 count\n",
       "1 1           34   \n",
       "2 2           12   \n",
       "3 3           13   \n",
       "4 4           18   \n",
       "5 5           11   "
      ]
     },
     "metadata": {},
     "output_type": "display_data"
    },
    {
     "data": {
      "text/html": [
       "<table>\n",
       "<thead><tr><th scope=col>doubleness2</th><th scope=col>count</th></tr></thead>\n",
       "<tbody>\n",
       "\t<tr><td>1 </td><td>10</td></tr>\n",
       "\t<tr><td>2 </td><td> 9</td></tr>\n",
       "\t<tr><td>3 </td><td> 2</td></tr>\n",
       "\t<tr><td>4 </td><td> 4</td></tr>\n",
       "\t<tr><td>5 </td><td> 4</td></tr>\n",
       "</tbody>\n",
       "</table>\n"
      ],
      "text/latex": [
       "\\begin{tabular}{r|ll}\n",
       " doubleness2 & count\\\\\n",
       "\\hline\n",
       "\t 1  & 10\\\\\n",
       "\t 2  &  9\\\\\n",
       "\t 3  &  2\\\\\n",
       "\t 4  &  4\\\\\n",
       "\t 5  &  4\\\\\n",
       "\\end{tabular}\n"
      ],
      "text/markdown": [
       "\n",
       "| doubleness2 | count |\n",
       "|---|---|\n",
       "| 1  | 10 |\n",
       "| 2  |  9 |\n",
       "| 3  |  2 |\n",
       "| 4  |  4 |\n",
       "| 5  |  4 |\n",
       "\n"
      ],
      "text/plain": [
       "  doubleness2 count\n",
       "1 1           10   \n",
       "2 2            9   \n",
       "3 3            2   \n",
       "4 4            4   \n",
       "5 5            4   "
      ]
     },
     "metadata": {},
     "output_type": "display_data"
    }
   ],
   "source": [
    "change_bright %>% group_by(doubleness2) %>% filter(definition=='harmony') %>% summarise(count=n())\n",
    "change_bright %>% group_by(doubleness2) %>% filter(definition=='bright') %>% summarise(count=n())"
   ]
  },
  {
   "cell_type": "code",
   "execution_count": 50,
   "metadata": {},
   "outputs": [
    {
     "data": {
      "text/html": [
       "<table>\n",
       "<thead><tr><th scope=col>doubleness3</th><th scope=col>count</th></tr></thead>\n",
       "<tbody>\n",
       "\t<tr><td>1 </td><td>13</td></tr>\n",
       "\t<tr><td>2 </td><td>17</td></tr>\n",
       "\t<tr><td>3 </td><td>22</td></tr>\n",
       "\t<tr><td>4 </td><td>14</td></tr>\n",
       "\t<tr><td>5 </td><td>22</td></tr>\n",
       "</tbody>\n",
       "</table>\n"
      ],
      "text/latex": [
       "\\begin{tabular}{r|ll}\n",
       " doubleness3 & count\\\\\n",
       "\\hline\n",
       "\t 1  & 13\\\\\n",
       "\t 2  & 17\\\\\n",
       "\t 3  & 22\\\\\n",
       "\t 4  & 14\\\\\n",
       "\t 5  & 22\\\\\n",
       "\\end{tabular}\n"
      ],
      "text/markdown": [
       "\n",
       "| doubleness3 | count |\n",
       "|---|---|\n",
       "| 1  | 13 |\n",
       "| 2  | 17 |\n",
       "| 3  | 22 |\n",
       "| 4  | 14 |\n",
       "| 5  | 22 |\n",
       "\n"
      ],
      "text/plain": [
       "  doubleness3 count\n",
       "1 1           13   \n",
       "2 2           17   \n",
       "3 3           22   \n",
       "4 4           14   \n",
       "5 5           22   "
      ]
     },
     "metadata": {},
     "output_type": "display_data"
    },
    {
     "data": {
      "text/html": [
       "<table>\n",
       "<thead><tr><th scope=col>doubleness3</th><th scope=col>count</th></tr></thead>\n",
       "<tbody>\n",
       "\t<tr><td>1</td><td>6</td></tr>\n",
       "\t<tr><td>2</td><td>5</td></tr>\n",
       "\t<tr><td>3</td><td>5</td></tr>\n",
       "\t<tr><td>4</td><td>5</td></tr>\n",
       "\t<tr><td>5</td><td>8</td></tr>\n",
       "</tbody>\n",
       "</table>\n"
      ],
      "text/latex": [
       "\\begin{tabular}{r|ll}\n",
       " doubleness3 & count\\\\\n",
       "\\hline\n",
       "\t 1 & 6\\\\\n",
       "\t 2 & 5\\\\\n",
       "\t 3 & 5\\\\\n",
       "\t 4 & 5\\\\\n",
       "\t 5 & 8\\\\\n",
       "\\end{tabular}\n"
      ],
      "text/markdown": [
       "\n",
       "| doubleness3 | count |\n",
       "|---|---|\n",
       "| 1 | 6 |\n",
       "| 2 | 5 |\n",
       "| 3 | 5 |\n",
       "| 4 | 5 |\n",
       "| 5 | 8 |\n",
       "\n"
      ],
      "text/plain": [
       "  doubleness3 count\n",
       "1 1           6    \n",
       "2 2           5    \n",
       "3 3           5    \n",
       "4 4           5    \n",
       "5 5           8    "
      ]
     },
     "metadata": {},
     "output_type": "display_data"
    }
   ],
   "source": [
    "change_bright %>% group_by(doubleness3) %>% filter(definition=='harmony') %>% summarise(count=n())\n",
    "change_bright %>% group_by(doubleness3) %>% filter(definition=='bright') %>% summarise(count=n())"
   ]
  },
  {
   "cell_type": "code",
   "execution_count": 30,
   "metadata": {},
   "outputs": [],
   "source": [
    "## 데이터프레임 재생성\n",
    "# 성별\n",
    "\n",
    "Male_T <- with(change_bright, sum(comp[comp==1]))\n",
    "# Male_F <- with(change_bright, sum(cheek[sex==\"Male\"], forehead[sex==\"Male\"], eyes[sex==\"Male\"], face[sex==\"Male\"]))\n",
    "# Female_T <- with(change_bright, sum(chin[sex==\"Female\"]))\n",
    "# Female_F <- with(change_bright, sum(cheek[sex==\"Female\"], forehead[sex==\"Female\"], eyes[sex==\"Female\"], face[sex==\"Female\"]))\n",
    "\n",
    "# Male <- c(Male_T, Male_F)\n",
    "# Female <- c(Female_T, Female_F)\n",
    "\n",
    "# df_Sex_Region <- data.frame(Male, Female)\n",
    "# df_Sex_Region <- t(df_Sex_Region)\n",
    "# colnames(df_Sex_Region) <- c(\"True\", \"False\")"
   ]
  },
  {
   "cell_type": "code",
   "execution_count": 31,
   "metadata": {},
   "outputs": [
    {
     "data": {
      "text/html": [
       "&lt;NA&gt;"
      ],
      "text/latex": [
       "<NA>"
      ],
      "text/markdown": [
       "&lt;NA&gt;"
      ],
      "text/plain": [
       "[1] NA"
      ]
     },
     "metadata": {},
     "output_type": "display_data"
    }
   ],
   "source": [
    "Male_T"
   ]
  },
  {
   "cell_type": "code",
   "execution_count": 2,
   "metadata": {},
   "outputs": [
    {
     "name": "stderr",
     "output_type": "stream",
     "text": [
      "Installing package into 'C:/Users/acorn/Documents/R/win-library/3.6'\n",
      "(as 'lib' is unspecified)\n"
     ]
    },
    {
     "name": "stdout",
     "output_type": "stream",
     "text": [
      "package 'ggplot2' successfully unpacked and MD5 sums checked\n",
      "\n",
      "The downloaded binary packages are in\n",
      "\tC:\\Users\\acorn\\AppData\\Local\\Temp\\RtmpqwFqLx\\downloaded_packages\n"
     ]
    },
    {
     "name": "stderr",
     "output_type": "stream",
     "text": [
      "Warning message:\n",
      "\"package 'ggplot2' was built under R version 3.6.3\""
     ]
    }
   ],
   "source": [
    "# install.packages(\"ggplot2\")\n",
    "library(\"ggplot2\")"
   ]
  },
  {
   "cell_type": "code",
   "execution_count": 58,
   "metadata": {},
   "outputs": [
    {
     "data": {
      "text/html": [
       "<table>\n",
       "<thead><tr><th scope=col>X</th><th scope=col>sex</th><th scope=col>age_class</th><th scope=col>definition</th><th scope=col>need</th><th scope=col>purpose</th><th scope=col>interest</th><th scope=col>comp</th><th scope=col>triangle1</th><th scope=col>triangle2</th><th scope=col>doubleness1</th><th scope=col>doubleness2</th><th scope=col>doubleness3</th></tr></thead>\n",
       "<tbody>\n",
       "\t<tr><td>0      </td><td>Male   </td><td>20     </td><td>harmony</td><td>harmony</td><td>clothes</td><td>5      </td><td>4      </td><td>5      </td><td>2      </td><td>3      </td><td>2      </td><td>2      </td></tr>\n",
       "\t<tr><td>1      </td><td>Female </td><td>20     </td><td>bright </td><td>harmony</td><td>clothes</td><td>5      </td><td>1      </td><td>1      </td><td>2      </td><td>2      </td><td>3      </td><td>2      </td></tr>\n",
       "\t<tr><td>2      </td><td>Female </td><td>20     </td><td>bright </td><td>bright </td><td>clothes</td><td>3      </td><td>2      </td><td>4      </td><td>1      </td><td>2      </td><td>1      </td><td>2      </td></tr>\n",
       "\t<tr><td>3      </td><td>Female </td><td>20     </td><td>harmony</td><td>harmony</td><td>clothes</td><td>3      </td><td>5      </td><td>5      </td><td>4      </td><td>5      </td><td>4      </td><td>1      </td></tr>\n",
       "\t<tr><td>4      </td><td>Female </td><td>20     </td><td>bright </td><td>bright </td><td>etc    </td><td>4      </td><td>4      </td><td>2      </td><td>1      </td><td>1      </td><td>2      </td><td>2      </td></tr>\n",
       "\t<tr><td>5      </td><td>Female </td><td>20     </td><td>harmony</td><td>harmony</td><td>etc    </td><td>2      </td><td>3      </td><td>4      </td><td>1      </td><td>2      </td><td>2      </td><td>2      </td></tr>\n",
       "</tbody>\n",
       "</table>\n"
      ],
      "text/latex": [
       "\\begin{tabular}{r|lllllllllllll}\n",
       " X & sex & age\\_class & definition & need & purpose & interest & comp & triangle1 & triangle2 & doubleness1 & doubleness2 & doubleness3\\\\\n",
       "\\hline\n",
       "\t 0       & Male    & 20      & harmony & harmony & clothes & 5       & 4       & 5       & 2       & 3       & 2       & 2      \\\\\n",
       "\t 1       & Female  & 20      & bright  & harmony & clothes & 5       & 1       & 1       & 2       & 2       & 3       & 2      \\\\\n",
       "\t 2       & Female  & 20      & bright  & bright  & clothes & 3       & 2       & 4       & 1       & 2       & 1       & 2      \\\\\n",
       "\t 3       & Female  & 20      & harmony & harmony & clothes & 3       & 5       & 5       & 4       & 5       & 4       & 1      \\\\\n",
       "\t 4       & Female  & 20      & bright  & bright  & etc     & 4       & 4       & 2       & 1       & 1       & 2       & 2      \\\\\n",
       "\t 5       & Female  & 20      & harmony & harmony & etc     & 2       & 3       & 4       & 1       & 2       & 2       & 2      \\\\\n",
       "\\end{tabular}\n"
      ],
      "text/markdown": [
       "\n",
       "| X | sex | age_class | definition | need | purpose | interest | comp | triangle1 | triangle2 | doubleness1 | doubleness2 | doubleness3 |\n",
       "|---|---|---|---|---|---|---|---|---|---|---|---|---|\n",
       "| 0       | Male    | 20      | harmony | harmony | clothes | 5       | 4       | 5       | 2       | 3       | 2       | 2       |\n",
       "| 1       | Female  | 20      | bright  | harmony | clothes | 5       | 1       | 1       | 2       | 2       | 3       | 2       |\n",
       "| 2       | Female  | 20      | bright  | bright  | clothes | 3       | 2       | 4       | 1       | 2       | 1       | 2       |\n",
       "| 3       | Female  | 20      | harmony | harmony | clothes | 3       | 5       | 5       | 4       | 5       | 4       | 1       |\n",
       "| 4       | Female  | 20      | bright  | bright  | etc     | 4       | 4       | 2       | 1       | 1       | 2       | 2       |\n",
       "| 5       | Female  | 20      | harmony | harmony | etc     | 2       | 3       | 4       | 1       | 2       | 2       | 2       |\n",
       "\n"
      ],
      "text/plain": [
       "  X sex    age_class definition need    purpose interest comp triangle1\n",
       "1 0 Male   20        harmony    harmony clothes 5        4    5        \n",
       "2 1 Female 20        bright     harmony clothes 5        1    1        \n",
       "3 2 Female 20        bright     bright  clothes 3        2    4        \n",
       "4 3 Female 20        harmony    harmony clothes 3        5    5        \n",
       "5 4 Female 20        bright     bright  etc     4        4    2        \n",
       "6 5 Female 20        harmony    harmony etc     2        3    4        \n",
       "  triangle2 doubleness1 doubleness2 doubleness3\n",
       "1 2         3           2           2          \n",
       "2 2         2           3           2          \n",
       "3 1         2           1           2          \n",
       "4 4         5           4           1          \n",
       "5 1         1           2           2          \n",
       "6 1         2           2           2          "
      ]
     },
     "metadata": {},
     "output_type": "display_data"
    }
   ],
   "source": [
    "head(change_bright)"
   ]
  },
  {
   "cell_type": "code",
   "execution_count": 3,
   "metadata": {
    "collapsed": true
   },
   "outputs": [
    {
     "data": {
      "image/png": "[encoded data removed]",
      "text/plain": [
       "plot without title"
      ]
     },
     "metadata": {},
     "output_type": "display_data"
    }
   ],
   "source": [
    "ggplot(change_bright, aes(comp)) + geom_bar(position=\"dodge\") + labs(title = \"comp_all\")"
   ]
  },
  {
   "cell_type": "code",
   "execution_count": 59,
   "metadata": {},
   "outputs": [
    {
     "data": {
      "text/html": [
       "<table>\n",
       "<thead><tr><th scope=col>comp</th><th scope=col>count</th></tr></thead>\n",
       "<tbody>\n",
       "\t<tr><td>1 </td><td>37</td></tr>\n",
       "\t<tr><td>2 </td><td>13</td></tr>\n",
       "\t<tr><td>3 </td><td>11</td></tr>\n",
       "\t<tr><td>4 </td><td> 9</td></tr>\n",
       "\t<tr><td>5 </td><td>18</td></tr>\n",
       "</tbody>\n",
       "</table>\n"
      ],
      "text/latex": [
       "\\begin{tabular}{r|ll}\n",
       " comp & count\\\\\n",
       "\\hline\n",
       "\t 1  & 37\\\\\n",
       "\t 2  & 13\\\\\n",
       "\t 3  & 11\\\\\n",
       "\t 4  &  9\\\\\n",
       "\t 5  & 18\\\\\n",
       "\\end{tabular}\n"
      ],
      "text/markdown": [
       "\n",
       "| comp | count |\n",
       "|---|---|\n",
       "| 1  | 37 |\n",
       "| 2  | 13 |\n",
       "| 3  | 11 |\n",
       "| 4  |  9 |\n",
       "| 5  | 18 |\n",
       "\n"
      ],
      "text/plain": [
       "  comp count\n",
       "1 1    37   \n",
       "2 2    13   \n",
       "3 3    11   \n",
       "4 4     9   \n",
       "5 5    18   "
      ]
     },
     "metadata": {},
     "output_type": "display_data"
    }
   ],
   "source": [
    "head(comp_harmony)"
   ]
  },
  {
   "cell_type": "code",
   "execution_count": 70,
   "metadata": {
    "collapsed": true
   },
   "outputs": [
    {
     "name": "stderr",
     "output_type": "stream",
     "text": [
      "Warning message:\n",
      "\"Use of `comp_harmony$comp` is discouraged. Use `comp` instead.\"Warning message:\n",
      "\"Use of `comp_harmony$count` is discouraged. Use `count` instead.\""
     ]
    },
    {
     "data": {
      "image/png": "[encoded data removed]",
      "text/plain": [
       "plot without title"
      ]
     },
     "metadata": {},
     "output_type": "display_data"
    }
   ],
   "source": [
    "ggplot(comp_harmony, aes(x=comp_harmony$comp, y=comp_harmony$count)) + geom_point()"
   ]
  },
  {
   "cell_type": "code",
   "execution_count": 4,
   "metadata": {
    "collapsed": true
   },
   "outputs": [
    {
     "data": {
      "image/png": "[encoded data removed]",
      "text/plain": [
       "plot without title"
      ]
     },
     "metadata": {},
     "output_type": "display_data"
    }
   ],
   "source": [
    "ggplot(change_bright, aes(triangle1)) + geom_bar(position=\"dodge\") + labs(title = \"triangle1_all\")"
   ]
  },
  {
   "cell_type": "code",
   "execution_count": 5,
   "metadata": {
    "collapsed": true
   },
   "outputs": [
    {
     "data": {
      "image/png": "[encoded data removed]",
      "text/plain": [
       "plot without title"
      ]
     },
     "metadata": {},
     "output_type": "display_data"
    }
   ],
   "source": [
    "ggplot(change_bright, aes(triangle2)) + geom_bar(position=\"dodge\") + labs(title = \"triangle2_all\")"
   ]
  },
  {
   "cell_type": "code",
   "execution_count": 6,
   "metadata": {
    "collapsed": true
   },
   "outputs": [
    {
     "data": {
      "image/png": "[encoded data removed]",
      "text/plain": [
       "plot without title"
      ]
     },
     "metadata": {},
     "output_type": "display_data"
    }
   ],
   "source": [
    "ggplot(change_bright, aes(doubleness1)) + geom_bar(position=\"dodge\") + labs(title = \"doubleness1_all\")"
   ]
  },
  {
   "cell_type": "code",
   "execution_count": 7,
   "metadata": {
    "collapsed": true
   },
   "outputs": [
    {
     "data": {
      "image/png": "[encoded data removed]",
      "text/plain": [
       "plot without title"
      ]
     },
     "metadata": {},
     "output_type": "display_data"
    }
   ],
   "source": [
    "ggplot(change_bright, aes(doubleness2)) + geom_bar(position=\"dodge\") + labs(title = \"doubleness2_all\")"
   ]
  },
  {
   "cell_type": "code",
   "execution_count": 8,
   "metadata": {
    "collapsed": true
   },
   "outputs": [
    {
     "data": {
      "image/png": "[encoded data removed]",
      "text/plain": [
       "plot without title"
      ]
     },
     "metadata": {},
     "output_type": "display_data"
    }
   ],
   "source": [
    "ggplot(change_bright, aes(doubleness3)) + geom_bar(position=\"dodge\") + labs(title = \"doubleness2_all\")"
   ]
  },
  {
   "cell_type": "code",
   "execution_count": 10,
   "metadata": {
    "scrolled": true
   },
   "outputs": [
    {
     "data": {
      "text/html": [
       "<table>\n",
       "<thead><tr><th scope=col>X</th><th scope=col>sex</th><th scope=col>age_class</th><th scope=col>definition</th><th scope=col>need</th><th scope=col>purpose</th><th scope=col>interest</th><th scope=col>comp</th><th scope=col>triangle1</th><th scope=col>triangle2</th><th scope=col>doubleness1</th><th scope=col>doubleness2</th><th scope=col>doubleness3</th></tr></thead>\n",
       "<tbody>\n",
       "\t<tr><td>0      </td><td>Male   </td><td>20     </td><td>harmony</td><td>harmony</td><td>clothes</td><td>5      </td><td>4      </td><td>5      </td><td>2      </td><td>3      </td><td>2      </td><td>2      </td></tr>\n",
       "\t<tr><td>1      </td><td>Female </td><td>20     </td><td>bright </td><td>harmony</td><td>clothes</td><td>5      </td><td>1      </td><td>1      </td><td>2      </td><td>2      </td><td>3      </td><td>2      </td></tr>\n",
       "\t<tr><td>2      </td><td>Female </td><td>20     </td><td>bright </td><td>bright </td><td>clothes</td><td>3      </td><td>2      </td><td>4      </td><td>1      </td><td>2      </td><td>1      </td><td>2      </td></tr>\n",
       "\t<tr><td>3      </td><td>Female </td><td>20     </td><td>harmony</td><td>harmony</td><td>clothes</td><td>3      </td><td>5      </td><td>5      </td><td>4      </td><td>5      </td><td>4      </td><td>1      </td></tr>\n",
       "\t<tr><td>4      </td><td>Female </td><td>20     </td><td>bright </td><td>bright </td><td>etc    </td><td>4      </td><td>4      </td><td>2      </td><td>1      </td><td>1      </td><td>2      </td><td>2      </td></tr>\n",
       "\t<tr><td>5      </td><td>Female </td><td>20     </td><td>harmony</td><td>harmony</td><td>etc    </td><td>2      </td><td>3      </td><td>4      </td><td>1      </td><td>2      </td><td>2      </td><td>2      </td></tr>\n",
       "</tbody>\n",
       "</table>\n"
      ],
      "text/latex": [
       "\\begin{tabular}{r|lllllllllllll}\n",
       " X & sex & age\\_class & definition & need & purpose & interest & comp & triangle1 & triangle2 & doubleness1 & doubleness2 & doubleness3\\\\\n",
       "\\hline\n",
       "\t 0       & Male    & 20      & harmony & harmony & clothes & 5       & 4       & 5       & 2       & 3       & 2       & 2      \\\\\n",
       "\t 1       & Female  & 20      & bright  & harmony & clothes & 5       & 1       & 1       & 2       & 2       & 3       & 2      \\\\\n",
       "\t 2       & Female  & 20      & bright  & bright  & clothes & 3       & 2       & 4       & 1       & 2       & 1       & 2      \\\\\n",
       "\t 3       & Female  & 20      & harmony & harmony & clothes & 3       & 5       & 5       & 4       & 5       & 4       & 1      \\\\\n",
       "\t 4       & Female  & 20      & bright  & bright  & etc     & 4       & 4       & 2       & 1       & 1       & 2       & 2      \\\\\n",
       "\t 5       & Female  & 20      & harmony & harmony & etc     & 2       & 3       & 4       & 1       & 2       & 2       & 2      \\\\\n",
       "\\end{tabular}\n"
      ],
      "text/markdown": [
       "\n",
       "| X | sex | age_class | definition | need | purpose | interest | comp | triangle1 | triangle2 | doubleness1 | doubleness2 | doubleness3 |\n",
       "|---|---|---|---|---|---|---|---|---|---|---|---|---|\n",
       "| 0       | Male    | 20      | harmony | harmony | clothes | 5       | 4       | 5       | 2       | 3       | 2       | 2       |\n",
       "| 1       | Female  | 20      | bright  | harmony | clothes | 5       | 1       | 1       | 2       | 2       | 3       | 2       |\n",
       "| 2       | Female  | 20      | bright  | bright  | clothes | 3       | 2       | 4       | 1       | 2       | 1       | 2       |\n",
       "| 3       | Female  | 20      | harmony | harmony | clothes | 3       | 5       | 5       | 4       | 5       | 4       | 1       |\n",
       "| 4       | Female  | 20      | bright  | bright  | etc     | 4       | 4       | 2       | 1       | 1       | 2       | 2       |\n",
       "| 5       | Female  | 20      | harmony | harmony | etc     | 2       | 3       | 4       | 1       | 2       | 2       | 2       |\n",
       "\n"
      ],
      "text/plain": [
       "  X sex    age_class definition need    purpose interest comp triangle1\n",
       "1 0 Male   20        harmony    harmony clothes 5        4    5        \n",
       "2 1 Female 20        bright     harmony clothes 5        1    1        \n",
       "3 2 Female 20        bright     bright  clothes 3        2    4        \n",
       "4 3 Female 20        harmony    harmony clothes 3        5    5        \n",
       "5 4 Female 20        bright     bright  etc     4        4    2        \n",
       "6 5 Female 20        harmony    harmony etc     2        3    4        \n",
       "  triangle2 doubleness1 doubleness2 doubleness3\n",
       "1 2         3           2           2          \n",
       "2 2         2           3           2          \n",
       "3 1         2           1           2          \n",
       "4 4         5           4           1          \n",
       "5 1         1           2           2          \n",
       "6 1         2           2           2          "
      ]
     },
     "metadata": {},
     "output_type": "display_data"
    }
   ],
   "source": [
    "head(change_bright)"
   ]
  },
  {
   "cell_type": "code",
   "execution_count": 14,
   "metadata": {
    "scrolled": false
   },
   "outputs": [],
   "source": [
    "definition <- change_bright[change_bright$definition=='harmony', ]"
   ]
  },
  {
   "cell_type": "code",
   "execution_count": 16,
   "metadata": {
    "scrolled": true
   },
   "outputs": [
    {
     "data": {
      "text/html": [
       "<table>\n",
       "<thead><tr><th></th><th scope=col>X</th><th scope=col>sex</th><th scope=col>age_class</th><th scope=col>definition</th><th scope=col>need</th><th scope=col>purpose</th><th scope=col>interest</th><th scope=col>comp</th><th scope=col>triangle1</th><th scope=col>triangle2</th><th scope=col>doubleness1</th><th scope=col>doubleness2</th><th scope=col>doubleness3</th></tr></thead>\n",
       "<tbody>\n",
       "\t<tr><th scope=row>1</th><td>0      </td><td>Male   </td><td>20     </td><td>harmony</td><td>harmony</td><td>clothes</td><td>5      </td><td>4      </td><td>5      </td><td>2      </td><td>3      </td><td>2      </td><td>2      </td></tr>\n",
       "\t<tr><th scope=row>4</th><td>3      </td><td>Female </td><td>20     </td><td>harmony</td><td>harmony</td><td>clothes</td><td>3      </td><td>5      </td><td>5      </td><td>4      </td><td>5      </td><td>4      </td><td>1      </td></tr>\n",
       "\t<tr><th scope=row>6</th><td>5      </td><td>Female </td><td>20     </td><td>harmony</td><td>harmony</td><td>etc    </td><td>2      </td><td>3      </td><td>4      </td><td>1      </td><td>2      </td><td>2      </td><td>2      </td></tr>\n",
       "\t<tr><th scope=row>7</th><td>6      </td><td>Female </td><td>20     </td><td>harmony</td><td>harmony</td><td>etc    </td><td>5      </td><td>1      </td><td>4      </td><td>5      </td><td>3      </td><td>3      </td><td>3      </td></tr>\n",
       "\t<tr><th scope=row>8</th><td>7      </td><td>Male   </td><td>20     </td><td>harmony</td><td>harmony</td><td>clothes</td><td>3      </td><td>1      </td><td>1      </td><td>3      </td><td>1      </td><td>5      </td><td>5      </td></tr>\n",
       "\t<tr><th scope=row>9</th><td>8      </td><td>Female </td><td>20     </td><td>harmony</td><td>harmony</td><td>clothes</td><td>4      </td><td>1      </td><td>4      </td><td>1      </td><td>1      </td><td>2      </td><td>2      </td></tr>\n",
       "</tbody>\n",
       "</table>\n"
      ],
      "text/latex": [
       "\\begin{tabular}{r|lllllllllllll}\n",
       "  & X & sex & age\\_class & definition & need & purpose & interest & comp & triangle1 & triangle2 & doubleness1 & doubleness2 & doubleness3\\\\\n",
       "\\hline\n",
       "\t1 & 0       & Male    & 20      & harmony & harmony & clothes & 5       & 4       & 5       & 2       & 3       & 2       & 2      \\\\\n",
       "\t4 & 3       & Female  & 20      & harmony & harmony & clothes & 3       & 5       & 5       & 4       & 5       & 4       & 1      \\\\\n",
       "\t6 & 5       & Female  & 20      & harmony & harmony & etc     & 2       & 3       & 4       & 1       & 2       & 2       & 2      \\\\\n",
       "\t7 & 6       & Female  & 20      & harmony & harmony & etc     & 5       & 1       & 4       & 5       & 3       & 3       & 3      \\\\\n",
       "\t8 & 7       & Male    & 20      & harmony & harmony & clothes & 3       & 1       & 1       & 3       & 1       & 5       & 5      \\\\\n",
       "\t9 & 8       & Female  & 20      & harmony & harmony & clothes & 4       & 1       & 4       & 1       & 1       & 2       & 2      \\\\\n",
       "\\end{tabular}\n"
      ],
      "text/markdown": [
       "\n",
       "| <!--/--> | X | sex | age_class | definition | need | purpose | interest | comp | triangle1 | triangle2 | doubleness1 | doubleness2 | doubleness3 |\n",
       "|---|---|---|---|---|---|---|---|---|---|---|---|---|---|\n",
       "| 1 | 0       | Male    | 20      | harmony | harmony | clothes | 5       | 4       | 5       | 2       | 3       | 2       | 2       |\n",
       "| 4 | 3       | Female  | 20      | harmony | harmony | clothes | 3       | 5       | 5       | 4       | 5       | 4       | 1       |\n",
       "| 6 | 5       | Female  | 20      | harmony | harmony | etc     | 2       | 3       | 4       | 1       | 2       | 2       | 2       |\n",
       "| 7 | 6       | Female  | 20      | harmony | harmony | etc     | 5       | 1       | 4       | 5       | 3       | 3       | 3       |\n",
       "| 8 | 7       | Male    | 20      | harmony | harmony | clothes | 3       | 1       | 1       | 3       | 1       | 5       | 5       |\n",
       "| 9 | 8       | Female  | 20      | harmony | harmony | clothes | 4       | 1       | 4       | 1       | 1       | 2       | 2       |\n",
       "\n"
      ],
      "text/plain": [
       "  X sex    age_class definition need    purpose interest comp triangle1\n",
       "1 0 Male   20        harmony    harmony clothes 5        4    5        \n",
       "4 3 Female 20        harmony    harmony clothes 3        5    5        \n",
       "6 5 Female 20        harmony    harmony etc     2        3    4        \n",
       "7 6 Female 20        harmony    harmony etc     5        1    4        \n",
       "8 7 Male   20        harmony    harmony clothes 3        1    1        \n",
       "9 8 Female 20        harmony    harmony clothes 4        1    4        \n",
       "  triangle2 doubleness1 doubleness2 doubleness3\n",
       "1 2         3           2           2          \n",
       "4 4         5           4           1          \n",
       "6 1         2           2           2          \n",
       "7 5         3           3           3          \n",
       "8 3         1           5           5          \n",
       "9 1         1           2           2          "
      ]
     },
     "metadata": {},
     "output_type": "display_data"
    }
   ],
   "source": [
    "head(definition)"
   ]
  },
  {
   "cell_type": "code",
   "execution_count": 17,
   "metadata": {
    "collapsed": true
   },
   "outputs": [
    {
     "data": {
      "image/png": "[encoded data removed]",
      "text/plain": [
       "plot without title"
      ]
     },
     "metadata": {},
     "output_type": "display_data"
    }
   ],
   "source": [
    "ggplot(definition, aes(comp)) + geom_bar(position=\"dodge\") + labs(title = \"comp_definition_harmony\")"
   ]
  },
  {
   "cell_type": "code",
   "execution_count": 18,
   "metadata": {
    "collapsed": true
   },
   "outputs": [
    {
     "data": {
      "image/png": "[encoded data removed]",
      "text/plain": [
       "plot without title"
      ]
     },
     "metadata": {},
     "output_type": "display_data"
    }
   ],
   "source": [
    "ggplot(definition, aes(triangle1)) + geom_bar(position=\"dodge\") + labs(title = \"triangle1_definition_harmony\")"
   ]
  },
  {
   "cell_type": "code",
   "execution_count": 24,
   "metadata": {
    "collapsed": true
   },
   "outputs": [
    {
     "data": {
      "image/png": "[encoded data removed]",
      "text/plain": [
       "plot without title"
      ]
     },
     "metadata": {},
     "output_type": "display_data"
    }
   ],
   "source": [
    "ggplot(definition, aes(triangle2)) + geom_bar(position=\"dodge\") + labs(title = \"triangle2_definition_harmony\")"
   ]
  },
  {
   "cell_type": "code",
   "execution_count": 25,
   "metadata": {
    "collapsed": true
   },
   "outputs": [
    {
     "data": {
      "image/png": "[encoded data removed]",
      "text/plain": [
       "plot without title"
      ]
     },
     "metadata": {},
     "output_type": "display_data"
    }
   ],
   "source": [
    "ggplot(definition, aes(doubleness1)) + geom_bar(position=\"dodge\") + labs(title = \"doubleness1_definition_harmony\")"
   ]
  },
  {
   "cell_type": "code",
   "execution_count": 26,
   "metadata": {
    "collapsed": true
   },
   "outputs": [
    {
     "data": {
      "image/png": "[encoded data removed]",
      "text/plain": [
       "plot without title"
      ]
     },
     "metadata": {},
     "output_type": "display_data"
    }
   ],
   "source": [
    "ggplot(definition, aes(doubleness2)) + geom_bar(position=\"dodge\") + labs(title = \"doubleness2_definition_harmony\")"
   ]
  },
  {
   "cell_type": "code",
   "execution_count": 27,
   "metadata": {
    "collapsed": true
   },
   "outputs": [
    {
     "data": {
      "image/png": "[encoded data removed]",
      "text/plain": [
       "plot without title"
      ]
     },
     "metadata": {},
     "output_type": "display_data"
    }
   ],
   "source": [
    "ggplot(definition, aes(doubleness3)) + geom_bar(position=\"dodge\") + labs(title = \"doubleness3_definition_harmony\")"
   ]
  },
  {
   "cell_type": "code",
   "execution_count": null,
   "metadata": {},
   "outputs": [],
   "source": []
  },
  {
   "cell_type": "code",
   "execution_count": null,
   "metadata": {},
   "outputs": [],
   "source": []
  },
  {
   "cell_type": "code",
   "execution_count": null,
   "metadata": {},
   "outputs": [],
   "source": []
  },
  {
   "cell_type": "code",
   "execution_count": null,
   "metadata": {},
   "outputs": [],
   "source": []
  },
  {
   "cell_type": "code",
   "execution_count": null,
   "metadata": {},
   "outputs": [],
   "source": []
  },
  {
   "cell_type": "code",
   "execution_count": null,
   "metadata": {},
   "outputs": [],
   "source": []
  },
  {
   "cell_type": "code",
   "execution_count": null,
   "metadata": {},
   "outputs": [],
   "source": []
  },
  {
   "cell_type": "code",
   "execution_count": null,
   "metadata": {},
   "outputs": [],
   "source": []
  },
  {
   "cell_type": "code",
   "execution_count": null,
   "metadata": {},
   "outputs": [],
   "source": []
  },
  {
   "cell_type": "code",
   "execution_count": null,
   "metadata": {},
   "outputs": [],
   "source": []
  },
  {
   "cell_type": "code",
   "execution_count": null,
   "metadata": {},
   "outputs": [],
   "source": []
  },
  {
   "cell_type": "code",
   "execution_count": 27,
   "metadata": {},
   "outputs": [
    {
     "data": {
      "text/html": [
       "<table>\n",
       "<thead><tr><th scope=col>n</th></tr></thead>\n",
       "<tbody>\n",
       "\t<tr><td>45</td></tr>\n",
       "</tbody>\n",
       "</table>\n"
      ],
      "text/latex": [
       "\\begin{tabular}{r|l}\n",
       " n\\\\\n",
       "\\hline\n",
       "\t 45\\\\\n",
       "\\end{tabular}\n"
      ],
      "text/markdown": [
       "\n",
       "| n |\n",
       "|---|\n",
       "| 45 |\n",
       "\n"
      ],
      "text/plain": [
       "  n \n",
       "1 45"
      ]
     },
     "metadata": {},
     "output_type": "display_data"
    }
   ],
   "source": [
    "count(hueChanged_bright[hueChanged_bright$comp==144, ])"
   ]
  },
  {
   "cell_type": "code",
   "execution_count": 28,
   "metadata": {},
   "outputs": [
    {
     "data": {
      "text/html": [
       "<table>\n",
       "<thead><tr><th></th><th scope=col>X</th><th scope=col>sex</th><th scope=col>age_class</th><th scope=col>comp</th><th scope=col>triangle1</th><th scope=col>triangle2</th><th scope=col>doubleness1</th><th scope=col>doubleness2</th><th scope=col>doubleness3</th></tr></thead>\n",
       "<tbody>\n",
       "\t<tr><th scope=row>2</th><td> 1      </td><td>Female  </td><td>20      </td><td>216     </td><td>144     </td><td>288     </td><td>144     </td><td>original</td><td>216     </td></tr>\n",
       "\t<tr><th scope=row>8</th><td> 7      </td><td>Male    </td><td>20      </td><td>216     </td><td>216     </td><td>144     </td><td>144     </td><td>72      </td><td>216     </td></tr>\n",
       "\t<tr><th scope=row>10</th><td> 9      </td><td>Female  </td><td>20      </td><td>216     </td><td>144     </td><td>216     </td><td>216     </td><td>144     </td><td>144     </td></tr>\n",
       "\t<tr><th scope=row>11</th><td>10      </td><td>Female  </td><td>20      </td><td>216     </td><td>216     </td><td>216     </td><td>216     </td><td>216     </td><td>216     </td></tr>\n",
       "\t<tr><th scope=row>13</th><td>12      </td><td>Female  </td><td>20      </td><td>216     </td><td>144     </td><td>216     </td><td>72      </td><td>144     </td><td>72      </td></tr>\n",
       "\t<tr><th scope=row>18</th><td>17      </td><td>Female  </td><td>20      </td><td>216     </td><td>216     </td><td>288     </td><td>original</td><td>288     </td><td>216     </td></tr>\n",
       "</tbody>\n",
       "</table>\n"
      ],
      "text/latex": [
       "\\begin{tabular}{r|lllllllll}\n",
       "  & X & sex & age\\_class & comp & triangle1 & triangle2 & doubleness1 & doubleness2 & doubleness3\\\\\n",
       "\\hline\n",
       "\t2 &  1       & Female   & 20       & 216      & 144      & 288      & 144      & original & 216     \\\\\n",
       "\t8 &  7       & Male     & 20       & 216      & 216      & 144      & 144      & 72       & 216     \\\\\n",
       "\t10 &  9       & Female   & 20       & 216      & 144      & 216      & 216      & 144      & 144     \\\\\n",
       "\t11 & 10       & Female   & 20       & 216      & 216      & 216      & 216      & 216      & 216     \\\\\n",
       "\t13 & 12       & Female   & 20       & 216      & 144      & 216      & 72       & 144      & 72      \\\\\n",
       "\t18 & 17       & Female   & 20       & 216      & 216      & 288      & original & 288      & 216     \\\\\n",
       "\\end{tabular}\n"
      ],
      "text/markdown": [
       "\n",
       "| <!--/--> | X | sex | age_class | comp | triangle1 | triangle2 | doubleness1 | doubleness2 | doubleness3 |\n",
       "|---|---|---|---|---|---|---|---|---|---|\n",
       "| 2 |  1       | Female   | 20       | 216      | 144      | 288      | 144      | original | 216      |\n",
       "| 8 |  7       | Male     | 20       | 216      | 216      | 144      | 144      | 72       | 216      |\n",
       "| 10 |  9       | Female   | 20       | 216      | 144      | 216      | 216      | 144      | 144      |\n",
       "| 11 | 10       | Female   | 20       | 216      | 216      | 216      | 216      | 216      | 216      |\n",
       "| 13 | 12       | Female   | 20       | 216      | 144      | 216      | 72       | 144      | 72       |\n",
       "| 18 | 17       | Female   | 20       | 216      | 216      | 288      | original | 288      | 216      |\n",
       "\n"
      ],
      "text/plain": [
       "   X  sex    age_class comp triangle1 triangle2 doubleness1 doubleness2\n",
       "2   1 Female 20        216  144       288       144         original   \n",
       "8   7 Male   20        216  216       144       144         72         \n",
       "10  9 Female 20        216  144       216       216         144        \n",
       "11 10 Female 20        216  216       216       216         216        \n",
       "13 12 Female 20        216  144       216       72          144        \n",
       "18 17 Female 20        216  216       288       original    288        \n",
       "   doubleness3\n",
       "2  216        \n",
       "8  216        \n",
       "10 144        \n",
       "11 216        \n",
       "13 72         \n",
       "18 216        "
      ]
     },
     "metadata": {},
     "output_type": "display_data"
    }
   ],
   "source": [
    "head(hueChanged_bright[hueChanged_bright$comp==216, ])"
   ]
  },
  {
   "cell_type": "code",
   "execution_count": 29,
   "metadata": {},
   "outputs": [
    {
     "data": {
      "text/html": [
       "<table>\n",
       "<thead><tr><th scope=col>n</th></tr></thead>\n",
       "<tbody>\n",
       "\t<tr><td>23</td></tr>\n",
       "</tbody>\n",
       "</table>\n"
      ],
      "text/latex": [
       "\\begin{tabular}{r|l}\n",
       " n\\\\\n",
       "\\hline\n",
       "\t 23\\\\\n",
       "\\end{tabular}\n"
      ],
      "text/markdown": [
       "\n",
       "| n |\n",
       "|---|\n",
       "| 23 |\n",
       "\n"
      ],
      "text/plain": [
       "  n \n",
       "1 23"
      ]
     },
     "metadata": {},
     "output_type": "display_data"
    }
   ],
   "source": [
    "count(hueChanged_bright[hueChanged_bright$comp==216, ])"
   ]
  },
  {
   "cell_type": "code",
   "execution_count": 30,
   "metadata": {},
   "outputs": [
    {
     "data": {
      "text/html": [
       "<table>\n",
       "<thead><tr><th></th><th scope=col>X</th><th scope=col>sex</th><th scope=col>age_class</th><th scope=col>comp</th><th scope=col>triangle1</th><th scope=col>triangle2</th><th scope=col>doubleness1</th><th scope=col>doubleness2</th><th scope=col>doubleness3</th></tr></thead>\n",
       "<tbody>\n",
       "\t<tr><th scope=row>3</th><td> 2      </td><td>Female  </td><td>20      </td><td>288     </td><td>216     </td><td>216     </td><td>original</td><td>144     </td><td>216     </td></tr>\n",
       "\t<tr><th scope=row>7</th><td> 6      </td><td>Female  </td><td>20      </td><td>288     </td><td>original</td><td>288     </td><td>original</td><td>original</td><td>216     </td></tr>\n",
       "\t<tr><th scope=row>15</th><td>14      </td><td>Female  </td><td>20      </td><td>288     </td><td>144     </td><td>216     </td><td>288     </td><td>144     </td><td>original</td></tr>\n",
       "\t<tr><th scope=row>16</th><td>15      </td><td>Female  </td><td>50      </td><td>288     </td><td>original</td><td>288     </td><td>original</td><td>288     </td><td>288     </td></tr>\n",
       "\t<tr><th scope=row>37</th><td>36      </td><td>Female  </td><td>20      </td><td>288     </td><td>216     </td><td>288     </td><td>288     </td><td>288     </td><td>288     </td></tr>\n",
       "\t<tr><th scope=row>38</th><td>37      </td><td>Male    </td><td>20      </td><td>288     </td><td>144     </td><td>216     </td><td>216     </td><td>216     </td><td>original</td></tr>\n",
       "</tbody>\n",
       "</table>\n"
      ],
      "text/latex": [
       "\\begin{tabular}{r|lllllllll}\n",
       "  & X & sex & age\\_class & comp & triangle1 & triangle2 & doubleness1 & doubleness2 & doubleness3\\\\\n",
       "\\hline\n",
       "\t3 &  2       & Female   & 20       & 288      & 216      & 216      & original & 144      & 216     \\\\\n",
       "\t7 &  6       & Female   & 20       & 288      & original & 288      & original & original & 216     \\\\\n",
       "\t15 & 14       & Female   & 20       & 288      & 144      & 216      & 288      & 144      & original\\\\\n",
       "\t16 & 15       & Female   & 50       & 288      & original & 288      & original & 288      & 288     \\\\\n",
       "\t37 & 36       & Female   & 20       & 288      & 216      & 288      & 288      & 288      & 288     \\\\\n",
       "\t38 & 37       & Male     & 20       & 288      & 144      & 216      & 216      & 216      & original\\\\\n",
       "\\end{tabular}\n"
      ],
      "text/markdown": [
       "\n",
       "| <!--/--> | X | sex | age_class | comp | triangle1 | triangle2 | doubleness1 | doubleness2 | doubleness3 |\n",
       "|---|---|---|---|---|---|---|---|---|---|\n",
       "| 3 |  2       | Female   | 20       | 288      | 216      | 216      | original | 144      | 216      |\n",
       "| 7 |  6       | Female   | 20       | 288      | original | 288      | original | original | 216      |\n",
       "| 15 | 14       | Female   | 20       | 288      | 144      | 216      | 288      | 144      | original |\n",
       "| 16 | 15       | Female   | 50       | 288      | original | 288      | original | 288      | 288      |\n",
       "| 37 | 36       | Female   | 20       | 288      | 216      | 288      | 288      | 288      | 288      |\n",
       "| 38 | 37       | Male     | 20       | 288      | 144      | 216      | 216      | 216      | original |\n",
       "\n"
      ],
      "text/plain": [
       "   X  sex    age_class comp triangle1 triangle2 doubleness1 doubleness2\n",
       "3   2 Female 20        288  216       216       original    144        \n",
       "7   6 Female 20        288  original  288       original    original   \n",
       "15 14 Female 20        288  144       216       288         144        \n",
       "16 15 Female 50        288  original  288       original    288        \n",
       "37 36 Female 20        288  216       288       288         288        \n",
       "38 37 Male   20        288  144       216       216         216        \n",
       "   doubleness3\n",
       "3  216        \n",
       "7  216        \n",
       "15 original   \n",
       "16 288        \n",
       "37 288        \n",
       "38 original   "
      ]
     },
     "metadata": {},
     "output_type": "display_data"
    }
   ],
   "source": [
    "head(hueChanged_bright[hueChanged_bright$comp==288, ])"
   ]
  },
  {
   "cell_type": "code",
   "execution_count": 31,
   "metadata": {},
   "outputs": [
    {
     "data": {
      "text/html": [
       "<table>\n",
       "<thead><tr><th scope=col>n</th></tr></thead>\n",
       "<tbody>\n",
       "\t<tr><td>18</td></tr>\n",
       "</tbody>\n",
       "</table>\n"
      ],
      "text/latex": [
       "\\begin{tabular}{r|l}\n",
       " n\\\\\n",
       "\\hline\n",
       "\t 18\\\\\n",
       "\\end{tabular}\n"
      ],
      "text/markdown": [
       "\n",
       "| n |\n",
       "|---|\n",
       "| 18 |\n",
       "\n"
      ],
      "text/plain": [
       "  n \n",
       "1 18"
      ]
     },
     "metadata": {},
     "output_type": "display_data"
    }
   ],
   "source": [
    "count(hueChanged_bright[hueChanged_bright$comp==288, ])"
   ]
  },
  {
   "cell_type": "code",
   "execution_count": 32,
   "metadata": {},
   "outputs": [
    {
     "data": {
      "text/html": [
       "<table>\n",
       "<thead><tr><th></th><th scope=col>X</th><th scope=col>sex</th><th scope=col>age_class</th><th scope=col>comp</th><th scope=col>triangle1</th><th scope=col>triangle2</th><th scope=col>doubleness1</th><th scope=col>doubleness2</th><th scope=col>doubleness3</th></tr></thead>\n",
       "<tbody>\n",
       "\t<tr><th scope=row>9</th><td> 8      </td><td>Female  </td><td>20      </td><td>72      </td><td>72      </td><td>144     </td><td>72      </td><td>original</td><td>72      </td></tr>\n",
       "\t<tr><th scope=row>14</th><td>13      </td><td>Female  </td><td>20      </td><td>72      </td><td>144     </td><td>216     </td><td>original</td><td>72      </td><td>72      </td></tr>\n",
       "\t<tr><th scope=row>21</th><td>20      </td><td>Female  </td><td>20      </td><td>72      </td><td>216     </td><td>144     </td><td>216     </td><td>72      </td><td>72      </td></tr>\n",
       "\t<tr><th scope=row>22</th><td>21      </td><td>Female  </td><td>20      </td><td>72      </td><td>72      </td><td>72      </td><td>72      </td><td>72      </td><td>72      </td></tr>\n",
       "\t<tr><th scope=row>39</th><td>38      </td><td>Male    </td><td>20      </td><td>72      </td><td>72      </td><td>288     </td><td>144     </td><td>144     </td><td>144     </td></tr>\n",
       "\t<tr><th scope=row>44</th><td>43      </td><td>Female  </td><td>20      </td><td>72      </td><td>72      </td><td>144     </td><td>72      </td><td>72      </td><td>72      </td></tr>\n",
       "</tbody>\n",
       "</table>\n"
      ],
      "text/latex": [
       "\\begin{tabular}{r|lllllllll}\n",
       "  & X & sex & age\\_class & comp & triangle1 & triangle2 & doubleness1 & doubleness2 & doubleness3\\\\\n",
       "\\hline\n",
       "\t9 &  8       & Female   & 20       & 72       & 72       & 144      & 72       & original & 72      \\\\\n",
       "\t14 & 13       & Female   & 20       & 72       & 144      & 216      & original & 72       & 72      \\\\\n",
       "\t21 & 20       & Female   & 20       & 72       & 216      & 144      & 216      & 72       & 72      \\\\\n",
       "\t22 & 21       & Female   & 20       & 72       & 72       & 72       & 72       & 72       & 72      \\\\\n",
       "\t39 & 38       & Male     & 20       & 72       & 72       & 288      & 144      & 144      & 144     \\\\\n",
       "\t44 & 43       & Female   & 20       & 72       & 72       & 144      & 72       & 72       & 72      \\\\\n",
       "\\end{tabular}\n"
      ],
      "text/markdown": [
       "\n",
       "| <!--/--> | X | sex | age_class | comp | triangle1 | triangle2 | doubleness1 | doubleness2 | doubleness3 |\n",
       "|---|---|---|---|---|---|---|---|---|---|\n",
       "| 9 |  8       | Female   | 20       | 72       | 72       | 144      | 72       | original | 72       |\n",
       "| 14 | 13       | Female   | 20       | 72       | 144      | 216      | original | 72       | 72       |\n",
       "| 21 | 20       | Female   | 20       | 72       | 216      | 144      | 216      | 72       | 72       |\n",
       "| 22 | 21       | Female   | 20       | 72       | 72       | 72       | 72       | 72       | 72       |\n",
       "| 39 | 38       | Male     | 20       | 72       | 72       | 288      | 144      | 144      | 144      |\n",
       "| 44 | 43       | Female   | 20       | 72       | 72       | 144      | 72       | 72       | 72       |\n",
       "\n"
      ],
      "text/plain": [
       "   X  sex    age_class comp triangle1 triangle2 doubleness1 doubleness2\n",
       "9   8 Female 20        72   72        144       72          original   \n",
       "14 13 Female 20        72   144       216       original    72         \n",
       "21 20 Female 20        72   216       144       216         72         \n",
       "22 21 Female 20        72   72        72        72          72         \n",
       "39 38 Male   20        72   72        288       144         144        \n",
       "44 43 Female 20        72   72        144       72          72         \n",
       "   doubleness3\n",
       "9  72         \n",
       "14 72         \n",
       "21 72         \n",
       "22 72         \n",
       "39 144        \n",
       "44 72         "
      ]
     },
     "metadata": {},
     "output_type": "display_data"
    }
   ],
   "source": [
    "head(hueChanged_bright[hueChanged_bright$comp==72, ])"
   ]
  },
  {
   "cell_type": "code",
   "execution_count": 33,
   "metadata": {},
   "outputs": [
    {
     "data": {
      "text/html": [
       "<table>\n",
       "<thead><tr><th scope=col>n</th></tr></thead>\n",
       "<tbody>\n",
       "\t<tr><td>19</td></tr>\n",
       "</tbody>\n",
       "</table>\n"
      ],
      "text/latex": [
       "\\begin{tabular}{r|l}\n",
       " n\\\\\n",
       "\\hline\n",
       "\t 19\\\\\n",
       "\\end{tabular}\n"
      ],
      "text/markdown": [
       "\n",
       "| n |\n",
       "|---|\n",
       "| 19 |\n",
       "\n"
      ],
      "text/plain": [
       "  n \n",
       "1 19"
      ]
     },
     "metadata": {},
     "output_type": "display_data"
    }
   ],
   "source": [
    "count(hueChanged_bright[hueChanged_bright$comp==72, ])"
   ]
  },
  {
   "cell_type": "code",
   "execution_count": 36,
   "metadata": {},
   "outputs": [
    {
     "ename": "ERROR",
     "evalue": "Error in `[.data.frame`(hueChanged_bright, hueChanged_bright$comp == original, : 객체 'original'를 찾을 수 없습니다\n",
     "output_type": "error",
     "traceback": [
      "Error in `[.data.frame`(hueChanged_bright, hueChanged_bright$comp == original, : 객체 'original'를 찾을 수 없습니다\nTraceback:\n",
      "1. head(hueChanged_bright[hueChanged_bright$comp == original, ])",
      "2. hueChanged_bright[hueChanged_bright$comp == original, ]",
      "3. `[.data.frame`(hueChanged_bright, hueChanged_bright$comp == original, \n .     )"
     ]
    }
   ],
   "source": [
    "head(hueChanged_bright[hueChanged_bright$comp==original, ])"
   ]
  },
  {
   "cell_type": "code",
   "execution_count": 35,
   "metadata": {},
   "outputs": [
    {
     "ename": "ERROR",
     "evalue": "Error in `[.data.frame`(hueChanged_bright, hueChanged_bright$comp == original, : 객체 'original'를 찾을 수 없습니다\n",
     "output_type": "error",
     "traceback": [
      "Error in `[.data.frame`(hueChanged_bright, hueChanged_bright$comp == original, : 객체 'original'를 찾을 수 없습니다\nTraceback:\n",
      "1. count(hueChanged_bright[hueChanged_bright$comp == original, ])",
      "2. group_vars(x)",
      "3. hueChanged_bright[hueChanged_bright$comp == original, ]",
      "4. `[.data.frame`(hueChanged_bright, hueChanged_bright$comp == original, \n .     )"
     ]
    }
   ],
   "source": [
    "count(hueChanged_bright[hueChanged_bright$comp==original, ])"
   ]
  },
  {
   "cell_type": "code",
   "execution_count": null,
   "metadata": {},
   "outputs": [],
   "source": []
  },
  {
   "cell_type": "code",
   "execution_count": 47,
   "metadata": {},
   "outputs": [
    {
     "ename": "ERROR",
     "evalue": "Error in pd.read_excel(\"data/퍼스널컬러 정량화 모델 가설검정을 위한 설문 (1).xlsx\", : 함수 \"pd.read_excel\"를 찾을 수 없습니다\n",
     "output_type": "error",
     "traceback": [
      "Error in pd.read_excel(\"data/퍼스널컬러 정량화 모델 가설검정을 위한 설문 (1).xlsx\", : 함수 \"pd.read_excel\"를 찾을 수 없습니다\nTraceback:\n"
     ]
    }
   ],
   "source": [
    "hueFixed_bright1 = pd.read_excel(\"data/퍼스널컬러 정량화 모델 가설검정을 위한 설문 (1).xlsx\",\n",
    "                          sheet_name = 'Sheet1', header=0,na_values = 'NaN',\n",
    "                          usecols=\"M, N, O, P, Q, R\")"
   ]
  },
  {
   "cell_type": "code",
   "execution_count": null,
   "metadata": {},
   "outputs": [],
   "source": []
  },
  {
   "cell_type": "code",
   "execution_count": null,
   "metadata": {},
   "outputs": [],
   "source": []
  },
  {
   "cell_type": "code",
   "execution_count": null,
   "metadata": {},
   "outputs": [],
   "source": []
  },
  {
   "cell_type": "code",
   "execution_count": 8,
   "metadata": {},
   "outputs": [
    {
     "name": "stderr",
     "output_type": "stream",
     "text": [
      "Installing package into 'C:/Users/USER/AppData/Roaming/SPB_Data/R/win-library/3.6'\n",
      "(as 'lib' is unspecified)\n"
     ]
    },
    {
     "name": "stdout",
     "output_type": "stream",
     "text": [
      "package 'plyr' successfully unpacked and MD5 sums checked\n",
      "\n",
      "The downloaded binary packages are in\n",
      "\tC:\\Users\\USER\\AppData\\Local\\Temp\\RtmpiWctzc\\downloaded_packages\n"
     ]
    },
    {
     "name": "stderr",
     "output_type": "stream",
     "text": [
      "Warning message:\n",
      "\"package 'plyr' was built under R version 3.6.3\""
     ]
    }
   ],
   "source": [
    "install.packages('plyr')\n",
    "\n",
    "library(plyr)"
   ]
  },
  {
   "cell_type": "code",
   "execution_count": 16,
   "metadata": {},
   "outputs": [
    {
     "name": "stderr",
     "output_type": "stream",
     "text": [
      "Installing package into 'C:/Users/USER/AppData/Roaming/SPB_Data/R/win-library/3.6'\n",
      "(as 'lib' is unspecified)\n"
     ]
    },
    {
     "name": "stdout",
     "output_type": "stream",
     "text": [
      "package 'dplyr' successfully unpacked and MD5 sums checked\n",
      "\n",
      "The downloaded binary packages are in\n",
      "\tC:\\Users\\USER\\AppData\\Local\\Temp\\RtmpiWctzc\\downloaded_packages\n"
     ]
    },
    {
     "name": "stderr",
     "output_type": "stream",
     "text": [
      "Warning message:\n",
      "\"package 'dplyr' was built under R version 3.6.3\"\n",
      "Attaching package: 'dplyr'\n",
      "\n",
      "The following objects are masked from 'package:plyr':\n",
      "\n",
      "    arrange, count, desc, failwith, id, mutate, rename, summarise,\n",
      "    summarize\n",
      "\n",
      "The following objects are masked from 'package:stats':\n",
      "\n",
      "    filter, lag\n",
      "\n",
      "The following objects are masked from 'package:base':\n",
      "\n",
      "    intersect, setdiff, setequal, union\n",
      "\n"
     ]
    }
   ],
   "source": [
    "install.packages(\"dplyr\")\n",
    "library(dplyr)"
   ]
  },
  {
   "cell_type": "code",
   "execution_count": 19,
   "metadata": {
    "scrolled": true
   },
   "outputs": [
    {
     "data": {
      "text/html": [
       "<table>\n",
       "<thead><tr><th scope=col>id</th><th scope=col>class</th><th scope=col>math</th><th scope=col>english</th><th scope=col>science</th></tr></thead>\n",
       "<tbody>\n",
       "\t<tr><td> 1</td><td>1 </td><td>50</td><td>98</td><td>50</td></tr>\n",
       "\t<tr><td> 2</td><td>1 </td><td>60</td><td>97</td><td>60</td></tr>\n",
       "\t<tr><td> 3</td><td>1 </td><td>45</td><td>86</td><td>78</td></tr>\n",
       "\t<tr><td> 4</td><td>1 </td><td>30</td><td>98</td><td>58</td></tr>\n",
       "\t<tr><td> 5</td><td>2 </td><td>25</td><td>80</td><td>65</td></tr>\n",
       "\t<tr><td> 6</td><td>2 </td><td>50</td><td>89</td><td>98</td></tr>\n",
       "\t<tr><td> 7</td><td>2 </td><td>80</td><td>90</td><td>45</td></tr>\n",
       "\t<tr><td> 8</td><td>2 </td><td>90</td><td>78</td><td>25</td></tr>\n",
       "\t<tr><td> 9</td><td>3 </td><td>20</td><td>98</td><td>15</td></tr>\n",
       "\t<tr><td>10</td><td>3 </td><td>50</td><td>98</td><td>45</td></tr>\n",
       "\t<tr><td>11</td><td>3 </td><td>65</td><td>65</td><td>65</td></tr>\n",
       "\t<tr><td>12</td><td>3 </td><td>45</td><td>85</td><td>32</td></tr>\n",
       "\t<tr><td>13</td><td>4 </td><td>46</td><td>98</td><td>65</td></tr>\n",
       "\t<tr><td>14</td><td>4 </td><td>48</td><td>87</td><td>12</td></tr>\n",
       "\t<tr><td>15</td><td>4 </td><td>75</td><td>56</td><td>78</td></tr>\n",
       "\t<tr><td>16</td><td>4 </td><td>58</td><td>98</td><td>65</td></tr>\n",
       "\t<tr><td>17</td><td>5 </td><td>65</td><td>68</td><td>98</td></tr>\n",
       "\t<tr><td>18</td><td>5 </td><td>80</td><td>78</td><td>90</td></tr>\n",
       "\t<tr><td>19</td><td>5 </td><td>89</td><td>68</td><td>87</td></tr>\n",
       "\t<tr><td>20</td><td>5 </td><td>78</td><td>83</td><td>58</td></tr>\n",
       "</tbody>\n",
       "</table>\n"
      ],
      "text/latex": [
       "\\begin{tabular}{r|lllll}\n",
       " id & class & math & english & science\\\\\n",
       "\\hline\n",
       "\t  1 & 1  & 50 & 98 & 50\\\\\n",
       "\t  2 & 1  & 60 & 97 & 60\\\\\n",
       "\t  3 & 1  & 45 & 86 & 78\\\\\n",
       "\t  4 & 1  & 30 & 98 & 58\\\\\n",
       "\t  5 & 2  & 25 & 80 & 65\\\\\n",
       "\t  6 & 2  & 50 & 89 & 98\\\\\n",
       "\t  7 & 2  & 80 & 90 & 45\\\\\n",
       "\t  8 & 2  & 90 & 78 & 25\\\\\n",
       "\t  9 & 3  & 20 & 98 & 15\\\\\n",
       "\t 10 & 3  & 50 & 98 & 45\\\\\n",
       "\t 11 & 3  & 65 & 65 & 65\\\\\n",
       "\t 12 & 3  & 45 & 85 & 32\\\\\n",
       "\t 13 & 4  & 46 & 98 & 65\\\\\n",
       "\t 14 & 4  & 48 & 87 & 12\\\\\n",
       "\t 15 & 4  & 75 & 56 & 78\\\\\n",
       "\t 16 & 4  & 58 & 98 & 65\\\\\n",
       "\t 17 & 5  & 65 & 68 & 98\\\\\n",
       "\t 18 & 5  & 80 & 78 & 90\\\\\n",
       "\t 19 & 5  & 89 & 68 & 87\\\\\n",
       "\t 20 & 5  & 78 & 83 & 58\\\\\n",
       "\\end{tabular}\n"
      ],
      "text/markdown": [
       "\n",
       "| id | class | math | english | science |\n",
       "|---|---|---|---|---|\n",
       "|  1 | 1  | 50 | 98 | 50 |\n",
       "|  2 | 1  | 60 | 97 | 60 |\n",
       "|  3 | 1  | 45 | 86 | 78 |\n",
       "|  4 | 1  | 30 | 98 | 58 |\n",
       "|  5 | 2  | 25 | 80 | 65 |\n",
       "|  6 | 2  | 50 | 89 | 98 |\n",
       "|  7 | 2  | 80 | 90 | 45 |\n",
       "|  8 | 2  | 90 | 78 | 25 |\n",
       "|  9 | 3  | 20 | 98 | 15 |\n",
       "| 10 | 3  | 50 | 98 | 45 |\n",
       "| 11 | 3  | 65 | 65 | 65 |\n",
       "| 12 | 3  | 45 | 85 | 32 |\n",
       "| 13 | 4  | 46 | 98 | 65 |\n",
       "| 14 | 4  | 48 | 87 | 12 |\n",
       "| 15 | 4  | 75 | 56 | 78 |\n",
       "| 16 | 4  | 58 | 98 | 65 |\n",
       "| 17 | 5  | 65 | 68 | 98 |\n",
       "| 18 | 5  | 80 | 78 | 90 |\n",
       "| 19 | 5  | 89 | 68 | 87 |\n",
       "| 20 | 5  | 78 | 83 | 58 |\n",
       "\n"
      ],
      "text/plain": [
       "   id class math english science\n",
       "1   1 1     50   98      50     \n",
       "2   2 1     60   97      60     \n",
       "3   3 1     45   86      78     \n",
       "4   4 1     30   98      58     \n",
       "5   5 2     25   80      65     \n",
       "6   6 2     50   89      98     \n",
       "7   7 2     80   90      45     \n",
       "8   8 2     90   78      25     \n",
       "9   9 3     20   98      15     \n",
       "10 10 3     50   98      45     \n",
       "11 11 3     65   65      65     \n",
       "12 12 3     45   85      32     \n",
       "13 13 4     46   98      65     \n",
       "14 14 4     48   87      12     \n",
       "15 15 4     75   56      78     \n",
       "16 16 4     58   98      65     \n",
       "17 17 5     65   68      98     \n",
       "18 18 5     80   78      90     \n",
       "19 19 5     89   68      87     \n",
       "20 20 5     78   83      58     "
      ]
     },
     "metadata": {},
     "output_type": "display_data"
    }
   ],
   "source": [
    "exam <- read.csv('C:\\\\Users\\\\USER\\\\Desktop\\\\r\\\\BasicProject\\\\data/csv_exam.csv')\n",
    "exam"
   ]
  },
  {
   "cell_type": "code",
   "execution_count": 11,
   "metadata": {},
   "outputs": [
    {
     "data": {
      "text/html": [
       "<table>\n",
       "<thead><tr><th scope=col>Species</th><th scope=col>avg</th></tr></thead>\n",
       "<tbody>\n",
       "\t<tr><td>setosa    </td><td>5.006     </td></tr>\n",
       "\t<tr><td>versicolor</td><td>5.936     </td></tr>\n",
       "\t<tr><td>virginica </td><td>6.588     </td></tr>\n",
       "</tbody>\n",
       "</table>\n"
      ],
      "text/latex": [
       "\\begin{tabular}{r|ll}\n",
       " Species & avg\\\\\n",
       "\\hline\n",
       "\t setosa     & 5.006     \\\\\n",
       "\t versicolor & 5.936     \\\\\n",
       "\t virginica  & 6.588     \\\\\n",
       "\\end{tabular}\n"
      ],
      "text/markdown": [
       "\n",
       "| Species | avg |\n",
       "|---|---|\n",
       "| setosa     | 5.006      |\n",
       "| versicolor | 5.936      |\n",
       "| virginica  | 6.588      |\n",
       "\n"
      ],
      "text/plain": [
       "  Species    avg  \n",
       "1 setosa     5.006\n",
       "2 versicolor 5.936\n",
       "3 virginica  6.588"
      ]
     },
     "metadata": {},
     "output_type": "display_data"
    }
   ],
   "source": [
    "ddply(iris, .(Species), summarize, avg=mean(Sepal.Length))"
   ]
  },
  {
   "cell_type": "code",
   "execution_count": 20,
   "metadata": {},
   "outputs": [
    {
     "data": {
      "text/html": [
       "<table>\n",
       "<thead><tr><th scope=col>id</th><th scope=col>class</th><th scope=col>math</th><th scope=col>english</th><th scope=col>science</th></tr></thead>\n",
       "<tbody>\n",
       "\t<tr><td>1 </td><td>1 </td><td>50</td><td>98</td><td>50</td></tr>\n",
       "\t<tr><td>2 </td><td>1 </td><td>60</td><td>97</td><td>60</td></tr>\n",
       "\t<tr><td>3 </td><td>1 </td><td>45</td><td>86</td><td>78</td></tr>\n",
       "\t<tr><td>4 </td><td>1 </td><td>30</td><td>98</td><td>58</td></tr>\n",
       "</tbody>\n",
       "</table>\n"
      ],
      "text/latex": [
       "\\begin{tabular}{r|lllll}\n",
       " id & class & math & english & science\\\\\n",
       "\\hline\n",
       "\t 1  & 1  & 50 & 98 & 50\\\\\n",
       "\t 2  & 1  & 60 & 97 & 60\\\\\n",
       "\t 3  & 1  & 45 & 86 & 78\\\\\n",
       "\t 4  & 1  & 30 & 98 & 58\\\\\n",
       "\\end{tabular}\n"
      ],
      "text/markdown": [
       "\n",
       "| id | class | math | english | science |\n",
       "|---|---|---|---|---|\n",
       "| 1  | 1  | 50 | 98 | 50 |\n",
       "| 2  | 1  | 60 | 97 | 60 |\n",
       "| 3  | 1  | 45 | 86 | 78 |\n",
       "| 4  | 1  | 30 | 98 | 58 |\n",
       "\n"
      ],
      "text/plain": [
       "  id class math english science\n",
       "1 1  1     50   98      50     \n",
       "2 2  1     60   97      60     \n",
       "3 3  1     45   86      78     \n",
       "4 4  1     30   98      58     "
      ]
     },
     "metadata": {},
     "output_type": "display_data"
    }
   ],
   "source": [
    "exam[exam$class==1,]"
   ]
  },
  {
   "cell_type": "code",
   "execution_count": 22,
   "metadata": {},
   "outputs": [
    {
     "data": {
      "text/html": [
       "<table>\n",
       "<thead><tr><th scope=col>id</th><th scope=col>class</th><th scope=col>math</th><th scope=col>english</th><th scope=col>science</th></tr></thead>\n",
       "<tbody>\n",
       "\t<tr><td>1 </td><td>1 </td><td>50</td><td>98</td><td>50</td></tr>\n",
       "\t<tr><td>2 </td><td>1 </td><td>60</td><td>97</td><td>60</td></tr>\n",
       "\t<tr><td>3 </td><td>1 </td><td>45</td><td>86</td><td>78</td></tr>\n",
       "\t<tr><td>4 </td><td>1 </td><td>30</td><td>98</td><td>58</td></tr>\n",
       "</tbody>\n",
       "</table>\n"
      ],
      "text/latex": [
       "\\begin{tabular}{r|lllll}\n",
       " id & class & math & english & science\\\\\n",
       "\\hline\n",
       "\t 1  & 1  & 50 & 98 & 50\\\\\n",
       "\t 2  & 1  & 60 & 97 & 60\\\\\n",
       "\t 3  & 1  & 45 & 86 & 78\\\\\n",
       "\t 4  & 1  & 30 & 98 & 58\\\\\n",
       "\\end{tabular}\n"
      ],
      "text/markdown": [
       "\n",
       "| id | class | math | english | science |\n",
       "|---|---|---|---|---|\n",
       "| 1  | 1  | 50 | 98 | 50 |\n",
       "| 2  | 1  | 60 | 97 | 60 |\n",
       "| 3  | 1  | 45 | 86 | 78 |\n",
       "| 4  | 1  | 30 | 98 | 58 |\n",
       "\n"
      ],
      "text/plain": [
       "  id class math english science\n",
       "1 1  1     50   98      50     \n",
       "2 2  1     60   97      60     \n",
       "3 3  1     45   86      78     \n",
       "4 4  1     30   98      58     "
      ]
     },
     "metadata": {},
     "output_type": "display_data"
    }
   ],
   "source": [
    "exam %>% filter(class==1)"
   ]
  },
  {
   "cell_type": "code",
   "execution_count": 23,
   "metadata": {},
   "outputs": [
    {
     "data": {
      "text/html": [
       "<table>\n",
       "<thead><tr><th scope=col>id</th><th scope=col>class</th><th scope=col>math</th><th scope=col>english</th><th scope=col>science</th></tr></thead>\n",
       "<tbody>\n",
       "\t<tr><td> 1</td><td>1 </td><td>50</td><td>98</td><td>50</td></tr>\n",
       "\t<tr><td> 2</td><td>1 </td><td>60</td><td>97</td><td>60</td></tr>\n",
       "\t<tr><td> 3</td><td>1 </td><td>45</td><td>86</td><td>78</td></tr>\n",
       "\t<tr><td> 4</td><td>1 </td><td>30</td><td>98</td><td>58</td></tr>\n",
       "\t<tr><td> 9</td><td>3 </td><td>20</td><td>98</td><td>15</td></tr>\n",
       "\t<tr><td>10</td><td>3 </td><td>50</td><td>98</td><td>45</td></tr>\n",
       "\t<tr><td>11</td><td>3 </td><td>65</td><td>65</td><td>65</td></tr>\n",
       "\t<tr><td>12</td><td>3 </td><td>45</td><td>85</td><td>32</td></tr>\n",
       "\t<tr><td>17</td><td>5 </td><td>65</td><td>68</td><td>98</td></tr>\n",
       "\t<tr><td>18</td><td>5 </td><td>80</td><td>78</td><td>90</td></tr>\n",
       "\t<tr><td>19</td><td>5 </td><td>89</td><td>68</td><td>87</td></tr>\n",
       "\t<tr><td>20</td><td>5 </td><td>78</td><td>83</td><td>58</td></tr>\n",
       "</tbody>\n",
       "</table>\n"
      ],
      "text/latex": [
       "\\begin{tabular}{r|lllll}\n",
       " id & class & math & english & science\\\\\n",
       "\\hline\n",
       "\t  1 & 1  & 50 & 98 & 50\\\\\n",
       "\t  2 & 1  & 60 & 97 & 60\\\\\n",
       "\t  3 & 1  & 45 & 86 & 78\\\\\n",
       "\t  4 & 1  & 30 & 98 & 58\\\\\n",
       "\t  9 & 3  & 20 & 98 & 15\\\\\n",
       "\t 10 & 3  & 50 & 98 & 45\\\\\n",
       "\t 11 & 3  & 65 & 65 & 65\\\\\n",
       "\t 12 & 3  & 45 & 85 & 32\\\\\n",
       "\t 17 & 5  & 65 & 68 & 98\\\\\n",
       "\t 18 & 5  & 80 & 78 & 90\\\\\n",
       "\t 19 & 5  & 89 & 68 & 87\\\\\n",
       "\t 20 & 5  & 78 & 83 & 58\\\\\n",
       "\\end{tabular}\n"
      ],
      "text/markdown": [
       "\n",
       "| id | class | math | english | science |\n",
       "|---|---|---|---|---|\n",
       "|  1 | 1  | 50 | 98 | 50 |\n",
       "|  2 | 1  | 60 | 97 | 60 |\n",
       "|  3 | 1  | 45 | 86 | 78 |\n",
       "|  4 | 1  | 30 | 98 | 58 |\n",
       "|  9 | 3  | 20 | 98 | 15 |\n",
       "| 10 | 3  | 50 | 98 | 45 |\n",
       "| 11 | 3  | 65 | 65 | 65 |\n",
       "| 12 | 3  | 45 | 85 | 32 |\n",
       "| 17 | 5  | 65 | 68 | 98 |\n",
       "| 18 | 5  | 80 | 78 | 90 |\n",
       "| 19 | 5  | 89 | 68 | 87 |\n",
       "| 20 | 5  | 78 | 83 | 58 |\n",
       "\n"
      ],
      "text/plain": [
       "   id class math english science\n",
       "1   1 1     50   98      50     \n",
       "2   2 1     60   97      60     \n",
       "3   3 1     45   86      78     \n",
       "4   4 1     30   98      58     \n",
       "5   9 3     20   98      15     \n",
       "6  10 3     50   98      45     \n",
       "7  11 3     65   65      65     \n",
       "8  12 3     45   85      32     \n",
       "9  17 5     65   68      98     \n",
       "10 18 5     80   78      90     \n",
       "11 19 5     89   68      87     \n",
       "12 20 5     78   83      58     "
      ]
     },
     "metadata": {},
     "output_type": "display_data"
    }
   ],
   "source": [
    "exam %>% filter(class %in% c(1, 3, 5))"
   ]
  },
  {
   "cell_type": "code",
   "execution_count": null,
   "metadata": {},
   "outputs": [],
   "source": []
  }
 ],
 "metadata": {
  "kernelspec": {
   "display_name": "R",
   "language": "R",
   "name": "ir"
  },
  "language_info": {
   "codemirror_mode": "r",
   "file_extension": ".r",
   "mimetype": "text/x-r-source",
   "name": "R",
   "pygments_lexer": "r",
   "version": "3.6.1"
  }
 },
 "nbformat": 4,
 "nbformat_minor": 4
}
