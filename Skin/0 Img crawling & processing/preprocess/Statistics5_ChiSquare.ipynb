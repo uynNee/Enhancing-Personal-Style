{
 "cells": [
  {
   "cell_type": "markdown",
   "metadata": {},
   "source": [
    " ## Statistics_ChiSquare\n",
    " \n",
    "    최초 작성일 : 2020/03/06\n",
    "    작성자 : 조예슬 \n",
    " \n",
    "    < 작성 내용 >\n",
    "    \n",
    "        - Chi-Square test\n",
    "        \n",
    "        - Fisher's exact test\n",
    "        \n",
    "        - Cochran-armitage trend test"
   ]
  },
  {
   "cell_type": "code",
   "execution_count": null,
   "metadata": {},
   "outputs": [],
   "source": []
  },
  {
   "cell_type": "markdown",
   "metadata": {},
   "source": [
    "## Chi-Square test\n",
    "\n",
    "    다양한 그룹간의 비교\n",
    "    2*2 형태일때 셀의 최소 기대도수는 5\n",
    "    \n",
    "    왜 20%? 기대도수는 프로그램마다 달라서 찾아봐야함..구글링합시다..ㅎ \n",
    "    https://sites.google.com/a/lakeheadu.ca/bweaver/Home/statistics/notes/chisqr_assumptions\n",
    "    \n",
    "    기대에 못미치는 셀이 몇%이상인가에 따라 부정확할수있다\n",
    "    셀마다 개수가 중요함, 셀마다 최소 개수가 몇인지 알아야함\n",
    "    \n",
    "    이걸 만족시킬수 없다면 사용하는게 fisher's exact test \n",
    "        \n",
    "    \n",
    "## Fisher's exact test\n",
    "\n",
    "    기대도수가 5보다 작은 셀이 전체 20% 이상일때 사용\n",
    "    카이제곱이 갖는 기대도수에 못미치는 상태를 보완한게 Fisher's exact test\n",
    "    \n",
    "    \n",
    "    ex)\n",
    "    \n",
    "    1       숙취(+)  숙취(-)\n",
    "    --------------------------\n",
    "    술(+)     30       70\n",
    "    술(-)      5       95\n",
    "    \n",
    "    => 모든 값이 5 이상이므로 chi-square test 가능\n",
    "    \n",
    "    \n",
    "    2       숙취(+)  숙취(-)\n",
    "    --------------------------\n",
    "    술(+)     30       70\n",
    "    술(-)      4       96\n",
    "    \n",
    "    => 5보다 작은 값 존재하므로 chi-square 사용 불가\n",
    "       fisher's exact 사용해야한다. 4가 있는 cell은 전체의 25% 차지\n",
    "       \n",
    "    \n",
    "    3       숙취(+)  숙취(-)  숙취(+-)\n",
    "    ------------------------------------\n",
    "    술(+)     30       70       100\n",
    "    술(-)      4       96      1000\n",
    "    \n",
    "    => 한 cell 안에 4가 있어도 chi-square 사용 가능\n",
    "       100/6 = 17% \n",
    "       기대도수가 5보다 작은 셀이 전체 17%를 차지하기 때문\n",
    "       \n",
    "       \n",
    "    4       숙취(+)  숙취(-)  숙취(+-)\n",
    "    ------------------------------------\n",
    "    술(+)      3       70       100\n",
    "    술(-)      4       96      1000\n",
    "    \n",
    "    => 기대도수가 5보다 작은 셀이 2개 존재\n",
    "       100/6 = 17%, 17% * 2 = 34%\n",
    "       총 34% 차지하므로 chi-square 사용 못하고, fisher's exact 사용해야 함\n",
    "       \n",
    "       \n",
    "## Cochran-Amitage trend test\n",
    "\n",
    "    트렌드에 따른 비율 변화 차이\n",
    "    \n",
    "    ex)\n",
    "    \n",
    "          숙취(+)  숙취(-)\n",
    "    ------------------------\n",
    "    블랙    -        -\n",
    "    골드    -        -\n",
    "    블루    -        -\n",
    "    \n",
    "    => 의미를 가지고 있는 애들을 레이블에 두기!\n",
    "       블랙 - 골드 - 블루 순(술의 종류)으로 가격이 비싸지고, 맛이 순해지는 트렌드가 있음\n",
    "       이 순서에 따라 숙취 비율이 어떻게 변화하는지 알아볼때 Cochran-amitage trend test 사용"
   ]
  },
  {
   "cell_type": "code",
   "execution_count": null,
   "metadata": {},
   "outputs": [],
   "source": []
  },
  {
   "cell_type": "markdown",
   "metadata": {},
   "source": [
    "### 예시1. 자동차의 실린더 수와 변속기의 관계"
   ]
  },
  {
   "cell_type": "code",
   "execution_count": 3,
   "metadata": {},
   "outputs": [
    {
     "name": "stdout",
     "output_type": "stream",
     "text": [
      "'data.frame':\t32 obs. of  11 variables:\n",
      " $ mpg : num  21 21 22.8 21.4 18.7 18.1 14.3 24.4 22.8 19.2 ...\n",
      " $ cyl : num  6 6 4 6 8 6 8 4 4 6 ...\n",
      " $ disp: num  160 160 108 258 360 ...\n",
      " $ hp  : num  110 110 93 110 175 105 245 62 95 123 ...\n",
      " $ drat: num  3.9 3.9 3.85 3.08 3.15 2.76 3.21 3.69 3.92 3.92 ...\n",
      " $ wt  : num  2.62 2.88 2.32 3.21 3.44 ...\n",
      " $ qsec: num  16.5 17 18.6 19.4 17 ...\n",
      " $ vs  : num  0 0 1 1 0 1 0 1 1 1 ...\n",
      " $ am  : num  1 1 1 0 0 0 0 0 0 0 ...\n",
      " $ gear: num  4 4 4 3 3 3 3 4 4 4 ...\n",
      " $ carb: num  4 4 1 1 2 1 4 2 2 4 ...\n"
     ]
    },
    {
     "data": {
      "text/html": [
       "<table>\n",
       "<thead><tr><th></th><th scope=col>mpg</th><th scope=col>cyl</th><th scope=col>disp</th><th scope=col>hp</th><th scope=col>drat</th><th scope=col>wt</th><th scope=col>qsec</th><th scope=col>vs</th><th scope=col>am</th><th scope=col>gear</th><th scope=col>carb</th></tr></thead>\n",
       "<tbody>\n",
       "\t<tr><th scope=row>Mazda RX4</th><td>21.0 </td><td>6    </td><td>160  </td><td>110  </td><td>3.90 </td><td>2.620</td><td>16.46</td><td>0    </td><td>1    </td><td>4    </td><td>4    </td></tr>\n",
       "\t<tr><th scope=row>Mazda RX4 Wag</th><td>21.0 </td><td>6    </td><td>160  </td><td>110  </td><td>3.90 </td><td>2.875</td><td>17.02</td><td>0    </td><td>1    </td><td>4    </td><td>4    </td></tr>\n",
       "\t<tr><th scope=row>Datsun 710</th><td>22.8 </td><td>4    </td><td>108  </td><td> 93  </td><td>3.85 </td><td>2.320</td><td>18.61</td><td>1    </td><td>1    </td><td>4    </td><td>1    </td></tr>\n",
       "\t<tr><th scope=row>Hornet 4 Drive</th><td>21.4 </td><td>6    </td><td>258  </td><td>110  </td><td>3.08 </td><td>3.215</td><td>19.44</td><td>1    </td><td>0    </td><td>3    </td><td>1    </td></tr>\n",
       "\t<tr><th scope=row>Hornet Sportabout</th><td>18.7 </td><td>8    </td><td>360  </td><td>175  </td><td>3.15 </td><td>3.440</td><td>17.02</td><td>0    </td><td>0    </td><td>3    </td><td>2    </td></tr>\n",
       "\t<tr><th scope=row>Valiant</th><td>18.1 </td><td>6    </td><td>225  </td><td>105  </td><td>2.76 </td><td>3.460</td><td>20.22</td><td>1    </td><td>0    </td><td>3    </td><td>1    </td></tr>\n",
       "</tbody>\n",
       "</table>\n"
      ],
      "text/latex": [
       "\\begin{tabular}{r|lllllllllll}\n",
       "  & mpg & cyl & disp & hp & drat & wt & qsec & vs & am & gear & carb\\\\\n",
       "\\hline\n",
       "\tMazda RX4 & 21.0  & 6     & 160   & 110   & 3.90  & 2.620 & 16.46 & 0     & 1     & 4     & 4    \\\\\n",
       "\tMazda RX4 Wag & 21.0  & 6     & 160   & 110   & 3.90  & 2.875 & 17.02 & 0     & 1     & 4     & 4    \\\\\n",
       "\tDatsun 710 & 22.8  & 4     & 108   &  93   & 3.85  & 2.320 & 18.61 & 1     & 1     & 4     & 1    \\\\\n",
       "\tHornet 4 Drive & 21.4  & 6     & 258   & 110   & 3.08  & 3.215 & 19.44 & 1     & 0     & 3     & 1    \\\\\n",
       "\tHornet Sportabout & 18.7  & 8     & 360   & 175   & 3.15  & 3.440 & 17.02 & 0     & 0     & 3     & 2    \\\\\n",
       "\tValiant & 18.1  & 6     & 225   & 105   & 2.76  & 3.460 & 20.22 & 1     & 0     & 3     & 1    \\\\\n",
       "\\end{tabular}\n"
      ],
      "text/markdown": [
       "\n",
       "| <!--/--> | mpg | cyl | disp | hp | drat | wt | qsec | vs | am | gear | carb |\n",
       "|---|---|---|---|---|---|---|---|---|---|---|---|\n",
       "| Mazda RX4 | 21.0  | 6     | 160   | 110   | 3.90  | 2.620 | 16.46 | 0     | 1     | 4     | 4     |\n",
       "| Mazda RX4 Wag | 21.0  | 6     | 160   | 110   | 3.90  | 2.875 | 17.02 | 0     | 1     | 4     | 4     |\n",
       "| Datsun 710 | 22.8  | 4     | 108   |  93   | 3.85  | 2.320 | 18.61 | 1     | 1     | 4     | 1     |\n",
       "| Hornet 4 Drive | 21.4  | 6     | 258   | 110   | 3.08  | 3.215 | 19.44 | 1     | 0     | 3     | 1     |\n",
       "| Hornet Sportabout | 18.7  | 8     | 360   | 175   | 3.15  | 3.440 | 17.02 | 0     | 0     | 3     | 2     |\n",
       "| Valiant | 18.1  | 6     | 225   | 105   | 2.76  | 3.460 | 20.22 | 1     | 0     | 3     | 1     |\n",
       "\n"
      ],
      "text/plain": [
       "                  mpg  cyl disp hp  drat wt    qsec  vs am gear carb\n",
       "Mazda RX4         21.0 6   160  110 3.90 2.620 16.46 0  1  4    4   \n",
       "Mazda RX4 Wag     21.0 6   160  110 3.90 2.875 17.02 0  1  4    4   \n",
       "Datsun 710        22.8 4   108   93 3.85 2.320 18.61 1  1  4    1   \n",
       "Hornet 4 Drive    21.4 6   258  110 3.08 3.215 19.44 1  0  3    1   \n",
       "Hornet Sportabout 18.7 8   360  175 3.15 3.440 17.02 0  0  3    2   \n",
       "Valiant           18.1 6   225  105 2.76 3.460 20.22 1  0  3    1   "
      ]
     },
     "metadata": {},
     "output_type": "display_data"
    },
    {
     "data": {
      "text/plain": [
       "   \n",
       "     0  1\n",
       "  4  3  8\n",
       "  6  4  3\n",
       "  8 12  2"
      ]
     },
     "metadata": {},
     "output_type": "display_data"
    }
   ],
   "source": [
    "# 데이터 준비\n",
    "\n",
    "str(mtcars)\n",
    "head(mtcars)\n",
    "\n",
    "table(mtcars$cyl, mtcars$am)\n",
    "# 실린더 cyl, 변속기 am(자동0, 수동1)\n",
    "# 둘다 명목변수 -> 카이제곱 사용 (3*2 형태)\n",
    "# 명목변수 : 단순히 서로 다른 속성으로 분류되는 것 / 속성들 사이의 서열을 정할 수 없다 ex) 성별, 종교, 출생지역, 인종\n",
    "# cyl의 종류에 따라 자동0, 수동1 개수 보여줌 / 각각의 값 교차해서 빈도수 구해줌 "
   ]
  },
  {
   "cell_type": "code",
   "execution_count": 8,
   "metadata": {},
   "outputs": [
    {
     "data": {
      "text/plain": [
       "   \n",
       "    automatic manual\n",
       "  4         3      8\n",
       "  6         4      3\n",
       "  8        12      2"
      ]
     },
     "metadata": {},
     "output_type": "display_data"
    },
    {
     "data": {
      "text/html": [
       "<table>\n",
       "<thead><tr><th></th><th scope=col>automatic</th><th scope=col>manual</th><th scope=col>Sum</th></tr></thead>\n",
       "<tbody>\n",
       "\t<tr><th scope=row>4</th><td> 3</td><td> 8</td><td>11</td></tr>\n",
       "\t<tr><th scope=row>6</th><td> 4</td><td> 3</td><td> 7</td></tr>\n",
       "\t<tr><th scope=row>8</th><td>12</td><td> 2</td><td>14</td></tr>\n",
       "\t<tr><th scope=row>Sum</th><td>19</td><td>13</td><td>32</td></tr>\n",
       "</tbody>\n",
       "</table>\n"
      ],
      "text/latex": [
       "\\begin{tabular}{r|lll}\n",
       "  & automatic & manual & Sum\\\\\n",
       "\\hline\n",
       "\t4 &  3 &  8 & 11\\\\\n",
       "\t6 &  4 &  3 &  7\\\\\n",
       "\t8 & 12 &  2 & 14\\\\\n",
       "\tSum & 19 & 13 & 32\\\\\n",
       "\\end{tabular}\n"
      ],
      "text/markdown": [
       "\n",
       "| <!--/--> | automatic | manual | Sum |\n",
       "|---|---|---|---|\n",
       "| 4 |  3 |  8 | 11 |\n",
       "| 6 |  4 |  3 |  7 |\n",
       "| 8 | 12 |  2 | 14 |\n",
       "| Sum | 19 | 13 | 32 |\n",
       "\n"
      ],
      "text/plain": [
       "     \n",
       "      automatic manual Sum\n",
       "  4    3         8     11 \n",
       "  6    4         3      7 \n",
       "  8   12         2     14 \n",
       "  Sum 19        13     32 "
      ]
     },
     "metadata": {},
     "output_type": "display_data"
    },
    {
     "name": "stderr",
     "output_type": "stream",
     "text": [
      "Warning message in chisq.test(result):\n",
      "\"Chi-squared approximation may be incorrect\""
     ]
    },
    {
     "data": {
      "text/plain": [
       "\n",
       "\tPearson's Chi-squared test\n",
       "\n",
       "data:  result\n",
       "X-squared = 8.7407, df = 2, p-value = 0.01265\n"
      ]
     },
     "metadata": {},
     "output_type": "display_data"
    },
    {
     "data": {
      "text/plain": [
       "\n",
       "\tFisher's Exact Test for Count Data\n",
       "\n",
       "data:  result\n",
       "p-value = 0.009105\n",
       "alternative hypothesis: two.sided\n"
      ]
     },
     "metadata": {},
     "output_type": "display_data"
    }
   ],
   "source": [
    "# 가독성을 위해 테이블 수정\n",
    "\n",
    "## 컬럼 추가\n",
    "mtcars$tm <- ifelse(mtcars$am == 0, \"automatic\", \"manual\")\n",
    "\n",
    "## 테이블 확정\n",
    "result <- table(mtcars$cyl, mtcars$tm)\n",
    "result\n",
    "\n",
    "## addmargins : 행과 열별로 각각의 합계를 보여줌\n",
    "addmargins(result)\n",
    "\n",
    "## 카이제곱\n",
    "chisq.test(result)\n",
    "# p-value = 0.01265   0.05보다 작은 값을 가지므로 대립가설. 실린더수 와 변속기 간의 차이가 있음\n",
    "# 경고메시지 : 카이제곱 정확성은 불확실하다\n",
    "# 셀 안에 기대도수 보다 작은 값들이 있기때문에 나타나는 경고문 \n",
    "\n",
    "## 그럼 fisher's exact test 사용하기\n",
    "fisher.test(result)\n",
    "# p-value = 0.009105   0.05보다 작은 값을 가지므로 대립가설. 실린더수 와 변속기 간의 차이가 있음"
   ]
  },
  {
   "cell_type": "code",
   "execution_count": null,
   "metadata": {},
   "outputs": [],
   "source": []
  },
  {
   "cell_type": "markdown",
   "metadata": {},
   "source": [
    "### 예시2. 시군구에 따른 다자녀 조례 채택여부\n",
    "\n",
    "    시군구에 따라 다자녀 조례 채택여부가 연관이 있는가? \n",
    "    시군구 = 명목변수, 다자녀 = 명목변수 \n",
    "    \n",
    "    귀무가설 : 시군구에 따라 다자녀 조례 채택여부 연관 없다\n",
    "    대립가설 : 시군구에 따라 다자녀 조례 채택여부 연관 있다"
   ]
  },
  {
   "cell_type": "code",
   "execution_count": 31,
   "metadata": {},
   "outputs": [
    {
     "name": "stdout",
     "output_type": "stream",
     "text": [
      "'data.frame':\t226 obs. of  5 variables:\n",
      " $ cities    : chr  \"경기 수원시\" \"경기 성남시\" \"경기 의정부시\" \"경기 안양시\" ...\n",
      " $ birth_rate: num  1.29 1.16 1.1 1.18 1.07 ...\n",
      " $ ad_layer  : chr  \"자치시\" \"자치시\" \"자치시\" \"자치시\" ...\n",
      " $ multichild: chr  \"NO\" \"NO\" \"NO\" \"NO\" ...\n",
      " $ ID        : int  1 2 3 4 5 6 7 8 9 10 ...\n"
     ]
    },
    {
     "data": {
      "text/html": [
       "<table>\n",
       "<thead><tr><th scope=col>cities</th><th scope=col>birth_rate</th><th scope=col>ad_layer</th><th scope=col>multichild</th><th scope=col>ID</th></tr></thead>\n",
       "<tbody>\n",
       "\t<tr><td>경기 수원시  </td><td>1.292        </td><td>자치시       </td><td>NO           </td><td>1            </td></tr>\n",
       "\t<tr><td>경기 성남시  </td><td>1.159        </td><td>자치시       </td><td>NO           </td><td>2            </td></tr>\n",
       "\t<tr><td>경기 의정부시</td><td>1.104        </td><td>자치시       </td><td>NO           </td><td>3            </td></tr>\n",
       "\t<tr><td>경기 안양시  </td><td>1.177        </td><td>자치시       </td><td>NO           </td><td>4            </td></tr>\n",
       "\t<tr><td>경기 부천시  </td><td>1.072        </td><td>자치시       </td><td>NO           </td><td>5            </td></tr>\n",
       "\t<tr><td>경기 광명시  </td><td>1.235        </td><td>자치시       </td><td>NO           </td><td>6            </td></tr>\n",
       "</tbody>\n",
       "</table>\n"
      ],
      "text/latex": [
       "\\begin{tabular}{r|lllll}\n",
       " cities & birth\\_rate & ad\\_layer & multichild & ID\\\\\n",
       "\\hline\n",
       "\t 경기 수원시   & 1.292         & 자치시        & NO            & 1            \\\\\n",
       "\t 경기 성남시   & 1.159         & 자치시        & NO            & 2            \\\\\n",
       "\t 경기 의정부시 & 1.104         & 자치시        & NO            & 3            \\\\\n",
       "\t 경기 안양시   & 1.177         & 자치시        & NO            & 4            \\\\\n",
       "\t 경기 부천시   & 1.072         & 자치시        & NO            & 5            \\\\\n",
       "\t 경기 광명시   & 1.235         & 자치시        & NO            & 6            \\\\\n",
       "\\end{tabular}\n"
      ],
      "text/markdown": [
       "\n",
       "| cities | birth_rate | ad_layer | multichild | ID |\n",
       "|---|---|---|---|---|\n",
       "| 경기 수원시   | 1.292         | 자치시        | NO            | 1             |\n",
       "| 경기 성남시   | 1.159         | 자치시        | NO            | 2             |\n",
       "| 경기 의정부시 | 1.104         | 자치시        | NO            | 3             |\n",
       "| 경기 안양시   | 1.177         | 자치시        | NO            | 4             |\n",
       "| 경기 부천시   | 1.072         | 자치시        | NO            | 5             |\n",
       "| 경기 광명시   | 1.235         | 자치시        | NO            | 6             |\n",
       "\n"
      ],
      "text/plain": [
       "  cities        birth_rate ad_layer multichild ID\n",
       "1 경기 수원시   1.292      자치시   NO         1 \n",
       "2 경기 성남시   1.159      자치시   NO         2 \n",
       "3 경기 의정부시 1.104      자치시   NO         3 \n",
       "4 경기 안양시   1.177      자치시   NO         4 \n",
       "5 경기 부천시   1.072      자치시   NO         5 \n",
       "6 경기 광명시   1.235      자치시   NO         6 "
      ]
     },
     "metadata": {},
     "output_type": "display_data"
    },
    {
     "data": {
      "text/plain": [
       "        \n",
       "         NO YES\n",
       "  자치구 64   5\n",
       "  자치군 78   4\n",
       "  자치시 69   6"
      ]
     },
     "metadata": {},
     "output_type": "display_data"
    },
    {
     "name": "stderr",
     "output_type": "stream",
     "text": [
      "Warning message in chisq.test(result2):\n",
      "\"Chi-squared approximation may be incorrect\""
     ]
    },
    {
     "data": {
      "text/plain": [
       "\n",
       "\tPearson's Chi-squared test\n",
       "\n",
       "data:  result2\n",
       "X-squared = 0.67562, df = 2, p-value = 0.7133\n"
      ]
     },
     "metadata": {},
     "output_type": "display_data"
    },
    {
     "data": {
      "text/plain": [
       "\n",
       "\tFisher's Exact Test for Count Data\n",
       "\n",
       "data:  result2\n",
       "p-value = 0.7125\n",
       "alternative hypothesis: two.sided\n"
      ]
     },
     "metadata": {},
     "output_type": "display_data"
    }
   ],
   "source": [
    "# 데이터 준비\n",
    "\n",
    "mydata <- read.csv(\"C:/Users/cho ye seul/Documents/예슬/Acorn/rwork/StatProject/data/anova_two_way.csv\")\n",
    "str(mydata) # 5개의 변수 226개 데이터\n",
    "head(mydata)\n",
    "\n",
    "# 시군구에 따른 채택 여부 개수 알아보기\n",
    "result2 <- table(mydata$ad_layer, mydata$multichild)\n",
    "result2\n",
    "\n",
    "# 카이제곱\n",
    "chisq.test(result2)\n",
    "# p-value = 0.7133  0.05보다 크므로 귀무가설 / 시군구에 따라 다자녀 조례 채택여부 연관 없음\n",
    "# but 경고가 뜨는 것으로 보아 셀 안에 기대도수 값을 못 미치는게 있을것 \n",
    "\n",
    "# 그러므로 fisher 사용하자\n",
    "fisher.test(result2)\n",
    "# p-value = 0.7125  0.05보다 크므로 귀무가설 / 시군구에 따라 다자녀 조례 채택여부 연관 없음"
   ]
  },
  {
   "cell_type": "code",
   "execution_count": null,
   "metadata": {},
   "outputs": [],
   "source": []
  },
  {
   "cell_type": "markdown",
   "metadata": {},
   "source": [
    "### 예시3. 흡연여부와 고혈압의 관계\n",
    "    흡연자, 비흡연자, 과거흡연자(Ex-smoker)와 고혈압(HBP)의 유무가 서로 연관이 있을까?\n",
    "    흡연 유무도 레벨이 있다(=트랜드가 있다)\n",
    "    흡연자 안좋음, 과거흡연자 중간, 비흡연자 좋음\n",
    "    \n",
    "    귀무가설 : 흡연 유무에 따라 고혈압 관계가 있다\n",
    "    대립가설 : 흡연 유무에 따라 고혈압 관계가 없다"
   ]
  },
  {
   "cell_type": "code",
   "execution_count": 12,
   "metadata": {},
   "outputs": [
    {
     "name": "stdout",
     "output_type": "stream",
     "text": [
      "'data.frame':\t857 obs. of  17 variables:\n",
      " $ age             : int  62 78 76 89 56 73 58 62 59 71 ...\n",
      " $ sex             : chr  \"Male\" \"Female\" \"Female\" \"Female\" ...\n",
      " $ cardiogenicShock: chr  \"No\" \"No\" \"Yes\" \"No\" ...\n",
      " $ entry           : chr  \"Femoral\" \"Femoral\" \"Femoral\" \"Femoral\" ...\n",
      " $ Dx              : chr  \"STEMI\" \"STEMI\" \"STEMI\" \"STEMI\" ...\n",
      " $ EF              : num  18 18.4 20 21.8 21.8 22 24.7 26.6 28.5 31.1 ...\n",
      " $ height          : num  168 148 NA 165 162 153 167 160 152 168 ...\n",
      " $ weight          : num  72 48 NA 50 64 59 78 50 67 60 ...\n",
      " $ BMI             : num  25.5 21.9 NA 18.4 24.4 ...\n",
      " $ obesity         : chr  \"Yes\" \"No\" \"No\" \"No\" ...\n",
      " $ TC              : num  215 NA NA 121 195 184 161 136 239 169 ...\n",
      " $ LDLC            : int  154 NA NA 73 151 112 91 88 161 88 ...\n",
      " $ HDLC            : int  35 NA NA 20 36 38 34 33 34 54 ...\n",
      " $ TG              : int  155 166 NA 89 63 137 196 30 118 141 ...\n",
      " $ DM              : chr  \"Yes\" \"No\" \"No\" \"No\" ...\n",
      " $ HBP             : chr  \"No\" \"Yes\" \"Yes\" \"No\" ...\n",
      " $ smoking         : chr  \"Smoker\" \"Never\" \"Never\" \"Never\" ...\n"
     ]
    },
    {
     "data": {
      "text/html": [
       "<table>\n",
       "<thead><tr><th scope=col>age</th><th scope=col>sex</th><th scope=col>cardiogenicShock</th><th scope=col>entry</th><th scope=col>Dx</th><th scope=col>EF</th><th scope=col>height</th><th scope=col>weight</th><th scope=col>BMI</th><th scope=col>obesity</th><th scope=col>TC</th><th scope=col>LDLC</th><th scope=col>HDLC</th><th scope=col>TG</th><th scope=col>DM</th><th scope=col>HBP</th><th scope=col>smoking</th></tr></thead>\n",
       "<tbody>\n",
       "\t<tr><td>62             </td><td>Male           </td><td>No             </td><td>Femoral        </td><td>STEMI          </td><td>18.0           </td><td>168            </td><td>72             </td><td>25.51020       </td><td>Yes            </td><td>215            </td><td>154            </td><td>35             </td><td>155            </td><td>Yes            </td><td>No             </td><td>Smoker         </td></tr>\n",
       "\t<tr><td>78             </td><td>Female         </td><td>No             </td><td>Femoral        </td><td>STEMI          </td><td>18.4           </td><td>148            </td><td>48             </td><td>21.91381       </td><td>No             </td><td> NA            </td><td> NA            </td><td>NA             </td><td>166            </td><td>No             </td><td>Yes            </td><td>Never          </td></tr>\n",
       "\t<tr><td>76             </td><td>Female         </td><td>Yes            </td><td>Femoral        </td><td>STEMI          </td><td>20.0           </td><td> NA            </td><td>NA             </td><td>      NA       </td><td>No             </td><td> NA            </td><td> NA            </td><td>NA             </td><td> NA            </td><td>No             </td><td>Yes            </td><td>Never          </td></tr>\n",
       "\t<tr><td>89             </td><td>Female         </td><td>No             </td><td>Femoral        </td><td>STEMI          </td><td>21.8           </td><td>165            </td><td>50             </td><td>18.36547       </td><td>No             </td><td>121            </td><td> 73            </td><td>20             </td><td> 89            </td><td>No             </td><td>No             </td><td>Never          </td></tr>\n",
       "\t<tr><td>56             </td><td>Male           </td><td>No             </td><td>Radial         </td><td>NSTEMI         </td><td>21.8           </td><td>162            </td><td>64             </td><td>24.38653       </td><td>No             </td><td>195            </td><td>151            </td><td>36             </td><td> 63            </td><td>Yes            </td><td>Yes            </td><td>Smoker         </td></tr>\n",
       "\t<tr><td>73             </td><td>Female         </td><td>No             </td><td>Radial         </td><td>Unstable Angina</td><td>22.0           </td><td>153            </td><td>59             </td><td>25.20398       </td><td>Yes            </td><td>184            </td><td>112            </td><td>38             </td><td>137            </td><td>Yes            </td><td>Yes            </td><td>Never          </td></tr>\n",
       "</tbody>\n",
       "</table>\n"
      ],
      "text/latex": [
       "\\begin{tabular}{r|lllllllllllllllll}\n",
       " age & sex & cardiogenicShock & entry & Dx & EF & height & weight & BMI & obesity & TC & LDLC & HDLC & TG & DM & HBP & smoking\\\\\n",
       "\\hline\n",
       "\t 62              & Male            & No              & Femoral         & STEMI           & 18.0            & 168             & 72              & 25.51020        & Yes             & 215             & 154             & 35              & 155             & Yes             & No              & Smoker         \\\\\n",
       "\t 78              & Female          & No              & Femoral         & STEMI           & 18.4            & 148             & 48              & 21.91381        & No              &  NA             &  NA             & NA              & 166             & No              & Yes             & Never          \\\\\n",
       "\t 76              & Female          & Yes             & Femoral         & STEMI           & 20.0            &  NA             & NA              &       NA        & No              &  NA             &  NA             & NA              &  NA             & No              & Yes             & Never          \\\\\n",
       "\t 89              & Female          & No              & Femoral         & STEMI           & 21.8            & 165             & 50              & 18.36547        & No              & 121             &  73             & 20              &  89             & No              & No              & Never          \\\\\n",
       "\t 56              & Male            & No              & Radial          & NSTEMI          & 21.8            & 162             & 64              & 24.38653        & No              & 195             & 151             & 36              &  63             & Yes             & Yes             & Smoker         \\\\\n",
       "\t 73              & Female          & No              & Radial          & Unstable Angina & 22.0            & 153             & 59              & 25.20398        & Yes             & 184             & 112             & 38              & 137             & Yes             & Yes             & Never          \\\\\n",
       "\\end{tabular}\n"
      ],
      "text/markdown": [
       "\n",
       "| age | sex | cardiogenicShock | entry | Dx | EF | height | weight | BMI | obesity | TC | LDLC | HDLC | TG | DM | HBP | smoking |\n",
       "|---|---|---|---|---|---|---|---|---|---|---|---|---|---|---|---|---|\n",
       "| 62              | Male            | No              | Femoral         | STEMI           | 18.0            | 168             | 72              | 25.51020        | Yes             | 215             | 154             | 35              | 155             | Yes             | No              | Smoker          |\n",
       "| 78              | Female          | No              | Femoral         | STEMI           | 18.4            | 148             | 48              | 21.91381        | No              |  NA             |  NA             | NA              | 166             | No              | Yes             | Never           |\n",
       "| 76              | Female          | Yes             | Femoral         | STEMI           | 20.0            |  NA             | NA              |       NA        | No              |  NA             |  NA             | NA              |  NA             | No              | Yes             | Never           |\n",
       "| 89              | Female          | No              | Femoral         | STEMI           | 21.8            | 165             | 50              | 18.36547        | No              | 121             |  73             | 20              |  89             | No              | No              | Never           |\n",
       "| 56              | Male            | No              | Radial          | NSTEMI          | 21.8            | 162             | 64              | 24.38653        | No              | 195             | 151             | 36              |  63             | Yes             | Yes             | Smoker          |\n",
       "| 73              | Female          | No              | Radial          | Unstable Angina | 22.0            | 153             | 59              | 25.20398        | Yes             | 184             | 112             | 38              | 137             | Yes             | Yes             | Never           |\n",
       "\n"
      ],
      "text/plain": [
       "  age sex    cardiogenicShock entry   Dx              EF   height weight\n",
       "1 62  Male   No               Femoral STEMI           18.0 168    72    \n",
       "2 78  Female No               Femoral STEMI           18.4 148    48    \n",
       "3 76  Female Yes              Femoral STEMI           20.0  NA    NA    \n",
       "4 89  Female No               Femoral STEMI           21.8 165    50    \n",
       "5 56  Male   No               Radial  NSTEMI          21.8 162    64    \n",
       "6 73  Female No               Radial  Unstable Angina 22.0 153    59    \n",
       "  BMI      obesity TC  LDLC HDLC TG  DM  HBP smoking\n",
       "1 25.51020 Yes     215 154  35   155 Yes No  Smoker \n",
       "2 21.91381 No       NA  NA  NA   166 No  Yes Never  \n",
       "3       NA No       NA  NA  NA    NA No  Yes Never  \n",
       "4 18.36547 No      121  73  20    89 No  No  Never  \n",
       "5 24.38653 No      195 151  36    63 Yes Yes Smoker \n",
       "6 25.20398 Yes     184 112  38   137 Yes Yes Never  "
      ]
     },
     "metadata": {},
     "output_type": "display_data"
    },
    {
     "data": {
      "text/plain": [
       "           \n",
       "             No Yes\n",
       "  Ex-smoker  81 123\n",
       "  Never      99 233\n",
       "  Smoker    176 145"
      ]
     },
     "metadata": {},
     "output_type": "display_data"
    }
   ],
   "source": [
    "# 데이터 준비\n",
    "library(moonBook)\n",
    "\n",
    "str(acs)\n",
    "head(acs)\n",
    "\n",
    "table(acs$smoking, acs$HBP)\n",
    "# 흡연유무에 따른 고혈압 여부 # 결과값이 우리가 예측하는 것과는 다를 것 -> 교란변수 인지해야함 "
   ]
  },
  {
   "cell_type": "code",
   "execution_count": 18,
   "metadata": {},
   "outputs": [
    {
     "data": {
      "text/plain": [
       "     \n",
       "      Never Ex-smoker Smoker\n",
       "  No     99        81    176\n",
       "  Yes   233       123    145"
      ]
     },
     "metadata": {},
     "output_type": "display_data"
    },
    {
     "data": {
      "text/html": [
       "<dl class=dl-horizontal>\n",
       "\t<dt>Never</dt>\n",
       "\t\t<dd>233</dd>\n",
       "\t<dt>Ex-smoker</dt>\n",
       "\t\t<dd>123</dd>\n",
       "\t<dt>Smoker</dt>\n",
       "\t\t<dd>145</dd>\n",
       "</dl>\n"
      ],
      "text/latex": [
       "\\begin{description*}\n",
       "\\item[Never] 233\n",
       "\\item[Ex-smoker] 123\n",
       "\\item[Smoker] 145\n",
       "\\end{description*}\n"
      ],
      "text/markdown": [
       "Never\n",
       ":   233Ex-smoker\n",
       ":   123Smoker\n",
       ":   145\n",
       "\n"
      ],
      "text/plain": [
       "    Never Ex-smoker    Smoker \n",
       "      233       123       145 "
      ]
     },
     "metadata": {},
     "output_type": "display_data"
    },
    {
     "data": {
      "text/html": [
       "<dl class=dl-horizontal>\n",
       "\t<dt>Never</dt>\n",
       "\t\t<dd>332</dd>\n",
       "\t<dt>Ex-smoker</dt>\n",
       "\t\t<dd>204</dd>\n",
       "\t<dt>Smoker</dt>\n",
       "\t\t<dd>321</dd>\n",
       "</dl>\n"
      ],
      "text/latex": [
       "\\begin{description*}\n",
       "\\item[Never] 332\n",
       "\\item[Ex-smoker] 204\n",
       "\\item[Smoker] 321\n",
       "\\end{description*}\n"
      ],
      "text/markdown": [
       "Never\n",
       ":   332Ex-smoker\n",
       ":   204Smoker\n",
       ":   321\n",
       "\n"
      ],
      "text/plain": [
       "    Never Ex-smoker    Smoker \n",
       "      332       204       321 "
      ]
     },
     "metadata": {},
     "output_type": "display_data"
    },
    {
     "data": {
      "text/plain": [
       "\n",
       "\tChi-squared Test for Trend in Proportions\n",
       "\n",
       "data:  result[2, ] out of colSums(result) ,\n",
       " using scores: 1 2 3\n",
       "X-squared = 41.967, df = 1, p-value = 9.282e-11\n"
      ]
     },
     "metadata": {},
     "output_type": "display_data"
    },
    {
     "data": {
      "text/plain": [
       "\n",
       "     Descriptive Statistics by 'smoking'     \n",
       "______________________________________________ \n",
       "        Never     Ex-smoker    Smoker      p  \n",
       "       (N=332)     (N=204)     (N=321)  \n",
       "---------------------------------------------- \n",
       " age 66.5 ± 10.7 65.7 ± 11.5 58.5 ± 11.3 0.000\n",
       "---------------------------------------------- "
      ]
     },
     "metadata": {},
     "output_type": "display_data"
    }
   ],
   "source": [
    "# 컬럼의 순서 바꾸기 (트랜드 순으로)\n",
    "acs$smoking <- factor(acs$smoking, levels = c(\"Never\", \"Ex-smoker\", \"Smoker\")) \n",
    "                                 # levels : 컬럼 순서 지정 \n",
    "\n",
    "# 테이블 확정\n",
    "result <- table(acs$HBP, acs$smoking)\n",
    "result\n",
    "\n",
    "# HBP Yes에 해당하는 값 뽑아내기(x)\n",
    "result[2, ]\n",
    "\n",
    "# 각 열의 합계 뽑아내기(n)\n",
    "colSums(result)\n",
    "\n",
    "# Cochran-Amitage trend test : prop.trend.test()\n",
    "prop.trend.test(x=result[2,], n=colSums(result))\n",
    "#  p-value = 9.282e-11 \n",
    "# 0.05보다 낮으므로 흡연 유무 레벨에 따른 고혈압 관계는 매우 낮음을 알수있음.....\n",
    "# 상식으로도 안맞는것 같으니.. 교란변수 찾아보자...\n",
    "\n",
    "# 교란변수 찾기\n",
    "# 나이와 흠연 연부 보기\n",
    "mytable(smoking ~ age, data=acs)\n",
    "# 비흠연자일수록 연령대 평균이 높다는 것을 알 수 있다 smoker들이 대체적으로 젊다\n",
    "# 연령이 높을수록 HBP는 높아진다\n",
    "# 그러므로 나이 변수가 교란변수임을 확인!!"
   ]
  },
  {
   "cell_type": "code",
   "execution_count": 27,
   "metadata": {},
   "outputs": [
    {
     "data": {
      "image/png": "[encoded data removed]",
      "text/plain": [
       "Plot with title \"t(result)\""
      ]
     },
     "metadata": {},
     "output_type": "display_data"
    }
   ],
   "source": [
    "# 시각화\n",
    "\n",
    "## 모자이크 그래프\n",
    "# mosaicplot(result)\n",
    "# mosaicplot(result, color=c(\"tan1\", \"firebrick2\"))\n",
    "\n",
    "## 그래프에 넣어줄 색상 확인(Rstudio에서 해보자)\n",
    "# colors() # 색상 이름 확인 # 밑에 console칸에서 enter 치면 계속 바뀜\n",
    "# demo(\"colors\")  # 색상 표까지(뭔색인지)확인 # 밑에 Console칸에서 enter치면 계속 바뀜\n",
    "\n",
    "## 그래프 행열 위치 변경\n",
    "# t(result) # t : 행과 열의 위치 바꾸기\n",
    "# mosaicplot(t(result), color=c(\"tan1\", \"firebrick2\"))\n",
    "\n",
    "## 타이틀\n",
    "mosaicplot(t(result), color=c(\"tan1\", \"firebrick2\"), ylab=\"Hypertension\", xlab=\"Smoking\")"
   ]
  }
 ],
 "metadata": {
  "kernelspec": {
   "display_name": "R",
   "language": "R",
   "name": "ir"
  },
  "language_info": {
   "codemirror_mode": "r",
   "file_extension": ".r",
   "mimetype": "text/x-r-source",
   "name": "R",
   "pygments_lexer": "r",
   "version": "3.6.1"
  }
 },
 "nbformat": 4,
 "nbformat_minor": 2
}
