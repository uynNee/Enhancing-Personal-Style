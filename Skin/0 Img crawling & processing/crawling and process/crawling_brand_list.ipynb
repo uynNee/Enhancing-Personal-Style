{
 "cells": [
  {
   "cell_type": "markdown",
   "metadata": {},
   "source": [
    "    작성일 : 20/01/03\n",
    "    작성자 : 양희승\n",
    "    작성내용 : 브랜드 목록 크롤링\n",
    "\n",
    "    최종 : 2020-01-04"
   ]
  },
  {
   "cell_type": "code",
   "execution_count": 1,
   "metadata": {},
   "outputs": [],
   "source": [
    "import requests\n",
    "from bs4 import BeautifulSoup\n",
    "import pymysql"
   ]
  },
  {
   "cell_type": "code",
   "execution_count": 2,
   "metadata": {},
   "outputs": [],
   "source": [
    "#DB 연결 데이터 \n",
    "config = {\"host\":\"192.168.0.12\", \"user\":\"musinsa\", \"passwd\":\"1111\", \"db\":\"PR_TEST\"}\n",
    "conn = pymysql.connect(**config)\n",
    "\n",
    "#html 파싱\n",
    "def get_html(url):\n",
    "    html = \"\"\n",
    "    resp = requests.get(url)\n",
    "    \n",
    "    if resp.status_code == 200 :\n",
    "        html = resp.text\n",
    "        \n",
    "    return html"
   ]
  },
  {
   "cell_type": "code",
   "execution_count": 3,
   "metadata": {},
   "outputs": [],
   "source": [
    "#브랜드 목록, 링크 크롤링\n",
    "def crawl_musinsa_brand() :\n",
    "    brands_eng = []           #브랜드명(영문)을 담을 리스트\n",
    "    brands_kor = []       #브랜드명(한글)을 담을 리스트\n",
    "    brand_links = []      #브랜드 링크를 담을 리스트  \n",
    "    brand_codes = []      #브랜드 코드를 담을 리스트\n",
    "    cursor = conn.cursor()\n",
    "    \n",
    "    html = get_html(\"https://store.musinsa.com/app/contents/brandshop\")\n",
    "    soup = BeautifulSoup(html)\n",
    "    \n",
    "\n",
    "    for li in soup('li'):\n",
    "        if('class' in li.attrs\n",
    "            and 'brand_li' in li['class']) :\n",
    "            brands_eng.append(li.dl.dt.a.get_text().strip())\n",
    "            brands_kor.append(li.dl.dd.a.get_text().strip())\n",
    "            brand_links.append(\"https://store.musinsa.com\"+li.dl.dt.a['href'])\n",
    "            brand_codes.append(li.dl.dt.a['href'].replace(\"/app/brand/goods_list/\",\"\"))\n",
    "\n",
    "            \n",
    "    \n",
    "    #DB 적재\n",
    "#     sql = \"\"\n",
    "#     for i in range(len(brands_eng)) :\n",
    "        \n",
    "#         data = [str(i+1), brands_eng[i], brands_kor[i], brand_links[i], brand_codes[i]]\n",
    "#         #sql = \"INSERT INTO BRAND_LIST(BRD_NAME, BRD_LINK, BRD_CODE) VALUES(\"+ brands[i] + \", \" + brand_links[i] + \", \" + brand_codes[i] +\")\"\n",
    "#         #cursor.execute(sql)\n",
    "#         cursor.execute(\"insert into BRAND_LIST(BRD_NO, BRD_NAME_ENG, BRD_NAME_KOR, BRD_LINK, BRD_CODE) values(%s, %s, %s, %s, %s)\", data)\n",
    "#         conn.commit()\n",
    "    \n",
    "    \n",
    "    \n",
    "    \n",
    "    #그냥 출력용\n",
    "    for i in range(len(brands_eng)) :\n",
    "        print(\"No.\" + str(i+1) + \"\\n\"\n",
    "              + \"브랜드명(영문) : \" + brands_eng[i] + \"\\n\"\n",
    "              + \"브랜드명(한글) : \" + brands_kor[i] + \"\\n\"\n",
    "              + \"브랜드 링크 : \" + brand_links[i] + \"\\n\"\n",
    "              + \"브랜드 코드 : \" + brand_codes[i] + \"\\n\"\n",
    "             )\n",
    "\n",
    "#     #CSV파일로 저장\n",
    "#     file = csv.writer(open(\"data/brand.csv\", \"w\"), delimiter = \",\")\n",
    "#     header = [\"No\", \"BRD_NAME_ENG\", \"BRD_NAME_KOR\", \"BRD_LINK\", \"BRD_CODE\"]  \n",
    "#     file.writerow(header)\n",
    "#     brd_tuple = ()\n",
    "#     for i in range(len(brands)) :\n",
    "#         brd_tuple = (str(i+1), brands_eng[i], brands_kor[i], brand_links[i], brand_codes[i])\n",
    "#         file.writerow(brd_tuple)"
   ]
  },
  {
   "cell_type": "code",
   "execution_count": null,
   "metadata": {},
   "outputs": [],
   "source": []
  }
 ],
 "metadata": {
  "kernelspec": {
   "display_name": "Python 3",
   "language": "python",
   "name": "python3"
  },
  "language_info": {
   "codemirror_mode": {
    "name": "ipython",
    "version": 3
   },
   "file_extension": ".py",
   "mimetype": "text/x-python",
   "name": "python",
   "nbconvert_exporter": "python",
   "pygments_lexer": "ipython3",
   "version": "3.6.8"
  }
 },
 "nbformat": 4,
 "nbformat_minor": 2
}
