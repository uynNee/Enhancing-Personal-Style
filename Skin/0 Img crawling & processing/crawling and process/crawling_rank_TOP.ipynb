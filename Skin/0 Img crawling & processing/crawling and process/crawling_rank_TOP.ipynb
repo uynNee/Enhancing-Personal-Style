{
 "cells": [
  {
   "cell_type": "markdown",
   "metadata": {},
   "source": [
    "    작성일 : 20/01/04  \n",
    "    작성자 : 양희승  \n",
    "    작성내용 : 모든 상품 랭킹 크롤링  \n",
    "\n",
    "    수정 : 2020-02-17  \n",
    "    수정 내용 : 기말프로젝트로 인하여 상의(TOP) 랭크만 가져오도록"
   ]
  },
  {
   "cell_type": "code",
   "execution_count": 2,
   "metadata": {},
   "outputs": [],
   "source": [
    "import requests\n",
    "from bs4 import BeautifulSoup\n",
    "import pymysql\n",
    "import re"
   ]
  },
  {
   "cell_type": "code",
   "execution_count": 3,
   "metadata": {},
   "outputs": [],
   "source": [
    "#DB 연결 데이터 \n",
    "config = {\"host\":\"192.168.0.45\", \"user\":\"musinsa\", \"passwd\":\"1111\", \"db\":\"PR_TEST\"}\n",
    "conn = pymysql.connect(**config)"
   ]
  },
  {
   "cell_type": "code",
   "execution_count": 4,
   "metadata": {},
   "outputs": [],
   "source": [
    "# 숫자, 특수문자 제거기\n",
    "def cleanText(readData):\n",
    "    p = re.compile(\"[^0-9]\")  #숫자제거\n",
    "    numData = \"\".join(p.findall(readData))\n",
    "    text = re.sub('[-=+,#/\\?:^$.@*\\\"※~&%ㆍ!』\\\\‘|\\(\\)\\[\\]\\<\\>`\\'…》]', '', numData)  #특수문자 제거\n",
    " \n",
    "    return text"
   ]
  },
  {
   "cell_type": "code",
   "execution_count": 5,
   "metadata": {},
   "outputs": [],
   "source": [
    "#html 파싱\n",
    "def get_html(url):\n",
    "    html = \"\"\n",
    "    resp = requests.get(url)\n",
    "    \n",
    "    if resp.status_code == 200 :\n",
    "        html = resp.text\n",
    "        \n",
    "    return html"
   ]
  },
  {
   "cell_type": "code",
   "execution_count": 6,
   "metadata": {},
   "outputs": [],
   "source": [
    "def get_cnt(url) :\n",
    "    cnt_list = []\n",
    "    \n",
    "    #자바 스크립트 처리 (Selenium)\n",
    "    options = Options()\n",
    "    options.headless = True\n",
    "    driver = webdriver.Chrome(executable_path=\"./chromedriver.exe\", options=options)\n",
    "    driver.implicitly_wait(1)\n",
    "    driver.get(url)    \n",
    "    driver.find_element_by_xpath(\"//li[@class='graph_title_purchase']\").click()\n",
    "    \n",
    "    c = driver.page_source\n",
    "    soup = BeautifulSoup(c)\n",
    "    \n",
    "    #판매량, 조회수, 좋아요 크롤링\n",
    "    for product_info in soup(\"div\", class_=\"product_article\") :\n",
    "        #조회수\n",
    "        for purchase in product_info(\"ul\", class_=\"product_article\") :\n",
    "            print(\"내용 : \" + ul.li.get_text())\n",
    "        \n",
    "        #좋아요\n",
    "        for likes in product_info(\"li\", class_=\"product_section_like\") :\n",
    "            print(\"좋아요 : \" + likes.p.span.get_text)\n",
    "            \n",
    "        \n",
    "    \n",
    "    return cnt_list"
   ]
  },
  {
   "cell_type": "code",
   "execution_count": 7,
   "metadata": {},
   "outputs": [],
   "source": [
    "#각 랭킹 크롤링\n",
    "def crawl_musinsa_rank(url, table_name):\n",
    "    ranks = []        #랭크 담기 위한 리스트\n",
    "    brands = []       #브랜드명(한글)을 담기 위한 리스트\n",
    "    products = []    #상품명, 링크, 코드 담기 위한 리스트\n",
    "    \n",
    "    \n",
    "    html = get_html(url)\n",
    "    \n",
    "    soup = BeautifulSoup(html)\n",
    "    \n",
    "    \n",
    "    #랭크 담기\n",
    "    temp= []\n",
    "    for li in soup('li', class_=\"li_box\") :\n",
    "        \n",
    "        \n",
    "        #랭크 뽑기\n",
    "        for rank_p in li('p', class_=\"n-label\") :\n",
    "            temp = rank_p.get_text().replace(\"\\t\",\"\").replace(\"\\n\",\"\").strip().split(\"위\")\n",
    "            ranks.append([\"prdt_rank\", temp[0]])\n",
    "            \n",
    "        dict_rank = dict(ranks)                              \n",
    "        \n",
    "            \n",
    "#         #브랜드명(한글) 뽑기\n",
    "        for brand_p in li('p', class_=\"item_title\") :\n",
    "            for brand_p2 in brand_p('a') :\n",
    "                brd_name = brand_p2.get_text().strip()\n",
    "                brands.append([\"brd_name_kor\", brd_name])\n",
    "                \n",
    "        dict_brand = dict(brands)                      \n",
    "        \n",
    "                              \n",
    "        #상품명, 상품링크, 상품코드 뽑기\n",
    "        for product_p in li('p', class_=\"list_info\") :\n",
    "            products.append([\"prdt_name\", product_p.a.get_text().strip()])\n",
    "            products.append([\"prdt_link\", \"https://store.musinsa.com\"+product_p.a['href']])\n",
    "            products.append([\"prdt_code\", product_p.a['href'].replace(\"/app/product/detail/\", \"\").replace(\"/0\",\"\")])\n",
    "        \n",
    "        dict_product = dict(products)\n",
    "        \n",
    "        \n",
    "        \n",
    "        #맞는지 확인하려고 만든 출력\n",
    "#         print(\"랭크 : \"+dict_rank.get(\"prdt_rank\", '오류'), \n",
    "#               \"\\n브랜드명 : \" + dict_brand.get(\"brd_name_kor\", \"오류\"), \n",
    "#               \"\\n상품명 : \" + dict_product.get(\"prdt_name\", \"오류\"),\n",
    "#               \"\\n상품링크 : \" + dict_product.get(\"prdt_link\", \"오류\"),\n",
    "#               \"\\n상품코드 : \" + dict_product.get(\"prdt_code\", \"오류\"))\n",
    "#         print()  #그냥 보기 편하게 한칸 띄울려구               \n",
    "        \n",
    "    \n",
    "        # DB 적재\n",
    "        cursor = conn.cursor()\n",
    "        sql = \"INSERT INTO \" + table_name\n",
    "        data = [dict_rank.get(\"prdt_rank\", '오류'),\n",
    "                dict_brand.get(\"brd_name_kor\", \"오류\"),\n",
    "                dict_product.get(\"prdt_name\", \"오류\"),\n",
    "                dict_product.get(\"prdt_link\", \"오류\"),\n",
    "                dict_product.get(\"prdt_code\", \"오류\")\n",
    "               ]\n",
    "        \n",
    "        \n",
    "        \n",
    "        cursor.execute(sql+\"(PRDT_RANK, BRD_NAME_KOR, PRDT_NAME, PRDT_LINK, PRDT_CODE) \\\n",
    "                       VALUES(%s, %s, %s, %s, %s)\", data)        \n",
    "#         print(data)\n",
    "        conn.commit()     \n",
    "        \n",
    "    print(\"한페이지 완료 : \" + table_name )"
   ]
  },
  {
   "cell_type": "code",
   "execution_count": null,
   "metadata": {},
   "outputs": [],
   "source": []
  },
  {
   "cell_type": "code",
   "execution_count": 8,
   "metadata": {},
   "outputs": [
    {
     "name": "stdout",
     "output_type": "stream",
     "text": [
      "한페이지 완료 : RANK_TOP\n",
      "1 페이지 완료\n",
      "한페이지 완료 : RANK_TOP\n",
      "2 페이지 완료\n"
     ]
    }
   ],
   "source": [
    "url_front = \"https://store.musinsa.com/app/contents/bestranking/?d_cat_cd=&u_cat_cd=\"\n",
    "url_front2 = \"&range=1d&price=&ex_soldout=&sale_goods=&new_product_yn=&list_kind=&page=\"\n",
    "url_end = \"&display_cnt=80&sex=&popup=&sale_rate=&price1=&price2=&chk_new_product_yn=&chk_sale=&chk_soldout=\"\n",
    "\n",
    "\n",
    "top_info = {\"url_code\" : \"001\" , \"table_name\" : \"RANK_TOP\"}\n",
    "\n",
    "# 100페이지 여부(O) /코드 001/\n",
    "for i in range(1, 3, 1) :\n",
    "    crawl_musinsa_rank(url_front + top_info[\"url_code\"] + url_front2 + str(i) + url_end, top_info[\"table_name\"])\n",
    "    print(str(i) + \" 페이지 완료\")\n",
    "    \n",
    "conn.close()"
   ]
  },
  {
   "cell_type": "code",
   "execution_count": null,
   "metadata": {},
   "outputs": [],
   "source": []
  },
  {
   "cell_type": "code",
   "execution_count": null,
   "metadata": {},
   "outputs": [],
   "source": []
  },
  {
   "cell_type": "code",
   "execution_count": null,
   "metadata": {},
   "outputs": [],
   "source": []
  }
 ],
 "metadata": {
  "kernelspec": {
   "display_name": "Python 3",
   "language": "python",
   "name": "python3"
  },
  "language_info": {
   "codemirror_mode": {
    "name": "ipython",
    "version": 3
   },
   "file_extension": ".py",
   "mimetype": "text/x-python",
   "name": "python",
   "nbconvert_exporter": "python",
   "pygments_lexer": "ipython3",
   "version": "3.6.8"
  }
 },
 "nbformat": 4,
 "nbformat_minor": 2
}
