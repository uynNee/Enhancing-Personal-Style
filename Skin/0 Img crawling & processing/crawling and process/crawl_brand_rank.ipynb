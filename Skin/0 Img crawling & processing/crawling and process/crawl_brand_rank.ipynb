{
 "cells": [
  {
   "cell_type": "markdown",
   "metadata": {},
   "source": [
    "    작성일 : 20/02/17\n",
    "    작성자 : 양희승\n",
    "    \n",
    "    작성내용 : 무신사 브랜드 랭킹 크롤링\n",
    "    "
   ]
  },
  {
   "cell_type": "code",
   "execution_count": 2,
   "metadata": {},
   "outputs": [],
   "source": [
    "import requests, pymysql, math, re, time\n",
    "from bs4 import BeautifulSoup"
   ]
  },
  {
   "cell_type": "code",
   "execution_count": 3,
   "metadata": {},
   "outputs": [],
   "source": [
    "## DB 연결 데이터 \n",
    "config = {\"host\":\"192.168.0.12\", \"user\":\"musinsa\", \"passwd\":\"1111\", \"db\":\"PR_TEST\"}\n",
    "conn = pymysql.connect(**config)"
   ]
  },
  {
   "cell_type": "code",
   "execution_count": 12,
   "metadata": {},
   "outputs": [
    {
     "data": {
      "text/plain": [
       "'\\nCREATE TABLE IF NOT EXISTS BRAND_RANK(\\n    RANK_RANGE      VARCHAR(10),\\n    RANK_SORT       VARCHAR(10),\\n    BRD_RANK        VARCHAR(5),\\n    BRD_CODE        VARCHAR(50),\\n    LOAD_DATE       TIMESTAMP DEFAULT CURRENT_TIMESTAMP()\\n);\\n'"
      ]
     },
     "execution_count": 12,
     "metadata": {},
     "output_type": "execute_result"
    }
   ],
   "source": [
    "\"\"\"\n",
    "CREATE TABLE IF NOT EXISTS BRAND_RANK(\n",
    "    RANK_RANGE      VARCHAR(10),\n",
    "    RANK_SORT       VARCHAR(10),\n",
    "    BRD_RANK        VARCHAR(5),\n",
    "    BRD_CODE        VARCHAR(50),\n",
    "    LOAD_DATE       TIMESTAMP DEFAULT CURRENT_TIMESTAMP()\n",
    ");\n",
    "\"\"\""
   ]
  },
  {
   "cell_type": "code",
   "execution_count": 4,
   "metadata": {
    "scrolled": true
   },
   "outputs": [
    {
     "name": "stdout",
     "output_type": "stream",
     "text": [
      "HTTP Status : True\n",
      "1d_pop_완료\n",
      "HTTP Status : True\n",
      "1d_cnt_완료\n",
      "HTTP Status : True\n",
      "1d_amt_완료\n",
      "HTTP Status : True\n",
      "1d_pv_완료\n",
      "HTTP Status : True\n",
      "1w_pop_완료\n",
      "HTTP Status : True\n",
      "1w_cnt_완료\n",
      "HTTP Status : True\n",
      "1w_amt_완료\n",
      "HTTP Status : True\n",
      "1w_pv_완료\n",
      "HTTP Status : True\n",
      "1m_pop_완료\n",
      "HTTP Status : True\n",
      "1m_cnt_완료\n",
      "HTTP Status : True\n",
      "1m_amt_완료\n",
      "HTTP Status : True\n",
      "1m_pv_완료\n",
      "HTTP Status : True\n",
      "1y_pop_완료\n",
      "HTTP Status : True\n",
      "1y_cnt_완료\n",
      "HTTP Status : True\n",
      "1y_amt_완료\n",
      "HTTP Status : True\n",
      "1y_pv_완료\n",
      "--- %s seconds --- 7.489039421081543\n"
     ]
    }
   ],
   "source": [
    "## html 파싱\n",
    "def get_html(url):\n",
    "    html = \"\"\n",
    "    req = requests.get(url)\n",
    "    \n",
    "    if req.status_code == 200 :\n",
    "        html = req.text\n",
    "        \n",
    "    return html, req.ok\n",
    "\n",
    "## Rank Brand SORT URL 가져오기\n",
    "rank_range = [\"1d\", \"1w\", \"1m\", \"1y\"]\n",
    "sort = [\"\", \"sale_cnt\", \"sale_amt\", \"pv\"]\n",
    "\n",
    "startTime = time.time()\n",
    "\n",
    "## 랭킹 기간\n",
    "for r in rank_range:\n",
    "## 랭킹 기준\n",
    "    for s in sort:\n",
    "        html, req = get_html(\"https://store.musinsa.com/app/usr/brand_rank?d_cat_cd=&u_cat_cd=&range=\"\\\n",
    "                             +r+\"&sex=&popup=&page=&sort=\"+s)\n",
    "        soup = BeautifulSoup(html, 'html.parser')\n",
    "        print(\"HTTP Status :\", req)\n",
    "\n",
    "        brand = []\n",
    "\n",
    "    ## 랭크 종류 입력\n",
    "        brand.append([\"rank_range\", r])\n",
    "        if s == \"\":\n",
    "            brand.append([\"rank_sort\", \"pop\"])\n",
    "        elif s == \"sale_cnt\":\n",
    "            brand.append([\"rank_sort\", \"cnt\"])\n",
    "        elif s == \"sale_amt\":\n",
    "            brand.append([\"rank_sort\", \"amt\"])\n",
    "        else:\n",
    "            brand.append([\"rank_sort\", \"pv\"])\n",
    "\n",
    "    ## 브랜드 코드, 랭크 가져오기\n",
    "        for inner in soup.find_all(\"div\", class_=\"li_inner\"):        \n",
    "            rank = inner.find(\"p\", class_=\"n-label label-default txt_num_rank\").text\n",
    "            brand.append([\"brd_rank\", str(rank[:rank.index(\"위\")].strip())])\n",
    "            brand.append([\"brd_code\", inner.find(\"p\", class_=\"brand_name\").find(\"a\").get(\"href\")[22:].strip()])\n",
    "\n",
    "            dict_brand = dict(brand)\n",
    "\n",
    "        ## DB 적재\n",
    "            cursor = conn.cursor()\n",
    "            sql = \"INSERT INTO BRAND_RANK(RANK_RANGE, RANK_SORT, BRD_RANK, BRD_CODE) VALUES(\"\\\n",
    "                 + \"'\" + dict_brand.get(\"rank_range\", '오류') +\"'\" +  \",\"\\\n",
    "                 + \"'\" + dict_brand.get(\"rank_sort\", '오류') +\"'\" +  \",\"\\\n",
    "                 + \"'\" + dict_brand.get(\"brd_rank\", '오류') +\"'\" +  \",\"\\\n",
    "                 + \"'\" + dict_brand.get(\"brd_code\", '오류') +\"'\" + \");\"\n",
    "\n",
    "            cursor.execute(sql)\n",
    "            conn.commit()\n",
    "\n",
    "        print(r+\"_\"+dict_brand.get(\"rank_sort\", '오류')+\"_완료\")\n",
    "\n",
    "conn.close()\n",
    "print(\"--- %s seconds ---\",(time.time() - startTime))"
   ]
  },
  {
   "cell_type": "code",
   "execution_count": null,
   "metadata": {},
   "outputs": [],
   "source": []
  }
 ],
 "metadata": {
  "kernelspec": {
   "display_name": "Python 3",
   "language": "python",
   "name": "python3"
  },
  "language_info": {
   "codemirror_mode": {
    "name": "ipython",
    "version": 3
   },
   "file_extension": ".py",
   "mimetype": "text/x-python",
   "name": "python",
   "nbconvert_exporter": "python",
   "pygments_lexer": "ipython3",
   "version": "3.6.8"
  }
 },
 "nbformat": 4,
 "nbformat_minor": 2
}
